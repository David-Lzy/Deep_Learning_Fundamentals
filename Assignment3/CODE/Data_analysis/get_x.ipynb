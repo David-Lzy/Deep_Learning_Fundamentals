{
 "cells": [
  {
   "cell_type": "code",
   "execution_count": 1,
   "metadata": {},
   "outputs": [],
   "source": [
    "import os\n",
    "import sys\n",
    "import getpass\n",
    "from binance.spot import Spot\n",
    "\n",
    "__file__ = %pwd\n",
    "sys.path.append(os.path.join(os.sep, *os.path.abspath(__file__).split(os.sep)[:-2]))\n",
    "from CODE.Utils.encrypt import *\n",
    "from CODE.Utils.encrypt import Encrypted_API_key\n",
    "from CODE.Utils.encrypt import Encrypted_API_secret\n",
    "from CODE.Utils.utils import *\n",
    "from CODE.Utils.indicators import *"
   ]
  },
  {
   "cell_type": "code",
   "execution_count": 2,
   "metadata": {},
   "outputs": [],
   "source": [
    "df = pd.read_csv(\n",
    "    \"/Project/David_Li/Works/Courses/4339_COMP_SCI_7318_Deep_Learning_Fundamentals/Assignment3/DATA/RAW/1d/1514758223872.csv\"\n",
    ")"
   ]
  },
  {
   "cell_type": "code",
   "execution_count": 3,
   "metadata": {},
   "outputs": [],
   "source": [
    "# Calculate 10-period SMA and EMA for the 'Close' price\n",
    "period = 10\n",
    "df[\"SMA_10\"] = calculate_sma(df[\"Close\"], period)\n",
    "df[\"EMA_10\"] = calculate_ema(df[\"Close\"], period)\n",
    "df[\"RSI_14\"] = calculate_rsi(df, period)\n",
    "calculate_bollinger_bands(df, n=period, num_std=2)\n",
    "calculate_ATR(df)\n",
    "calculate_OBV(df)"
   ]
  },
  {
   "cell_type": "code",
   "execution_count": 9,
   "metadata": {},
   "outputs": [],
   "source": [
    "df.to_csv(\"temp.csv\")"
   ]
  },
  {
   "cell_type": "code",
   "execution_count": null,
   "metadata": {},
   "outputs": [],
   "source": []
  }
 ],
 "metadata": {
  "kernelspec": {
   "display_name": "pytorch_gpu",
   "language": "python",
   "name": "python3"
  },
  "language_info": {
   "codemirror_mode": {
    "name": "ipython",
    "version": 3
   },
   "file_extension": ".py",
   "mimetype": "text/x-python",
   "name": "python",
   "nbconvert_exporter": "python",
   "pygments_lexer": "ipython3",
   "version": "3.11.5"
  }
 },
 "nbformat": 4,
 "nbformat_minor": 2
}
