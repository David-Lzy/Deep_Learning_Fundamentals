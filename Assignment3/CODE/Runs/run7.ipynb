{
 "cells": [
  {
   "cell_type": "code",
   "execution_count": 1,
   "metadata": {},
   "outputs": [
    {
     "name": "stdout",
     "output_type": "stream",
     "text": [
      "/homes/David_Li/Mega/University_of_Adelaide/Works/Courses/4339_COMP_SCI_7318_Deep_Learning_Fundamentals/Assignment3\n",
      "/homes/David_Li/Mega/University_of_Adelaide/Works/Courses/4339_COMP_SCI_7318_Deep_Learning_Fundamentals/Assignment3\n"
     ]
    }
   ],
   "source": [
    "import os\n",
    "import sys\n",
    "import getpass\n",
    "from binance.spot import Spot\n",
    "\n",
    "__file__ = %pwd\n",
    "loc_list = os.path.abspath(__file__).split(os.sep)\n",
    "HOME_LOC = os.path.join(os.sep, *loc_list[:-2])\n",
    "sys.path.append(HOME_LOC)\n",
    "os.chdir(HOME_LOC)\n",
    "from CODE.Utils.encrypt import *\n",
    "from CODE.Utils.encrypt import Encrypted_API_key\n",
    "from CODE.Utils.encrypt import Encrypted_API_secret\n",
    "from CODE.Utils.utils import *\n",
    "from CODE.Utils.indicators import *\n",
    "from CODE.Utils.normalize import *\n",
    "from CODE.Runner import *\n",
    "from CODE.RNN import *\n"
   ]
  },
  {
   "cell_type": "code",
   "execution_count": 2,
   "metadata": {},
   "outputs": [],
   "source": [
    "file_paths = load_and_sort_files(os.path.join(HOME_LOC, \"DATA\", \"RAW\", \"1d\"))"
   ]
  },
  {
   "cell_type": "code",
   "execution_count": 3,
   "metadata": {},
   "outputs": [],
   "source": [
    "def run_various_models(\n",
    "    conv_configs,\n",
    "    rnn_configs,\n",
    "    num_epochs,\n",
    "    iter_n,\n",
    "    save_dir,\n",
    "    silent=False,\n",
    "    data_len_list=None,\n",
    "    batch_size=1,\n",
    "):\n",
    "    if data_len_list is None:\n",
    "        data_len_list = len(file_paths)  # 数据长度列表\n",
    "    for len_ in data_len_list:\n",
    "        train_X, train_Y, test_X, test_Y = split_data(\n",
    "            file_paths[(len(file_paths) - len_ - 1) :],\n",
    "            train_ratio=(len_ - 10) / len_,\n",
    "            x_length=58,\n",
    "            y_length=2,\n",
    "        )\n",
    "\n",
    "        num_channels = train_X.shape[-1]  # 通道数，对应于特征数\n",
    "        output_size = train_Y.shape[-1]  # 输出尺寸\n",
    "\n",
    "        for conv_config in conv_configs:\n",
    "            for hidden_size, num_rnn_layers in rnn_configs:\n",
    "                model_p = {\n",
    "                    \"conv_layers_config\": conv_config,\n",
    "                    \"num_channels\": num_channels,\n",
    "                    \"output_size\": output_size,\n",
    "                    \"data_len\": train_X.shape[1],\n",
    "                    \"hidden_size\": hidden_size,\n",
    "                    \"num_rnn_layers\": num_rnn_layers,\n",
    "                }\n",
    "\n",
    "                # 创建模型和训练器\n",
    "                trainer = GroupedTrainer(\n",
    "                    model=FlexibleRNN,\n",
    "                    data=(train_X, test_X, train_Y, test_Y),\n",
    "                    batch_size=batch_size,\n",
    "                    model_p=model_p,\n",
    "                    learning_rate=0.001,\n",
    "                    weight_decay=0.0,\n",
    "                )\n",
    "                # trainer.criterion = nn.MSELoss()\n",
    "\n",
    "                # 训练模型\n",
    "                trainer.train(\n",
    "                    num_epochs,\n",
    "                    iter_n=iter_n,\n",
    "                    silent=silent,\n",
    "                )\n",
    "\n",
    "                # 保存结果到CSV\n",
    "                file_name = f\"{save_dir}/dataset_len_{len_}_conv_{len(conv_config)}_rnn_{num_rnn_layers}_hidden_{hidden_size}.csv\"\n",
    "                trainer.save_metrics_to_csv(file_name)"
   ]
  },
  {
   "cell_type": "code",
   "execution_count": 4,
   "metadata": {},
   "outputs": [
    {
     "name": "stderr",
     "output_type": "stream",
     "text": [
      "Processing Training Files: 100%|██████████| 90/90 [00:06<00:00, 13.18it/s]\n",
      "Processing Testing Files: 100%|██████████| 11/11 [00:00<00:00, 13.50it/s]\n",
      "100%|██████████| 50/50 [00:02<00:00, 20.15it/s]\n",
      "Processing Training Files: 100%|██████████| 190/190 [00:13<00:00, 13.67it/s]\n",
      "Processing Testing Files: 100%|██████████| 11/11 [00:00<00:00, 13.80it/s]\n",
      "100%|██████████| 50/50 [00:01<00:00, 26.00it/s]\n",
      "Processing Training Files: 100%|██████████| 390/390 [00:30<00:00, 13.00it/s]\n",
      "Processing Testing Files: 100%|██████████| 11/11 [00:00<00:00, 13.92it/s]\n",
      "100%|██████████| 50/50 [00:03<00:00, 16.47it/s]\n",
      "Processing Training Files: 100%|██████████| 790/790 [00:59<00:00, 13.30it/s]\n",
      "Processing Testing Files: 100%|██████████| 11/11 [00:00<00:00, 13.54it/s]\n",
      "100%|██████████| 50/50 [00:04<00:00, 10.88it/s]\n",
      "Processing Training Files: 100%|██████████| 1590/1590 [02:00<00:00, 13.19it/s]\n",
      "Processing Testing Files: 100%|██████████| 11/11 [00:00<00:00, 13.35it/s]\n",
      "100%|██████████| 50/50 [00:09<00:00,  5.23it/s]\n",
      "Processing Training Files: 100%|██████████| 3190/3190 [03:54<00:00, 13.60it/s]\n",
      "Processing Testing Files: 100%|██████████| 11/11 [00:00<00:00, 14.20it/s]\n",
      "100%|██████████| 50/50 [00:20<00:00,  2.39it/s]\n"
     ]
    }
   ],
   "source": [
    "# 定义卷积层配置\n",
    "conv_configs = (\n",
    "    [\n",
    "        (128, 3, 2),\n",
    "        (192, 3, 4),\n",
    "        (192, 3, 3),\n",
    "        (256, 3, 1),\n",
    "    ],\n",
    ")  #\n",
    "\n",
    "\n",
    "# RNN层的参数\n",
    "rnn_configs = [\n",
    "    (1024, 50),  # 中等大小的隐藏层和层数\n",
    "]\n",
    "\n",
    "\n",
    "# 调用函数\n",
    "run_various_models(\n",
    "    conv_configs=conv_configs,\n",
    "    rnn_configs=rnn_configs,\n",
    "    num_epochs=50,\n",
    "    iter_n=10,\n",
    "    silent=True,\n",
    "    save_dir=\"/Project/David_Li/Works/Courses/4339_COMP_SCI_7318_Deep_Learning_Fundamentals/Assignment3/DATA/Result\",\n",
    "    data_len_list=[100, 200, 400, 800, 1600, 3200],\n",
    "    batch_size=1024,\n",
    ")"
   ]
  }
 ],
 "metadata": {
  "kernelspec": {
   "display_name": "pytorch_gpu",
   "language": "python",
   "name": "python3"
  },
  "language_info": {
   "codemirror_mode": {
    "name": "ipython",
    "version": 3
   },
   "file_extension": ".py",
   "mimetype": "text/x-python",
   "name": "python",
   "nbconvert_exporter": "python",
   "pygments_lexer": "ipython3",
   "version": "3.11.5"
  }
 },
 "nbformat": 4,
 "nbformat_minor": 2
}
