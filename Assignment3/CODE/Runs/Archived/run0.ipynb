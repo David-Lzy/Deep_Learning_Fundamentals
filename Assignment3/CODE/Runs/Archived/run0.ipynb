{
 "cells": [
  {
   "cell_type": "code",
   "execution_count": 1,
   "metadata": {},
   "outputs": [
    {
     "name": "stdout",
     "output_type": "stream",
     "text": [
      "/homes/David_Li/Mega/University_of_Adelaide/Works/Courses/4339_COMP_SCI_7318_Deep_Learning_Fundamentals/Assignment3\n",
      "/homes/David_Li/Mega/University_of_Adelaide/Works/Courses/4339_COMP_SCI_7318_Deep_Learning_Fundamentals/Assignment3\n"
     ]
    }
   ],
   "source": [
    "import os\n",
    "import sys\n",
    "import getpass\n",
    "from binance.spot import Spot\n",
    "\n",
    "__file__ = %pwd\n",
    "loc_list = os.path.abspath(__file__).split(os.sep)\n",
    "HOME_LOC = os.path.join(os.sep, *loc_list[:-2])\n",
    "sys.path.append(HOME_LOC)\n",
    "os.chdir(HOME_LOC)\n",
    "from CODE.Utils.encrypt import *\n",
    "from CODE.Utils.encrypt import Encrypted_API_key\n",
    "from CODE.Utils.encrypt import Encrypted_API_secret\n",
    "from CODE.Utils.utils import *\n",
    "from CODE.Utils.indicators import *\n",
    "from CODE.Utils.normalize import *\n",
    "from CODE.Runner import *\n",
    "from CODE.RNN import *\n"
   ]
  },
  {
   "cell_type": "code",
   "execution_count": 2,
   "metadata": {},
   "outputs": [
    {
     "name": "stderr",
     "output_type": "stream",
     "text": [
      "Processing Training Files:   0%|          | 0/85 [00:00<?, ?it/s]"
     ]
    },
    {
     "name": "stderr",
     "output_type": "stream",
     "text": [
      "Processing Training Files: 100%|██████████| 85/85 [00:06<00:00, 12.14it/s]\n",
      "Processing Testing Files: 100%|██████████| 15/15 [00:01<00:00, 12.24it/s]\n"
     ]
    }
   ],
   "source": [
    "file_paths = load_and_sort_files(os.path.join(HOME_LOC, \"DATA\", \"RAW\", \"1d\")\n",
    "train_X, train_Y, test_X, test_Y = split_data(\n",
    "    file_paths, train_ratio=0.85, x_length=59, y_length=2\n",
    ")"
   ]
  },
  {
   "cell_type": "code",
   "execution_count": 3,
   "metadata": {},
   "outputs": [
    {
     "name": "stdout",
     "output_type": "stream",
     "text": [
      "(85, 47, 23) (85, 2) (15, 47, 23) (15, 2)\n"
     ]
    }
   ],
   "source": [
    "print(train_X.shape, train_Y.shape, test_X.shape, test_Y.shape)"
   ]
  },
  {
   "cell_type": "code",
   "execution_count": 4,
   "metadata": {},
   "outputs": [
    {
     "name": "stdout",
     "output_type": "stream",
     "text": [
      "FlexibleRNN(\n",
      "  (conv_layers): ModuleList(\n",
      "    (0): Conv1d(23, 64, kernel_size=(3,), stride=(1,), padding=(1,))\n",
      "    (1): Conv1d(64, 128, kernel_size=(3,), stride=(1,), padding=(1,))\n",
      "    (2-3): 2 x Conv1d(128, 128, kernel_size=(3,), stride=(1,), padding=(1,))\n",
      "  )\n",
      "  (rnn): RNN(128, 100, num_layers=2, batch_first=True)\n",
      "  (fc1): Linear(in_features=200, out_features=128, bias=True)\n",
      "  (fc2): Linear(in_features=128, out_features=2, bias=True)\n",
      ")\n"
     ]
    }
   ],
   "source": [
    "num_channels = train_X.shape[-1]  # 通道数，对应于特征数\n",
    "output_size = train_Y.shape[-1]  # 输出尺寸\n",
    "batch_size = 15  # 批处理大小\n",
    "\n",
    "# 定义卷积层配置\n",
    "conv_layers_config = [\n",
    "    (64, 3, 1),  # 第一个卷积层：64个过滤器，核大小为3，填充为1\n",
    "    (128, 3, 1),  # 第二个卷积层：128个过滤器，核大小为3，填充为1\n",
    "    (128, 3, 1),\n",
    "    (128, 3, 1),\n",
    "]\n",
    "\n",
    "# RNN层的参数\n",
    "hidden_size = 100  # RNN隐藏层大小\n",
    "num_rnn_layers = 2  # RNN层数量\n",
    "\n",
    "# 创建模型参数字典\n",
    "model_p = {\n",
    "    \"conv_layers_config\": conv_layers_config,\n",
    "    \"num_channels\": num_channels,  # 从train_X.shape[-1]获取\n",
    "    \"output_size\": output_size,  # 从train_Y.shape[-1]获取\n",
    "    \"data_len\": train_X.shape[1],  # 时间序列长度\n",
    "    \"hidden_size\": hidden_size,\n",
    "    \"num_rnn_layers\": num_rnn_layers,\n",
    "}\n",
    "\n",
    "# 创建 GroupedTrainer 实例\n",
    "trainer = GroupedTrainer(\n",
    "    model=FlexibleRNN,  # 使用 FlexibleRNN 模型\n",
    "    data=(train_X, test_X, train_Y, test_Y),  # 传入训练和测试数据\n",
    "    batch_size=batch_size,  # 指定批处理大小\n",
    "    model_p=model_p,  # 传入模型参数\n",
    "    learning_rate=0.01,  # 学习率\n",
    "    weight_decay=0.0,  # 权重衰减（正则化参数）\n",
    ")\n",
    "\n",
    "# 设置损失函数为均方误差（适用于回归任务）\n",
    "trainer.criterion = nn.MSELoss()\n",
    "\n",
    "# 打印模型结构（可选）\n",
    "print(trainer.model)"
   ]
  },
  {
   "cell_type": "code",
   "execution_count": 6,
   "metadata": {},
   "outputs": [
    {
     "name": "stdout",
     "output_type": "stream",
     "text": [
      "total_loop_n: 150, len(self.group_size): 5\n",
      "group_index: 0\n",
      "Epoch: 0 Loss: 0.01, Train Sharpe Ratio: -0.52, Train Annualized Return: 0.29, Test Sharpe Ratio: -0.35, Test Annualized Return: 1.18\n",
      "group_index: 1\n",
      "group_index: 2\n",
      "Epoch: 100 Loss: 0.00, Train Sharpe Ratio: -0.10, Train Annualized Return: 0.76, Test Sharpe Ratio: 0.15, Test Annualized Return: 21.68\n",
      "group_index: 3\n",
      "group_index: 4\n"
     ]
    },
    {
     "data": {
      "text/plain": [
       "0.008721932768821716"
      ]
     },
     "execution_count": 6,
     "metadata": {},
     "output_type": "execute_result"
    }
   ],
   "source": [
    "trainer.train(7200, iter_n=10)"
   ]
  }
 ],
 "metadata": {
  "kernelspec": {
   "display_name": "pytorch_gpu",
   "language": "python",
   "name": "python3"
  },
  "language_info": {
   "codemirror_mode": {
    "name": "ipython",
    "version": 3
   },
   "file_extension": ".py",
   "mimetype": "text/x-python",
   "name": "python",
   "nbconvert_exporter": "python",
   "pygments_lexer": "ipython3",
   "version": "3.11.5"
  }
 },
 "nbformat": 4,
 "nbformat_minor": 2
}
