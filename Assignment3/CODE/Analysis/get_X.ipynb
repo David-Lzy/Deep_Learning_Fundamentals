{
 "cells": [
  {
   "cell_type": "code",
   "execution_count": 1,
   "metadata": {},
   "outputs": [
    {
     "name": "stdout",
     "output_type": "stream",
     "text": [
      "/homes/David_Li/Mega/University_of_Adelaide/Works/Courses/4339_COMP_SCI_7318_Deep_Learning_Fundamentals/Assignment3\n",
      "/homes/David_Li/Mega/University_of_Adelaide/Works/Courses/4339_COMP_SCI_7318_Deep_Learning_Fundamentals/Assignment3\n"
     ]
    }
   ],
   "source": [
    "import os\n",
    "import sys\n",
    "import getpass\n",
    "from binance.spot import Spot\n",
    "\n",
    "__file__ = %pwd\n",
    "loc_list = os.path.abspath(__file__).split(os.sep)\n",
    "HOME_LOC = os.path.join(os.sep, *loc_list[:-2])\n",
    "sys.path.append(HOME_LOC)\n",
    "os.chdir(HOME_LOC)\n",
    "from CODE.Utils.encrypt import *\n",
    "from CODE.Utils.encrypt import Encrypted_API_key\n",
    "from CODE.Utils.encrypt import Encrypted_API_secret\n",
    "from CODE.Utils.utils import *\n",
    "from CODE.Utils.indicators import *\n",
    "from CODE.Utils.normalize import *\n",
    "from CODE.Runner import *"
   ]
  },
  {
   "cell_type": "code",
   "execution_count": 2,
   "metadata": {},
   "outputs": [
    {
     "name": "stderr",
     "output_type": "stream",
     "text": [
      "Processing Training Files:   0%|          | 0/42 [00:00<?, ?it/s]"
     ]
    },
    {
     "name": "stderr",
     "output_type": "stream",
     "text": [
      "Processing Training Files: 100%|██████████| 42/42 [00:03<00:00, 11.97it/s]\n",
      "Processing Testing Files: 100%|██████████| 8/8 [00:00<00:00, 11.84it/s]\n"
     ]
    }
   ],
   "source": [
    "file_paths = load_and_sort_files(os.path.join(HOME_LOC, \"DATA\", \"RAW\", \"1d\"))[:50]\n",
    "train_X, train_Y, test_X, test_Y = split_data(\n",
    "    file_paths, train_ratio=0.85, x_length=58, y_length=2\n",
    ")"
   ]
  },
  {
   "cell_type": "code",
   "execution_count": 3,
   "metadata": {},
   "outputs": [
    {
     "name": "stdout",
     "output_type": "stream",
     "text": [
      "(42, 47, 23) (42, 2)\n"
     ]
    }
   ],
   "source": [
    "print(train_X.shape, train_Y.shape)"
   ]
  },
  {
   "cell_type": "code",
   "execution_count": 4,
   "metadata": {},
   "outputs": [
    {
     "data": {
      "text/plain": [
       "array([[-0.0721127 ,  0.07770241],\n",
       "       [-0.0721127 ,  0.07770241],\n",
       "       [ 0.02862476,  0.1328362 ],\n",
       "       [ 0.02862476,  0.1328362 ],\n",
       "       [ 0.02862476,  0.1328362 ],\n",
       "       [ 0.1328362 ,  0.09207511],\n",
       "       [ 0.09207511,  0.00639166],\n",
       "       [ 0.09207511,  0.00639166],\n",
       "       [ 0.09207511,  0.00639166],\n",
       "       [ 0.00639166,  0.02053191],\n",
       "       [ 0.02053191,  0.04671114],\n",
       "       [ 0.11849299,  0.00898414],\n",
       "       [ 0.00898414,  0.13927178],\n",
       "       [ 0.13927178, -0.03408211],\n",
       "       [-0.03408211, -0.08666399],\n",
       "       [-0.08666399,  0.10091928],\n",
       "       [ 0.10091928,  0.10698876],\n",
       "       [-0.02955289, -0.05642168],\n",
       "       [-0.05642168, -0.21321794],\n",
       "       [-0.05642168, -0.21321794],\n",
       "       [-0.05642168, -0.21321794],\n",
       "       [-0.21321794,  0.        ],\n",
       "       [-0.21321794,  0.        ],\n",
       "       [-0.21321794,  0.        ],\n",
       "       [ 0.        , -0.006     ],\n",
       "       [ 0.        , -0.006     ],\n",
       "       [ 0.        , -0.006     ],\n",
       "       [-0.006     ,  0.03873239],\n",
       "       [-0.006     ,  0.03873239],\n",
       "       [-0.006     ,  0.03873239],\n",
       "       [ 0.03873239,  0.11646489],\n",
       "       [ 0.03873239,  0.11646489],\n",
       "       [ 0.11646489, -0.09000217],\n",
       "       [ 0.11646489, -0.09000217],\n",
       "       [ 0.11646489, -0.09000217],\n",
       "       [ 0.11646489, -0.09000217],\n",
       "       [-0.09000217, -0.05338418],\n",
       "       [-0.09000217, -0.05338418],\n",
       "       [-0.09000217, -0.05338418],\n",
       "       [-0.05338418, -0.01309164],\n",
       "       [-0.05338418, -0.01309164],\n",
       "       [-0.01309164,  0.08265306]])"
      ]
     },
     "execution_count": 4,
     "metadata": {},
     "output_type": "execute_result"
    }
   ],
   "source": [
    "train_Y"
   ]
  },
  {
   "cell_type": "code",
   "execution_count": 5,
   "metadata": {},
   "outputs": [],
   "source": [
    "import torch.nn as nn\n",
    "import torch.nn.functional as F\n",
    "\n",
    "\n",
    "class Simple1DCNN(nn.Module):\n",
    "    def __init__(self, num_channels, output_size, data_len):\n",
    "        super(Simple1DCNN, self).__init__()\n",
    "        self.conv1 = nn.Conv1d(num_channels, 64, kernel_size=3, padding=1)\n",
    "        self.conv2 = nn.Conv1d(64, 128, kernel_size=3, padding=1)\n",
    "        self.fc1 = nn.Linear(\n",
    "            128 * (data_len // 2 // 2), 128\n",
    "        )  # Adjust the input features for the linear layer\n",
    "        self.fc2 = nn.Linear(128, output_size)\n",
    "\n",
    "    def forward(self, x):\n",
    "        # Reshape x to (batch_size, channels, length)\n",
    "        x = x.view(x.size(0), 23, -1)  # assuming input x has shape (batch_size, 47, 23)\n",
    "        x = F.relu(self.conv1(x))\n",
    "        x = F.max_pool1d(x, 2)\n",
    "        x = F.relu(self.conv2(x))\n",
    "        x = F.max_pool1d(x, 2)\n",
    "        x = x.view(x.size(0), -1)  # Flatten the tensor for the linear layer\n",
    "        x = F.relu(self.fc1(x))\n",
    "        x = self.fc2(x)\n",
    "        return x"
   ]
  },
  {
   "cell_type": "code",
   "execution_count": 6,
   "metadata": {},
   "outputs": [
    {
     "name": "stdout",
     "output_type": "stream",
     "text": [
      "(42, 47, 23) (42, 2) (8, 47, 23) (8, 2)\n"
     ]
    }
   ],
   "source": [
    "print(train_X.shape, train_Y.shape, test_X.shape, test_Y.shape)"
   ]
  },
  {
   "cell_type": "code",
   "execution_count": 7,
   "metadata": {},
   "outputs": [
    {
     "name": "stdout",
     "output_type": "stream",
     "text": [
      "Simple1DCNN(\n",
      "  (conv1): Conv1d(23, 64, kernel_size=(3,), stride=(1,), padding=(1,))\n",
      "  (conv2): Conv1d(64, 128, kernel_size=(3,), stride=(1,), padding=(1,))\n",
      "  (fc1): Linear(in_features=1408, out_features=128, bias=True)\n",
      "  (fc2): Linear(in_features=128, out_features=2, bias=True)\n",
      ")\n"
     ]
    }
   ],
   "source": [
    "# 创建 Simple1DCNN 模型实例\n",
    "num_channels = train_X.shape[-1]  # 通道数，对应于特征数\n",
    "output_size = train_Y.shape[-1]  # 输出尺寸\n",
    "batch_size = 15  # 批处理大小\n",
    "model_p = {\n",
    "    \"num_channels\": num_channels,\n",
    "    \"output_size\": output_size,\n",
    "    \"data_len\": train_X.shape[1],\n",
    "}  # 保存模型参数，用于初始化 GroupedTrainer\n",
    "# 创建 GroupedTrainer 实例\n",
    "trainer = GroupedTrainer(\n",
    "    model=Simple1DCNN,  # 使用刚刚创建的模型\n",
    "    data=(train_X, test_X, train_Y, test_Y),  # 传入训练和测试数据\n",
    "    batch_size=batch_size,  # 指定批处理大小\n",
    "    model_p=model_p,  # model_p为空，因为模型已经被初始化\n",
    "    learning_rate=0.01,  # 学习率\n",
    "    weight_decay=0.0,  # 权重衰减（正则化参数）\n",
    ")\n",
    "\n",
    "# 设置损失函数为均方误差（适用于回归任务）\n",
    "trainer.criterion = nn.MSELoss()\n",
    "\n",
    "# 打印模型结构（可选）\n",
    "print(trainer.model)"
   ]
  },
  {
   "cell_type": "code",
   "execution_count": 28,
   "metadata": {},
   "outputs": [
    {
     "name": "stdout",
     "output_type": "stream",
     "text": [
      "Sharpe Ratio: 0.85, Max Drawdown: 0.10, Annualized Return: 1150.67\n"
     ]
    },
    {
     "data": {
      "text/plain": [
       "0.02919111485243775"
      ]
     },
     "execution_count": 28,
     "metadata": {},
     "output_type": "execute_result"
    }
   ],
   "source": [
    "trainer.train(5000, iter_n=100)"
   ]
  },
  {
   "cell_type": "code",
   "execution_count": 9,
   "metadata": {},
   "outputs": [
    {
     "data": {
      "text/plain": [
       "torch.Size([47, 23])"
      ]
     },
     "execution_count": 9,
     "metadata": {},
     "output_type": "execute_result"
    }
   ],
   "source": [
    "trainer.train_loader.dataset[0][0].shape"
   ]
  },
  {
   "cell_type": "code",
   "execution_count": 10,
   "metadata": {},
   "outputs": [
    {
     "ename": "RuntimeError",
     "evalue": "max_pool1d() Invalid computed output size: 0",
     "output_type": "error",
     "traceback": [
      "\u001b[0;31m---------------------------------------------------------------------------\u001b[0m",
      "\u001b[0;31mRuntimeError\u001b[0m                              Traceback (most recent call last)",
      "\u001b[1;32m/Project/David_Li/Works/Courses/4339_COMP_SCI_7318_Deep_Learning_Fundamentals/Assignment3/CODE/Analysis/get_X.ipynb 单元格 10\u001b[0m line \u001b[0;36m2\n\u001b[1;32m      <a href='vscode-notebook-cell://ssh-remote%2Bcode1_local/Project/David_Li/Works/Courses/4339_COMP_SCI_7318_Deep_Learning_Fundamentals/Assignment3/CODE/Analysis/get_X.ipynb#X11sdnNjb2RlLXJlbW90ZQ%3D%3D?line=0'>1</a>\u001b[0m trainer\u001b[39m.\u001b[39moptimizer\u001b[39m.\u001b[39mzero_grad()\n\u001b[0;32m----> <a href='vscode-notebook-cell://ssh-remote%2Bcode1_local/Project/David_Li/Works/Courses/4339_COMP_SCI_7318_Deep_Learning_Fundamentals/Assignment3/CODE/Analysis/get_X.ipynb#X11sdnNjb2RlLXJlbW90ZQ%3D%3D?line=1'>2</a>\u001b[0m trainer\u001b[39m.\u001b[39;49mmodel(trainer\u001b[39m.\u001b[39;49mtrain_loader\u001b[39m.\u001b[39;49mdataset[\u001b[39m1\u001b[39;49m][\u001b[39m0\u001b[39;49m]\u001b[39m.\u001b[39;49mto(trainer\u001b[39m.\u001b[39;49mdevice))\n",
      "File \u001b[0;32m/opt/conda/Anaconda3/envs/pytorch_gpu/lib/python3.11/site-packages/torch/nn/modules/module.py:1518\u001b[0m, in \u001b[0;36mModule._wrapped_call_impl\u001b[0;34m(self, *args, **kwargs)\u001b[0m\n\u001b[1;32m   1516\u001b[0m     \u001b[39mreturn\u001b[39;00m \u001b[39mself\u001b[39m\u001b[39m.\u001b[39m_compiled_call_impl(\u001b[39m*\u001b[39margs, \u001b[39m*\u001b[39m\u001b[39m*\u001b[39mkwargs)  \u001b[39m# type: ignore[misc]\u001b[39;00m\n\u001b[1;32m   1517\u001b[0m \u001b[39melse\u001b[39;00m:\n\u001b[0;32m-> 1518\u001b[0m     \u001b[39mreturn\u001b[39;00m \u001b[39mself\u001b[39;49m\u001b[39m.\u001b[39;49m_call_impl(\u001b[39m*\u001b[39;49margs, \u001b[39m*\u001b[39;49m\u001b[39m*\u001b[39;49mkwargs)\n",
      "File \u001b[0;32m/opt/conda/Anaconda3/envs/pytorch_gpu/lib/python3.11/site-packages/torch/nn/modules/module.py:1527\u001b[0m, in \u001b[0;36mModule._call_impl\u001b[0;34m(self, *args, **kwargs)\u001b[0m\n\u001b[1;32m   1522\u001b[0m \u001b[39m# If we don't have any hooks, we want to skip the rest of the logic in\u001b[39;00m\n\u001b[1;32m   1523\u001b[0m \u001b[39m# this function, and just call forward.\u001b[39;00m\n\u001b[1;32m   1524\u001b[0m \u001b[39mif\u001b[39;00m \u001b[39mnot\u001b[39;00m (\u001b[39mself\u001b[39m\u001b[39m.\u001b[39m_backward_hooks \u001b[39mor\u001b[39;00m \u001b[39mself\u001b[39m\u001b[39m.\u001b[39m_backward_pre_hooks \u001b[39mor\u001b[39;00m \u001b[39mself\u001b[39m\u001b[39m.\u001b[39m_forward_hooks \u001b[39mor\u001b[39;00m \u001b[39mself\u001b[39m\u001b[39m.\u001b[39m_forward_pre_hooks\n\u001b[1;32m   1525\u001b[0m         \u001b[39mor\u001b[39;00m _global_backward_pre_hooks \u001b[39mor\u001b[39;00m _global_backward_hooks\n\u001b[1;32m   1526\u001b[0m         \u001b[39mor\u001b[39;00m _global_forward_hooks \u001b[39mor\u001b[39;00m _global_forward_pre_hooks):\n\u001b[0;32m-> 1527\u001b[0m     \u001b[39mreturn\u001b[39;00m forward_call(\u001b[39m*\u001b[39;49margs, \u001b[39m*\u001b[39;49m\u001b[39m*\u001b[39;49mkwargs)\n\u001b[1;32m   1529\u001b[0m \u001b[39mtry\u001b[39;00m:\n\u001b[1;32m   1530\u001b[0m     result \u001b[39m=\u001b[39m \u001b[39mNone\u001b[39;00m\n",
      "\u001b[1;32m/Project/David_Li/Works/Courses/4339_COMP_SCI_7318_Deep_Learning_Fundamentals/Assignment3/CODE/Analysis/get_X.ipynb 单元格 10\u001b[0m line \u001b[0;36m1\n\u001b[1;32m     <a href='vscode-notebook-cell://ssh-remote%2Bcode1_local/Project/David_Li/Works/Courses/4339_COMP_SCI_7318_Deep_Learning_Fundamentals/Assignment3/CODE/Analysis/get_X.ipynb#X11sdnNjb2RlLXJlbW90ZQ%3D%3D?line=16'>17</a>\u001b[0m x \u001b[39m=\u001b[39m x\u001b[39m.\u001b[39mview(x\u001b[39m.\u001b[39msize(\u001b[39m0\u001b[39m), \u001b[39m23\u001b[39m, \u001b[39m-\u001b[39m\u001b[39m1\u001b[39m)  \u001b[39m# assuming input x has shape (batch_size, 47, 23)\u001b[39;00m\n\u001b[1;32m     <a href='vscode-notebook-cell://ssh-remote%2Bcode1_local/Project/David_Li/Works/Courses/4339_COMP_SCI_7318_Deep_Learning_Fundamentals/Assignment3/CODE/Analysis/get_X.ipynb#X11sdnNjb2RlLXJlbW90ZQ%3D%3D?line=17'>18</a>\u001b[0m x \u001b[39m=\u001b[39m F\u001b[39m.\u001b[39mrelu(\u001b[39mself\u001b[39m\u001b[39m.\u001b[39mconv1(x))\n\u001b[0;32m---> <a href='vscode-notebook-cell://ssh-remote%2Bcode1_local/Project/David_Li/Works/Courses/4339_COMP_SCI_7318_Deep_Learning_Fundamentals/Assignment3/CODE/Analysis/get_X.ipynb#X11sdnNjb2RlLXJlbW90ZQ%3D%3D?line=18'>19</a>\u001b[0m x \u001b[39m=\u001b[39m F\u001b[39m.\u001b[39;49mmax_pool1d(x, \u001b[39m2\u001b[39;49m)\n\u001b[1;32m     <a href='vscode-notebook-cell://ssh-remote%2Bcode1_local/Project/David_Li/Works/Courses/4339_COMP_SCI_7318_Deep_Learning_Fundamentals/Assignment3/CODE/Analysis/get_X.ipynb#X11sdnNjb2RlLXJlbW90ZQ%3D%3D?line=19'>20</a>\u001b[0m x \u001b[39m=\u001b[39m F\u001b[39m.\u001b[39mrelu(\u001b[39mself\u001b[39m\u001b[39m.\u001b[39mconv2(x))\n\u001b[1;32m     <a href='vscode-notebook-cell://ssh-remote%2Bcode1_local/Project/David_Li/Works/Courses/4339_COMP_SCI_7318_Deep_Learning_Fundamentals/Assignment3/CODE/Analysis/get_X.ipynb#X11sdnNjb2RlLXJlbW90ZQ%3D%3D?line=20'>21</a>\u001b[0m x \u001b[39m=\u001b[39m F\u001b[39m.\u001b[39mmax_pool1d(x, \u001b[39m2\u001b[39m)\n",
      "File \u001b[0;32m/opt/conda/Anaconda3/envs/pytorch_gpu/lib/python3.11/site-packages/torch/_jit_internal.py:488\u001b[0m, in \u001b[0;36mboolean_dispatch.<locals>.fn\u001b[0;34m(*args, **kwargs)\u001b[0m\n\u001b[1;32m    486\u001b[0m     \u001b[39mreturn\u001b[39;00m if_true(\u001b[39m*\u001b[39margs, \u001b[39m*\u001b[39m\u001b[39m*\u001b[39mkwargs)\n\u001b[1;32m    487\u001b[0m \u001b[39melse\u001b[39;00m:\n\u001b[0;32m--> 488\u001b[0m     \u001b[39mreturn\u001b[39;00m if_false(\u001b[39m*\u001b[39;49margs, \u001b[39m*\u001b[39;49m\u001b[39m*\u001b[39;49mkwargs)\n",
      "File \u001b[0;32m/opt/conda/Anaconda3/envs/pytorch_gpu/lib/python3.11/site-packages/torch/nn/functional.py:705\u001b[0m, in \u001b[0;36m_max_pool1d\u001b[0;34m(input, kernel_size, stride, padding, dilation, ceil_mode, return_indices)\u001b[0m\n\u001b[1;32m    703\u001b[0m \u001b[39mif\u001b[39;00m stride \u001b[39mis\u001b[39;00m \u001b[39mNone\u001b[39;00m:\n\u001b[1;32m    704\u001b[0m     stride \u001b[39m=\u001b[39m torch\u001b[39m.\u001b[39mjit\u001b[39m.\u001b[39mannotate(List[\u001b[39mint\u001b[39m], [])\n\u001b[0;32m--> 705\u001b[0m \u001b[39mreturn\u001b[39;00m torch\u001b[39m.\u001b[39;49mmax_pool1d(\u001b[39minput\u001b[39;49m, kernel_size, stride, padding, dilation, ceil_mode)\n",
      "\u001b[0;31mRuntimeError\u001b[0m: max_pool1d() Invalid computed output size: 0"
     ]
    }
   ],
   "source": [
    "trainer.optimizer.zero_grad()\n",
    "trainer.model(trainer.train_loader.dataset[1][0].to(trainer.device))"
   ]
  }
 ],
 "metadata": {
  "kernelspec": {
   "display_name": "pytorch_gpu",
   "language": "python",
   "name": "python3"
  },
  "language_info": {
   "codemirror_mode": {
    "name": "ipython",
    "version": 3
   },
   "file_extension": ".py",
   "mimetype": "text/x-python",
   "name": "python",
   "nbconvert_exporter": "python",
   "pygments_lexer": "ipython3",
   "version": "3.11.5"
  }
 },
 "nbformat": 4,
 "nbformat_minor": 2
}
