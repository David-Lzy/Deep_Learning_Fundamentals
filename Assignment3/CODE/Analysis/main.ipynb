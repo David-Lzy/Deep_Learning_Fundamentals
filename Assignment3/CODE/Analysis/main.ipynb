{
 "cells": [
  {
   "cell_type": "code",
   "execution_count": 4,
   "metadata": {},
   "outputs": [
    {
     "name": "stdout",
     "output_type": "stream",
     "text": [
      "/homes/David_Li/Mega/University_of_Adelaide/Works/Courses/4339_COMP_SCI_7318_Deep_Learning_Fundamentals/Assignment3\n"
     ]
    }
   ],
   "source": [
    "import os\n",
    "import sys\n",
    "import getpass\n",
    "from binance.spot import Spot\n",
    "\n",
    "__file__ = %pwd\n",
    "sys.path.append(os.path.join(os.sep, *os.path.abspath(__file__).split(os.sep)[:-2]))\n",
    "from CODE.Utils.encrypt import *\n",
    "from CODE.Utils.encrypt import Encrypted_API_key\n",
    "from CODE.Utils.encrypt import Encrypted_API_secret\n",
    "from CODE.Utils.utils import *\n",
    "from CODE.Utils.indicators import *\n",
    "from CODE.Utils.normalize import *"
   ]
  },
  {
   "cell_type": "code",
   "execution_count": 3,
   "metadata": {},
   "outputs": [
    {
     "name": "stdout",
     "output_type": "stream",
     "text": [
      "/homes/David_Li/Mega/University_of_Adelaide/Works/Courses/4339_COMP_SCI_7318_Deep_Learning_Fundamentals\n"
     ]
    }
   ],
   "source": [
    "loc_list = os.path.abspath(__file__).split(os.sep)\n",
    "HOME_LOC = os.path.join(os.sep, *loc_list[:-3])\n",
    "sys.path.append(HOME_LOC)\n",
    "os.chdir(HOME_LOC)\n",
    "print(HOME_LOC)"
   ]
  },
  {
   "cell_type": "code",
   "execution_count": null,
   "metadata": {},
   "outputs": [],
   "source": []
  },
  {
   "cell_type": "code",
   "execution_count": null,
   "metadata": {},
   "outputs": [],
   "source": []
  }
 ],
 "metadata": {
  "kernelspec": {
   "display_name": "pytorch_gpu",
   "language": "python",
   "name": "python3"
  },
  "language_info": {
   "codemirror_mode": {
    "name": "ipython",
    "version": 3
   },
   "file_extension": ".py",
   "mimetype": "text/x-python",
   "name": "python",
   "nbconvert_exporter": "python",
   "pygments_lexer": "ipython3",
   "version": "3.11.5"
  }
 },
 "nbformat": 4,
 "nbformat_minor": 2
}
