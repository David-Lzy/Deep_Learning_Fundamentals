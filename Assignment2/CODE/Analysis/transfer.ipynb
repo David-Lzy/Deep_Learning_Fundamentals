{
 "cells": [
  {
   "cell_type": "code",
   "execution_count": 3,
   "metadata": {},
   "outputs": [],
   "source": [
    "import pandas as pd\n",
    "\n",
    "\n",
    "def txt_to_csv(txt_filepath, csv_filepath):\n",
    "    \"\"\"\n",
    "    Convert the provided txt file into a CSV format.\n",
    "\n",
    "    Parameters:\n",
    "    - txt_filepath: Path to the input txt file.\n",
    "    - csv_filepath: Path to save the output CSV file.\n",
    "    \"\"\"\n",
    "\n",
    "    # Empty lists to store extracted data\n",
    "    epochs = []\n",
    "    losses = []\n",
    "    training_accuracies = []\n",
    "    testing_accuracies = []\n",
    "    eval_times = []\n",
    "\n",
    "    with open(txt_filepath, \"r\", encoding=\"utf-8\") as file:\n",
    "        for line in file:\n",
    "            # Extracting data from each line using string manipulation\n",
    "            epoch = int(line.split(\"[\")[1].split(\"/\")[0])\n",
    "            loss = float(line.split(\"Loss: \")[1].split(\",\")[0])\n",
    "            train_acc = float(line.split(\"Training Accuracy: \")[1].split(\"%\")[0])\n",
    "            test_acc = float(line.split(\"Testing Accuracy: \")[1].split(\"%\")[0])\n",
    "            eval_time = float(line.split(\"Evaluation Time: \")[1].split(\" minutes\")[0])\n",
    "\n",
    "            # Appending the extracted data to the lists\n",
    "            epochs.append(epoch)\n",
    "            losses.append(loss)\n",
    "            training_accuracies.append(train_acc)\n",
    "            testing_accuracies.append(test_acc)\n",
    "            eval_times.append(eval_time)\n",
    "\n",
    "    # Creating a DataFrame from the lists\n",
    "    df = pd.DataFrame(\n",
    "        {\n",
    "            \"Epoch\": epochs,\n",
    "            \"Loss\": losses,\n",
    "            \"Training Accuracy\": training_accuracies,\n",
    "            \"Testing Accuracy\": testing_accuracies,\n",
    "            \"Evaluation Time\": eval_times,\n",
    "        }\n",
    "    )\n",
    "\n",
    "    # Saving the DataFrame to CSV\n",
    "    df.to_csv(csv_filepath, index=False)"
   ]
  },
  {
   "cell_type": "code",
   "execution_count": 4,
   "metadata": {},
   "outputs": [],
   "source": [
    "txt_to_csv(\n",
    "    \"/Project/David_Li/Works/Courses/4339_COMP_SCI_7318_Deep_Learning_Fundamentals/Assignment2/CODE/Analysis/temp.txt\",\n",
    "    \"/Project/David_Li/Works/Courses/4339_COMP_SCI_7318_Deep_Learning_Fundamentals/Assignment2/CODE/Analysis/temp.csv\",\n",
    ")"
   ]
  }
 ],
 "metadata": {
  "kernelspec": {
   "display_name": "base",
   "language": "python",
   "name": "python3"
  },
  "language_info": {
   "codemirror_mode": {
    "name": "ipython",
    "version": 3
   },
   "file_extension": ".py",
   "mimetype": "text/x-python",
   "name": "python",
   "nbconvert_exporter": "python",
   "pygments_lexer": "ipython3",
   "version": "3.11.5"
  }
 },
 "nbformat": 4,
 "nbformat_minor": 2
}
