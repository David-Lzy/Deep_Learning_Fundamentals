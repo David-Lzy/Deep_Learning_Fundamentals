{
 "cells": [
  {
   "cell_type": "code",
   "execution_count": 1,
   "metadata": {},
   "outputs": [],
   "source": [
    "from Runner import Trainer\n",
    "from mobilevit import DynamicMobileViT\n",
    "from mobilevit import MobileViT\n",
    "import torch\n",
    "import torchvision\n",
    "import torchvision.transforms as transforms"
   ]
  },
  {
   "cell_type": "code",
   "execution_count": 2,
   "metadata": {},
   "outputs": [],
   "source": [
    "batch_size = 128\n",
    "pic_size = (32, 32)"
   ]
  },
  {
   "cell_type": "code",
   "execution_count": 3,
   "metadata": {},
   "outputs": [],
   "source": [
    "import torchvision.transforms as transforms\n",
    "import torchvision\n",
    "\n",
    "# 定义数据预处理操作：先调整大小，然后转换为张量并归一化\n",
    "transform = transforms.Compose(\n",
    "    [\n",
    "        transforms.Resize(pic_size),  # <-- 添加这一行来调整图像大小\n",
    "        transforms.ToTensor(),\n",
    "        transforms.Normalize((0.5, 0.5, 0.5), (0.5, 0.5, 0.5)),\n",
    "    ]\n",
    ")\n",
    "\n",
    "# 下载并加载训练集\n",
    "trainset = torchvision.datasets.CIFAR100(\n",
    "    root=\"../Data/cifar-100-python\", train=True, download=False, transform=transform\n",
    ")\n",
    "trainloader = torch.utils.data.DataLoader(\n",
    "    trainset, batch_size=batch_size, shuffle=True, num_workers=2\n",
    ")\n",
    "\n",
    "# 下载并加载测试集\n",
    "testset = torchvision.datasets.CIFAR100(\n",
    "    root=\"../Data/cifar-100-python\", train=False, download=False, transform=transform\n",
    ")\n",
    "testloader = torch.utils.data.DataLoader(\n",
    "    testset, batch_size=batch_size, shuffle=True, num_workers=2\n",
    ")"
   ]
  },
  {
   "cell_type": "code",
   "execution_count": 7,
   "metadata": {},
   "outputs": [
    {
     "name": "stdout",
     "output_type": "stream",
     "text": [
      "Epoch [1/50], Loss: 4.4748, Training Accuracy: 2.79%, Testing Accuracy: 4.35%, Evaluation Time: 0.41 minutes.\n",
      "Epoch [2/50], Loss: 4.4605, Training Accuracy: 2.58%, Testing Accuracy: 4.34%, Evaluation Time: 0.87 minutes.\n",
      "Epoch [3/50], Loss: 4.2496, Training Accuracy: 4.54%, Testing Accuracy: 5.35%, Evaluation Time: 1.33 minutes.\n",
      "Epoch [4/50], Loss: 3.9734, Training Accuracy: 7.24%, Testing Accuracy: 8.00%, Evaluation Time: 1.79 minutes.\n",
      "Epoch [5/50], Loss: 3.8979, Training Accuracy: 8.57%, Testing Accuracy: 9.19%, Evaluation Time: 2.25 minutes.\n",
      "Epoch [6/50], Loss: 3.7765, Training Accuracy: 10.51%, Testing Accuracy: 12.24%, Evaluation Time: 2.66 minutes.\n",
      "Epoch [7/50], Loss: 3.6619, Training Accuracy: 12.27%, Testing Accuracy: 13.46%, Evaluation Time: 3.12 minutes.\n",
      "Epoch [8/50], Loss: 3.6604, Training Accuracy: 12.71%, Testing Accuracy: 13.24%, Evaluation Time: 3.58 minutes.\n",
      "Epoch [9/50], Loss: 3.5639, Training Accuracy: 13.92%, Testing Accuracy: 14.59%, Evaluation Time: 4.05 minutes.\n",
      "Epoch [10/50], Loss: 3.5378, Training Accuracy: 14.60%, Testing Accuracy: 15.73%, Evaluation Time: 4.51 minutes.\n",
      "Epoch [11/50], Loss: 3.3298, Training Accuracy: 17.99%, Testing Accuracy: 18.65%, Evaluation Time: 7.06 minutes.\n",
      "Epoch [12/50], Loss: 3.2315, Training Accuracy: 19.89%, Testing Accuracy: 20.55%, Evaluation Time: 7.51 minutes.\n",
      "Epoch [13/50], Loss: 3.1779, Training Accuracy: 20.86%, Testing Accuracy: 21.28%, Evaluation Time: 7.91 minutes.\n",
      "Epoch [14/50], Loss: 3.1049, Training Accuracy: 22.24%, Testing Accuracy: 19.31%, Evaluation Time: 8.37 minutes.\n",
      "Epoch [15/50], Loss: 3.2071, Training Accuracy: 20.61%, Testing Accuracy: 21.56%, Evaluation Time: 8.83 minutes.\n",
      "Epoch [16/50], Loss: 3.0542, Training Accuracy: 23.44%, Testing Accuracy: 21.35%, Evaluation Time: 9.29 minutes.\n",
      "Epoch [17/50], Loss: 2.9739, Training Accuracy: 24.79%, Testing Accuracy: 24.87%, Evaluation Time: 9.74 minutes.\n",
      "Epoch [18/50], Loss: 2.8932, Training Accuracy: 26.42%, Testing Accuracy: 25.65%, Evaluation Time: 10.21 minutes.\n",
      "Epoch [19/50], Loss: 2.8336, Training Accuracy: 27.60%, Testing Accuracy: 24.71%, Evaluation Time: 10.67 minutes.\n",
      "Epoch [20/50], Loss: 2.7874, Training Accuracy: 28.50%, Testing Accuracy: 26.72%, Evaluation Time: 11.12 minutes.\n",
      "Epoch [21/50], Loss: 2.6339, Training Accuracy: 31.88%, Testing Accuracy: 28.94%, Evaluation Time: 11.57 minutes.\n",
      "Epoch [22/50], Loss: 2.5608, Training Accuracy: 33.23%, Testing Accuracy: 29.84%, Evaluation Time: 12.04 minutes.\n",
      "Epoch [23/50], Loss: 2.5226, Training Accuracy: 33.86%, Testing Accuracy: 29.96%, Evaluation Time: 12.49 minutes.\n",
      "Epoch [24/50], Loss: 2.4414, Training Accuracy: 35.75%, Testing Accuracy: 31.03%, Evaluation Time: 12.95 minutes.\n",
      "Epoch [25/50], Loss: 2.4592, Training Accuracy: 35.21%, Testing Accuracy: 31.11%, Evaluation Time: 13.42 minutes.\n",
      "Epoch [26/50], Loss: 2.3693, Training Accuracy: 37.12%, Testing Accuracy: 31.70%, Evaluation Time: 13.79 minutes.\n",
      "Epoch [27/50], Loss: 2.2996, Training Accuracy: 38.68%, Testing Accuracy: 32.36%, Evaluation Time: 14.25 minutes.\n",
      "Epoch [28/50], Loss: 2.2422, Training Accuracy: 39.68%, Testing Accuracy: 32.63%, Evaluation Time: 14.71 minutes.\n",
      "Epoch [29/50], Loss: 2.2472, Training Accuracy: 39.88%, Testing Accuracy: 32.18%, Evaluation Time: 15.12 minutes.\n",
      "Epoch [30/50], Loss: 2.1949, Training Accuracy: 40.64%, Testing Accuracy: 32.59%, Evaluation Time: 15.57 minutes.\n",
      "Epoch [31/50], Loss: 2.0058, Training Accuracy: 44.87%, Testing Accuracy: 34.19%, Evaluation Time: 16.04 minutes.\n",
      "Epoch [32/50], Loss: 2.0154, Training Accuracy: 44.95%, Testing Accuracy: 33.24%, Evaluation Time: 16.45 minutes.\n",
      "Epoch [33/50], Loss: 1.9652, Training Accuracy: 46.07%, Testing Accuracy: 34.20%, Evaluation Time: 16.92 minutes.\n",
      "Epoch [34/50], Loss: 1.8947, Training Accuracy: 47.37%, Testing Accuracy: 33.71%, Evaluation Time: 17.38 minutes.\n",
      "Epoch [35/50], Loss: 1.8558, Training Accuracy: 48.62%, Testing Accuracy: 34.01%, Evaluation Time: 17.83 minutes.\n",
      "Epoch [36/50], Loss: 1.8048, Training Accuracy: 49.63%, Testing Accuracy: 33.73%, Evaluation Time: 18.30 minutes.\n",
      "Epoch [37/50], Loss: 1.8310, Training Accuracy: 48.86%, Testing Accuracy: 32.24%, Evaluation Time: 18.75 minutes.\n",
      "Epoch [38/50], Loss: 1.8028, Training Accuracy: 49.46%, Testing Accuracy: 33.71%, Evaluation Time: 19.21 minutes.\n",
      "Epoch [39/50], Loss: 1.7062, Training Accuracy: 51.65%, Testing Accuracy: 33.82%, Evaluation Time: 19.67 minutes.\n",
      "Epoch [40/50], Loss: 1.6490, Training Accuracy: 53.27%, Testing Accuracy: 34.43%, Evaluation Time: 20.12 minutes.\n",
      "Epoch [41/50], Loss: 1.5439, Training Accuracy: 55.97%, Testing Accuracy: 33.44%, Evaluation Time: 20.58 minutes.\n",
      "Epoch [42/50], Loss: 1.5385, Training Accuracy: 55.98%, Testing Accuracy: 33.75%, Evaluation Time: 21.03 minutes.\n",
      "Epoch [43/50], Loss: 1.5025, Training Accuracy: 56.93%, Testing Accuracy: 33.69%, Evaluation Time: 21.48 minutes.\n",
      "Epoch [44/50], Loss: 1.4851, Training Accuracy: 57.49%, Testing Accuracy: 33.71%, Evaluation Time: 22.32 minutes.\n",
      "Epoch [45/50], Loss: 1.4432, Training Accuracy: 58.26%, Testing Accuracy: 33.37%, Evaluation Time: 22.78 minutes.\n",
      "Epoch [46/50], Loss: 1.4393, Training Accuracy: 58.39%, Testing Accuracy: 33.72%, Evaluation Time: 23.25 minutes.\n",
      "Epoch [47/50], Loss: 1.4311, Training Accuracy: 58.42%, Testing Accuracy: 33.35%, Evaluation Time: 23.70 minutes.\n",
      "Epoch [48/50], Loss: 1.5540, Training Accuracy: 55.55%, Testing Accuracy: 32.88%, Evaluation Time: 24.16 minutes.\n",
      "Epoch [49/50], Loss: 1.4700, Training Accuracy: 57.41%, Testing Accuracy: 33.41%, Evaluation Time: 24.62 minutes.\n",
      "Epoch [50/50], Loss: 1.4071, Training Accuracy: 59.08%, Testing Accuracy: 33.15%, Evaluation Time: 25.07 minutes.\n"
     ]
    },
    {
     "data": {
      "text/plain": [
       "(1.4071386596679687, 0.59084, 0.3315)"
      ]
     },
     "execution_count": 7,
     "metadata": {},
     "output_type": "execute_result"
    }
   ],
   "source": [
    "model_parameters = {\n",
    "    \"image_size\": pic_size,\n",
    "    \"channels\": [16, 32, 48, 48, 64, 64, 80, 80, 96, 96, 384],\n",
    "    \"num_classes\": 100,\n",
    "    \"expansion\": pic_size[0] // 2,\n",
    "    \"kernel_size\": 3,\n",
    "    \"patch_size\": (1, 1),\n",
    "    \"dims\": [96, 120, 144],\n",
    "    \"L\": [2, 4, 3],\n",
    "}\n",
    "trainer = Trainer(\n",
    "    MobileViT,\n",
    "    (trainloader, testloader),\n",
    "    batch_size=batch_size,\n",
    "    model_p=model_parameters,\n",
    "    learning_rate=0.02,\n",
    "    scheduler=(10, 0.5),\n",
    ")\n",
    "trainer.criterion = torch.nn.CrossEntropyLoss()\n",
    "# print(trainer.model)\n",
    "trainer.run(num_epochs=50, evaluation_interval=1)"
   ]
  },
  {
   "cell_type": "code",
   "execution_count": null,
   "metadata": {},
   "outputs": [],
   "source": [
    "print(trainer.training_loss)"
   ]
  },
  {
   "cell_type": "code",
   "execution_count": null,
   "metadata": {},
   "outputs": [],
   "source": [
    "print(trainer.training_accuracy)"
   ]
  },
  {
   "cell_type": "code",
   "execution_count": null,
   "metadata": {},
   "outputs": [],
   "source": [
    "print(trainer.testing_accuracy)"
   ]
  }
 ],
 "metadata": {
  "kernelspec": {
   "display_name": "pytorch_gpu",
   "language": "python",
   "name": "python3"
  },
  "language_info": {
   "codemirror_mode": {
    "name": "ipython",
    "version": 3
   },
   "file_extension": ".py",
   "mimetype": "text/x-python",
   "name": "python",
   "nbconvert_exporter": "python",
   "pygments_lexer": "ipython3",
   "version": "3.11.5"
  }
 },
 "nbformat": 4,
 "nbformat_minor": 2
}
