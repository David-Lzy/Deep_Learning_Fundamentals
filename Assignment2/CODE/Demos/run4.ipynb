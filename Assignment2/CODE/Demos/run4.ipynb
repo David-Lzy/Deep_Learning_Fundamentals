{
 "cells": [
  {
   "cell_type": "code",
   "execution_count": 1,
   "metadata": {},
   "outputs": [],
   "source": [
    "from Runner import Trainer\n",
    "from mobilevit import DynamicMobileViT\n",
    "from mobilevit import MobileViT\n",
    "import torch\n",
    "import torchvision\n",
    "import torchvision.transforms as transforms"
   ]
  },
  {
   "cell_type": "code",
   "execution_count": 2,
   "metadata": {},
   "outputs": [],
   "source": [
    "batch_size = 128\n",
    "pic_size = (64, 64)"
   ]
  },
  {
   "cell_type": "code",
   "execution_count": 3,
   "metadata": {},
   "outputs": [],
   "source": [
    "import torchvision.transforms as transforms\n",
    "import torchvision\n",
    "\n",
    "# 定义数据预处理操作：先调整大小，然后转换为张量并归一化\n",
    "transform = transforms.Compose(\n",
    "    [\n",
    "        transforms.Resize(pic_size),  # <-- 添加这一行来调整图像大小\n",
    "        transforms.ToTensor(),\n",
    "        transforms.Normalize((0.5, 0.5, 0.5), (0.5, 0.5, 0.5)),\n",
    "    ]\n",
    ")\n",
    "\n",
    "# 下载并加载训练集\n",
    "trainset = torchvision.datasets.CIFAR100(\n",
    "    root=\"../Data/cifar-100-python\", train=True, download=False, transform=transform\n",
    ")\n",
    "trainloader = torch.utils.data.DataLoader(\n",
    "    trainset, batch_size=batch_size, shuffle=True, num_workers=2\n",
    ")\n",
    "\n",
    "# 下载并加载测试集\n",
    "testset = torchvision.datasets.CIFAR100(\n",
    "    root=\"../Data/cifar-100-python\", train=False, download=False, transform=transform\n",
    ")\n",
    "testloader = torch.utils.data.DataLoader(\n",
    "    testset, batch_size=batch_size, shuffle=False, num_workers=2\n",
    ")"
   ]
  },
  {
   "cell_type": "code",
   "execution_count": 4,
   "metadata": {},
   "outputs": [
    {
     "name": "stdout",
     "output_type": "stream",
     "text": [
      "Epoch [1/50], Loss: 4.2620, Training Accuracy: 4.09%, Testing Accuracy: 2.88%, Evaluation Time: 1.35 minutes.\n",
      "Epoch [2/50], Loss: 4.0250, Training Accuracy: 6.88%, Testing Accuracy: 10.44%, Evaluation Time: 2.68 minutes.\n",
      "Epoch [3/50], Loss: 3.6815, Training Accuracy: 12.27%, Testing Accuracy: 14.02%, Evaluation Time: 4.02 minutes.\n",
      "Epoch [4/50], Loss: 3.3931, Training Accuracy: 17.90%, Testing Accuracy: 19.27%, Evaluation Time: 5.36 minutes.\n",
      "Epoch [5/50], Loss: 3.2315, Training Accuracy: 20.71%, Testing Accuracy: 22.51%, Evaluation Time: 6.70 minutes.\n",
      "Epoch [6/50], Loss: 3.0250, Training Accuracy: 24.25%, Testing Accuracy: 25.47%, Evaluation Time: 8.03 minutes.\n",
      "Epoch [7/50], Loss: 2.8279, Training Accuracy: 28.56%, Testing Accuracy: 28.40%, Evaluation Time: 9.37 minutes.\n",
      "Epoch [8/50], Loss: 2.6504, Training Accuracy: 32.04%, Testing Accuracy: 30.46%, Evaluation Time: 11.94 minutes.\n",
      "Epoch [9/50], Loss: 2.6486, Training Accuracy: 31.87%, Testing Accuracy: 31.00%, Evaluation Time: 13.27 minutes.\n",
      "Epoch [10/50], Loss: 2.4294, Training Accuracy: 36.58%, Testing Accuracy: 33.00%, Evaluation Time: 14.60 minutes.\n",
      "Epoch [11/50], Loss: 2.3119, Training Accuracy: 39.00%, Testing Accuracy: 33.37%, Evaluation Time: 15.94 minutes.\n",
      "Epoch [12/50], Loss: 2.2460, Training Accuracy: 40.62%, Testing Accuracy: 33.52%, Evaluation Time: 17.27 minutes.\n",
      "Epoch [13/50], Loss: 2.1073, Training Accuracy: 43.48%, Testing Accuracy: 34.84%, Evaluation Time: 18.60 minutes.\n",
      "Epoch [14/50], Loss: 2.0413, Training Accuracy: 45.03%, Testing Accuracy: 34.67%, Evaluation Time: 19.92 minutes.\n",
      "Epoch [15/50], Loss: 1.9822, Training Accuracy: 46.28%, Testing Accuracy: 35.34%, Evaluation Time: 21.25 minutes.\n",
      "Epoch [16/50], Loss: 1.9002, Training Accuracy: 48.36%, Testing Accuracy: 34.98%, Evaluation Time: 22.58 minutes.\n",
      "Epoch [17/50], Loss: 1.8612, Training Accuracy: 49.14%, Testing Accuracy: 35.53%, Evaluation Time: 23.92 minutes.\n",
      "Epoch [18/50], Loss: 1.8262, Training Accuracy: 49.82%, Testing Accuracy: 35.46%, Evaluation Time: 25.25 minutes.\n",
      "Epoch [19/50], Loss: 1.7774, Training Accuracy: 51.19%, Testing Accuracy: 35.42%, Evaluation Time: 26.58 minutes.\n",
      "Epoch [20/50], Loss: 1.7592, Training Accuracy: 51.36%, Testing Accuracy: 35.34%, Evaluation Time: 27.92 minutes.\n",
      "Epoch [21/50], Loss: 1.7390, Training Accuracy: 52.02%, Testing Accuracy: 35.35%, Evaluation Time: 29.24 minutes.\n",
      "Epoch [22/50], Loss: 1.7132, Training Accuracy: 52.71%, Testing Accuracy: 35.40%, Evaluation Time: 30.57 minutes.\n",
      "Epoch [23/50], Loss: 1.7026, Training Accuracy: 52.87%, Testing Accuracy: 35.56%, Evaluation Time: 31.91 minutes.\n",
      "Epoch [24/50], Loss: 1.6955, Training Accuracy: 52.93%, Testing Accuracy: 35.47%, Evaluation Time: 33.24 minutes.\n",
      "Epoch [25/50], Loss: 1.6819, Training Accuracy: 53.33%, Testing Accuracy: 35.29%, Evaluation Time: 34.58 minutes.\n",
      "Epoch [26/50], Loss: 1.6752, Training Accuracy: 53.46%, Testing Accuracy: 35.33%, Evaluation Time: 35.91 minutes.\n",
      "Epoch [27/50], Loss: 1.6681, Training Accuracy: 53.79%, Testing Accuracy: 35.26%, Evaluation Time: 37.25 minutes.\n",
      "Epoch [28/50], Loss: 1.6665, Training Accuracy: 53.89%, Testing Accuracy: 35.27%, Evaluation Time: 38.58 minutes.\n",
      "Epoch [29/50], Loss: 1.6598, Training Accuracy: 53.77%, Testing Accuracy: 35.31%, Evaluation Time: 39.92 minutes.\n",
      "Epoch [30/50], Loss: 1.6586, Training Accuracy: 53.91%, Testing Accuracy: 35.33%, Evaluation Time: 41.25 minutes.\n",
      "Epoch [31/50], Loss: 1.6539, Training Accuracy: 54.05%, Testing Accuracy: 35.32%, Evaluation Time: 42.59 minutes.\n",
      "Epoch [32/50], Loss: 1.6553, Training Accuracy: 53.94%, Testing Accuracy: 35.31%, Evaluation Time: 43.92 minutes.\n",
      "Epoch [33/50], Loss: 1.6557, Training Accuracy: 54.19%, Testing Accuracy: 35.27%, Evaluation Time: 45.26 minutes.\n",
      "Epoch [34/50], Loss: 1.6499, Training Accuracy: 54.20%, Testing Accuracy: 35.33%, Evaluation Time: 46.60 minutes.\n",
      "Epoch [35/50], Loss: 1.6511, Training Accuracy: 54.01%, Testing Accuracy: 35.36%, Evaluation Time: 47.94 minutes.\n",
      "Epoch [36/50], Loss: 1.6480, Training Accuracy: 54.11%, Testing Accuracy: 35.34%, Evaluation Time: 49.28 minutes.\n",
      "Epoch [37/50], Loss: 1.6505, Training Accuracy: 54.17%, Testing Accuracy: 35.36%, Evaluation Time: 50.63 minutes.\n",
      "Epoch [38/50], Loss: 1.6475, Training Accuracy: 54.14%, Testing Accuracy: 35.33%, Evaluation Time: 51.98 minutes.\n",
      "Epoch [39/50], Loss: 1.6540, Training Accuracy: 54.08%, Testing Accuracy: 35.29%, Evaluation Time: 53.32 minutes.\n",
      "Epoch [40/50], Loss: 1.6495, Training Accuracy: 54.06%, Testing Accuracy: 35.30%, Evaluation Time: 54.68 minutes.\n",
      "Epoch [41/50], Loss: 1.6419, Training Accuracy: 54.40%, Testing Accuracy: 35.33%, Evaluation Time: 56.02 minutes.\n",
      "Epoch [42/50], Loss: 1.6496, Training Accuracy: 54.00%, Testing Accuracy: 35.33%, Evaluation Time: 57.35 minutes.\n",
      "Epoch [43/50], Loss: 1.6492, Training Accuracy: 54.03%, Testing Accuracy: 35.30%, Evaluation Time: 58.69 minutes.\n",
      "Epoch [44/50], Loss: 1.6461, Training Accuracy: 54.15%, Testing Accuracy: 35.32%, Evaluation Time: 60.03 minutes.\n",
      "Epoch [45/50], Loss: 1.6479, Training Accuracy: 54.29%, Testing Accuracy: 35.31%, Evaluation Time: 61.37 minutes.\n",
      "Epoch [46/50], Loss: 1.6510, Training Accuracy: 54.14%, Testing Accuracy: 35.31%, Evaluation Time: 62.70 minutes.\n",
      "Epoch [47/50], Loss: 1.6469, Training Accuracy: 54.18%, Testing Accuracy: 35.32%, Evaluation Time: 64.15 minutes.\n",
      "Epoch [48/50], Loss: 1.6477, Training Accuracy: 54.12%, Testing Accuracy: 35.34%, Evaluation Time: 65.48 minutes.\n",
      "Epoch [49/50], Loss: 1.6479, Training Accuracy: 54.19%, Testing Accuracy: 35.32%, Evaluation Time: 66.80 minutes.\n",
      "Epoch [50/50], Loss: 1.6460, Training Accuracy: 54.27%, Testing Accuracy: 35.32%, Evaluation Time: 68.14 minutes.\n"
     ]
    },
    {
     "data": {
      "text/plain": [
       "(1.6460073776626587, 0.54268, 0.3532)"
      ]
     },
     "execution_count": 4,
     "metadata": {},
     "output_type": "execute_result"
    }
   ],
   "source": [
    "model_parameters = {\n",
    "    \"image_size\": pic_size,\n",
    "    \"channels\": [16, 32, 48, 48, 64, 64, 80, 80, 96, 96, 384],\n",
    "    \"num_classes\": 100,\n",
    "    \"expansion\": pic_size[0] // 2,\n",
    "    \"kernel_size\": 3,\n",
    "    \"patch_size\": (2, 2),\n",
    "    \"dims\": [96, 120, 144],\n",
    "    \"L\": [8, 8, 8],\n",
    "}\n",
    "trainer = Trainer(\n",
    "    MobileViT,\n",
    "    (trainloader, testloader),\n",
    "    batch_size=batch_size,\n",
    "    model_p=model_parameters,\n",
    ")\n",
    "trainer.criterion = torch.nn.CrossEntropyLoss() \n",
    "# print(trainer.model)\n",
    "trainer.run(num_epochs=50, evaluation_interval=1)"
   ]
  },
  {
   "cell_type": "code",
   "execution_count": 6,
   "metadata": {},
   "outputs": [
    {
     "name": "stdout",
     "output_type": "stream",
     "text": [
      "[4.261985183563232, 4.025037463378906, 3.681514261627197, 3.3931316424560545, 3.231485662460327, 3.0249885208129883, 2.827874513092041, 2.6503642908477785, 2.648610160369873, 2.4293954519653322, 2.311944264602661, 2.245968692321777, 2.1073405327606203, 2.0413344165802, 1.9821628901672363, 1.9001611084365844, 1.8611690036010742, 1.8262063994979858, 1.7774003897857666, 1.759181618270874, 1.7390322598648071, 1.7132100914764403, 1.7025542046356201, 1.695543721923828, 1.681934633102417, 1.6752265090179443, 1.6681104083251954, 1.6664517053222656, 1.659771476249695, 1.658633309288025, 1.653932202758789, 1.6552530449676515, 1.655748970375061, 1.6498652701187133, 1.6511372784805298, 1.6479934735107422, 1.6505160472869873, 1.6474957574081421, 1.6539987649536132, 1.6494747262191773, 1.6419018747329712, 1.6495826654434205, 1.6492099010849, 1.6460682270050049, 1.6478718793869018, 1.6510162377166748, 1.6468734450531006, 1.6476946060180664, 1.6479098006820678, 1.6460073776626587]\n"
     ]
    }
   ],
   "source": [
    "print(trainer.training_loss)"
   ]
  },
  {
   "cell_type": "code",
   "execution_count": 5,
   "metadata": {},
   "outputs": [
    {
     "name": "stdout",
     "output_type": "stream",
     "text": [
      "[0.04094, 0.0688, 0.1227, 0.17904, 0.20706, 0.24248, 0.2856, 0.32042, 0.31874, 0.36576, 0.39004, 0.40624, 0.43484, 0.45034, 0.4628, 0.48358, 0.49136, 0.49816, 0.51194, 0.51364, 0.5202, 0.52706, 0.52874, 0.52932, 0.5333, 0.5346, 0.5379, 0.53894, 0.53774, 0.53914, 0.54052, 0.53944, 0.54192, 0.54198, 0.54012, 0.5411, 0.54168, 0.54136, 0.54078, 0.54058, 0.54404, 0.53998, 0.54032, 0.54148, 0.54288, 0.5414, 0.54184, 0.54124, 0.54186, 0.54268]\n"
     ]
    }
   ],
   "source": [
    "print(trainer.training_accuracy)"
   ]
  },
  {
   "cell_type": "code",
   "execution_count": 7,
   "metadata": {},
   "outputs": [
    {
     "name": "stdout",
     "output_type": "stream",
     "text": [
      "[0.0288, 0.1044, 0.1402, 0.1927, 0.2251, 0.2547, 0.284, 0.3046, 0.31, 0.33, 0.3337, 0.3352, 0.3484, 0.3467, 0.3534, 0.3498, 0.3553, 0.3546, 0.3542, 0.3534, 0.3535, 0.354, 0.3556, 0.3547, 0.3529, 0.3533, 0.3526, 0.3527, 0.3531, 0.3533, 0.3532, 0.3531, 0.3527, 0.3533, 0.3536, 0.3534, 0.3536, 0.3533, 0.3529, 0.353, 0.3533, 0.3533, 0.353, 0.3532, 0.3531, 0.3531, 0.3532, 0.3534, 0.3532, 0.3532]\n"
     ]
    }
   ],
   "source": [
    "print(trainer.testing_accuracy)"
   ]
  }
 ],
 "metadata": {
  "kernelspec": {
   "display_name": "pytorch_gpu",
   "language": "python",
   "name": "python3"
  },
  "language_info": {
   "codemirror_mode": {
    "name": "ipython",
    "version": 3
   },
   "file_extension": ".py",
   "mimetype": "text/x-python",
   "name": "python",
   "nbconvert_exporter": "python",
   "pygments_lexer": "ipython3",
   "version": "3.11.5"
  }
 },
 "nbformat": 4,
 "nbformat_minor": 2
}
