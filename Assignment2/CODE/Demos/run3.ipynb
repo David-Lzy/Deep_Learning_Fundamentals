{
 "cells": [
  {
   "cell_type": "code",
   "execution_count": 2,
   "metadata": {},
   "outputs": [],
   "source": [
    "from Runner import Trainer\n",
    "from mobilevit import DynamicMobileViT\n",
    "from mobilevit import MobileViT\n",
    "import torch\n",
    "import torchvision\n",
    "import torchvision.transforms as transforms"
   ]
  },
  {
   "cell_type": "code",
   "execution_count": 3,
   "metadata": {},
   "outputs": [],
   "source": [
    "batch_size = 128"
   ]
  },
  {
   "cell_type": "code",
   "execution_count": 4,
   "metadata": {},
   "outputs": [],
   "source": [
    "# 定义数据预处理操作：转换为张量并归一化\n",
    "transform = transforms.Compose(\n",
    "    [transforms.ToTensor(), transforms.Normalize((0.5, 0.5, 0.5), (0.5, 0.5, 0.5))]\n",
    ")\n",
    "\n",
    "# 下载并加载训练集\n",
    "trainset = torchvision.datasets.CIFAR100(\n",
    "    root=\"../Data/cifar-100-python\", train=True, download=False, transform=transform\n",
    ")\n",
    "trainloader = torch.utils.data.DataLoader(\n",
    "    trainset, batch_size=batch_size, shuffle=True, num_workers=2\n",
    ")\n",
    "\n",
    "# 下载并加载测试集\n",
    "testset = torchvision.datasets.CIFAR100(\n",
    "    root=\"../Data/cifar-100-python\", train=False, download=False, transform=transform\n",
    ")\n",
    "testloader = torch.utils.data.DataLoader(\n",
    "    testset, batch_size=batch_size, shuffle=False, num_workers=2\n",
    ")"
   ]
  },
  {
   "cell_type": "code",
   "execution_count": 5,
   "metadata": {},
   "outputs": [],
   "source": [
    "model_parameters = {\n",
    "    \"image_size\": (32, 32),\n",
    "    \"channels\": [16, 16, 24, 24, 32, 32, 48, 48, 64, 64, 120],\n",
    "    \"num_classes\": 100,\n",
    "    \"expansion\": 1,\n",
    "    \"kernel_size\": 3,\n",
    "    \"patch_size\": (1, 1),\n",
    "    \"dims\": [32, 24, 48],\n",
    "    \"L\": [2, 2, 2],\n",
    "}\n",
    "trainer = Trainer(\n",
    "    MobileViT,\n",
    "    (trainloader, testloader),\n",
    "    batch_size=batch_size,\n",
    "    model_p=model_parameters,\n",
    ")\n",
    "trainer.criterion = torch.nn.CrossEntropyLoss()\n",
    "# print(trainer.model)\n",
    "# trainer.run(num_epochs=2, evaluation_interval=1)"
   ]
  },
  {
   "cell_type": "code",
   "execution_count": 6,
   "metadata": {},
   "outputs": [
    {
     "name": "stdout",
     "output_type": "stream",
     "text": [
      "Epoch [2/100], Loss: 3.4827, Training Accuracy: 15.95%, Testing Accuracy: 18.21%, Evaluation Time: 0.70 minutes.\n",
      "Epoch [4/100], Loss: 3.0573, Training Accuracy: 23.79%, Testing Accuracy: 24.41%, Evaluation Time: 1.27 minutes.\n",
      "Epoch [6/100], Loss: 2.7873, Training Accuracy: 29.07%, Testing Accuracy: 27.88%, Evaluation Time: 2.71 minutes.\n",
      "Epoch [8/100], Loss: 2.5953, Training Accuracy: 33.08%, Testing Accuracy: 30.14%, Evaluation Time: 3.43 minutes.\n",
      "Epoch [10/100], Loss: 2.4350, Training Accuracy: 36.08%, Testing Accuracy: 31.27%, Evaluation Time: 4.07 minutes.\n",
      "Epoch [12/100], Loss: 2.2952, Training Accuracy: 39.26%, Testing Accuracy: 32.37%, Evaluation Time: 4.81 minutes.\n",
      "Epoch [14/100], Loss: 2.1709, Training Accuracy: 41.89%, Testing Accuracy: 32.44%, Evaluation Time: 5.54 minutes.\n",
      "Epoch [16/100], Loss: 2.0681, Training Accuracy: 43.66%, Testing Accuracy: 33.11%, Evaluation Time: 6.20 minutes.\n",
      "Epoch [18/100], Loss: 1.9621, Training Accuracy: 46.30%, Testing Accuracy: 33.14%, Evaluation Time: 6.85 minutes.\n",
      "Epoch [20/100], Loss: 1.8724, Training Accuracy: 48.32%, Testing Accuracy: 32.90%, Evaluation Time: 7.57 minutes.\n",
      "Epoch [22/100], Loss: 1.7889, Training Accuracy: 50.11%, Testing Accuracy: 32.73%, Evaluation Time: 8.28 minutes.\n",
      "Epoch [24/100], Loss: 1.7044, Training Accuracy: 52.14%, Testing Accuracy: 32.22%, Evaluation Time: 9.01 minutes.\n",
      "Epoch [26/100], Loss: 1.6427, Training Accuracy: 53.26%, Testing Accuracy: 31.97%, Evaluation Time: 9.70 minutes.\n",
      "Epoch [28/100], Loss: 1.5734, Training Accuracy: 54.93%, Testing Accuracy: 32.12%, Evaluation Time: 10.41 minutes.\n",
      "Epoch [30/100], Loss: 1.5087, Training Accuracy: 56.70%, Testing Accuracy: 31.92%, Evaluation Time: 11.02 minutes.\n",
      "Epoch [32/100], Loss: 1.4505, Training Accuracy: 57.91%, Testing Accuracy: 31.16%, Evaluation Time: 11.75 minutes.\n",
      "Epoch [34/100], Loss: 1.4021, Training Accuracy: 59.26%, Testing Accuracy: 31.34%, Evaluation Time: 12.47 minutes.\n",
      "Epoch [36/100], Loss: 1.3571, Training Accuracy: 60.40%, Testing Accuracy: 31.32%, Evaluation Time: 13.15 minutes.\n",
      "Epoch [38/100], Loss: 1.3092, Training Accuracy: 61.36%, Testing Accuracy: 31.07%, Evaluation Time: 13.84 minutes.\n",
      "Epoch [40/100], Loss: 1.2715, Training Accuracy: 62.10%, Testing Accuracy: 30.98%, Evaluation Time: 14.57 minutes.\n",
      "Epoch [42/100], Loss: 1.2254, Training Accuracy: 63.64%, Testing Accuracy: 30.64%, Evaluation Time: 15.26 minutes.\n",
      "Epoch [44/100], Loss: 1.1966, Training Accuracy: 64.02%, Testing Accuracy: 30.17%, Evaluation Time: 17.51 minutes.\n",
      "Epoch [46/100], Loss: 1.1643, Training Accuracy: 64.90%, Testing Accuracy: 29.82%, Evaluation Time: 18.26 minutes.\n",
      "Epoch [48/100], Loss: 1.1243, Training Accuracy: 65.93%, Testing Accuracy: 29.93%, Evaluation Time: 18.96 minutes.\n",
      "Epoch [50/100], Loss: 1.0960, Training Accuracy: 66.75%, Testing Accuracy: 29.81%, Evaluation Time: 19.69 minutes.\n",
      "Epoch [52/100], Loss: 1.0772, Training Accuracy: 67.18%, Testing Accuracy: 30.27%, Evaluation Time: 20.39 minutes.\n",
      "Epoch [54/100], Loss: 1.0395, Training Accuracy: 68.36%, Testing Accuracy: 29.68%, Evaluation Time: 21.08 minutes.\n",
      "Epoch [56/100], Loss: 1.0133, Training Accuracy: 68.91%, Testing Accuracy: 29.20%, Evaluation Time: 21.74 minutes.\n",
      "Epoch [58/100], Loss: 0.9924, Training Accuracy: 69.46%, Testing Accuracy: 29.57%, Evaluation Time: 22.40 minutes.\n",
      "Epoch [60/100], Loss: 0.9622, Training Accuracy: 70.26%, Testing Accuracy: 29.78%, Evaluation Time: 23.09 minutes.\n",
      "Epoch [62/100], Loss: 0.9360, Training Accuracy: 70.94%, Testing Accuracy: 29.38%, Evaluation Time: 23.77 minutes.\n",
      "Epoch [64/100], Loss: 0.9305, Training Accuracy: 71.35%, Testing Accuracy: 29.48%, Evaluation Time: 24.44 minutes.\n",
      "Epoch [66/100], Loss: 0.9101, Training Accuracy: 71.52%, Testing Accuracy: 29.22%, Evaluation Time: 25.16 minutes.\n",
      "Epoch [68/100], Loss: 0.8735, Training Accuracy: 72.55%, Testing Accuracy: 28.68%, Evaluation Time: 25.82 minutes.\n",
      "Epoch [70/100], Loss: 0.8837, Training Accuracy: 72.35%, Testing Accuracy: 28.72%, Evaluation Time: 26.51 minutes.\n",
      "Epoch [72/100], Loss: 0.8564, Training Accuracy: 73.17%, Testing Accuracy: 29.15%, Evaluation Time: 27.18 minutes.\n",
      "Epoch [74/100], Loss: 0.8316, Training Accuracy: 73.70%, Testing Accuracy: 29.12%, Evaluation Time: 27.83 minutes.\n",
      "Epoch [76/100], Loss: 0.8296, Training Accuracy: 73.88%, Testing Accuracy: 29.29%, Evaluation Time: 28.52 minutes.\n",
      "Epoch [78/100], Loss: 0.8135, Training Accuracy: 74.33%, Testing Accuracy: 29.55%, Evaluation Time: 29.21 minutes.\n",
      "Epoch [80/100], Loss: 0.8082, Training Accuracy: 74.46%, Testing Accuracy: 28.71%, Evaluation Time: 29.92 minutes.\n",
      "Epoch [82/100], Loss: 0.7794, Training Accuracy: 75.32%, Testing Accuracy: 29.14%, Evaluation Time: 30.60 minutes.\n",
      "Epoch [84/100], Loss: 0.7792, Training Accuracy: 75.33%, Testing Accuracy: 29.24%, Evaluation Time: 31.29 minutes.\n",
      "Epoch [86/100], Loss: 0.7608, Training Accuracy: 75.85%, Testing Accuracy: 29.30%, Evaluation Time: 32.00 minutes.\n",
      "Epoch [88/100], Loss: 0.7309, Training Accuracy: 76.53%, Testing Accuracy: 28.68%, Evaluation Time: 32.67 minutes.\n",
      "Epoch [90/100], Loss: 0.7310, Training Accuracy: 76.66%, Testing Accuracy: 28.78%, Evaluation Time: 33.36 minutes.\n",
      "Epoch [92/100], Loss: 0.7253, Training Accuracy: 76.76%, Testing Accuracy: 28.94%, Evaluation Time: 34.09 minutes.\n",
      "Epoch [94/100], Loss: 0.7085, Training Accuracy: 77.45%, Testing Accuracy: 28.76%, Evaluation Time: 34.78 minutes.\n",
      "Epoch [96/100], Loss: 0.7013, Training Accuracy: 77.48%, Testing Accuracy: 28.86%, Evaluation Time: 35.42 minutes.\n",
      "Epoch [98/100], Loss: 0.6947, Training Accuracy: 77.58%, Testing Accuracy: 28.80%, Evaluation Time: 35.96 minutes.\n",
      "Epoch [100/100], Loss: 0.6762, Training Accuracy: 78.00%, Testing Accuracy: 28.64%, Evaluation Time: 36.62 minutes.\n"
     ]
    },
    {
     "data": {
      "text/plain": [
       "(0.6762190460205079, 0.78002, 0.2864)"
      ]
     },
     "execution_count": 6,
     "metadata": {},
     "output_type": "execute_result"
    }
   ],
   "source": [
    "trainer.run(num_epochs=100, evaluation_interval=2)"
   ]
  },
  {
   "cell_type": "code",
   "execution_count": 7,
   "metadata": {},
   "outputs": [
    {
     "name": "stdout",
     "output_type": "stream",
     "text": [
      "[3.4827022772216796, 3.0573204972839356, 2.7872879694366457, 2.5953267754364013, 2.4350138500976564, 2.295180014343262, 2.1709428524780274, 2.06809460395813, 1.9621449346160889, 1.872390031890869, 1.7888613626861571, 1.7044113022613525, 1.642662685623169, 1.5734170587921144, 1.5086948630523682, 1.4504989950942992, 1.4020560696792603, 1.3570622166061401, 1.3092389041137695, 1.2714979293060302, 1.2253707805633545, 1.1965837574386597, 1.1643435482025146, 1.124296219444275, 1.0959806728744508, 1.077175712738037, 1.0395108800506592, 1.0133296142578125, 0.9924022466278076, 0.9622473499298095, 0.9359971186447144, 0.9304908992767335, 0.9101015407562256, 0.8734650938796997, 0.8836610856246948, 0.8563630463790893, 0.8316029332351684, 0.8295556558990479, 0.8134768690872193, 0.8081777823257447, 0.7793779781532287, 0.7791810579299927, 0.7607745924186706, 0.7308960673904419, 0.7309774300003051, 0.7253246658325195, 0.708523377494812, 0.7012868467903137, 0.6946726025390625, 0.6762190460205079]\n"
     ]
    }
   ],
   "source": [
    "print(trainer.training_loss)"
   ]
  },
  {
   "cell_type": "code",
   "execution_count": 8,
   "metadata": {},
   "outputs": [
    {
     "name": "stdout",
     "output_type": "stream",
     "text": [
      "[0.15954, 0.23788, 0.29074, 0.33082, 0.36084, 0.39258, 0.41888, 0.43656, 0.463, 0.48318, 0.50108, 0.52136, 0.53256, 0.54932, 0.56702, 0.57912, 0.59258, 0.60398, 0.61362, 0.62096, 0.6364, 0.64024, 0.649, 0.65932, 0.66754, 0.67184, 0.68356, 0.68908, 0.6946, 0.70258, 0.7094, 0.71346, 0.71524, 0.7255, 0.7235, 0.73172, 0.73702, 0.73884, 0.74326, 0.74462, 0.75322, 0.7533, 0.75848, 0.76526, 0.76664, 0.76756, 0.77452, 0.7748, 0.77576, 0.78002]\n"
     ]
    }
   ],
   "source": [
    "print(trainer.training_accuracy)"
   ]
  },
  {
   "cell_type": "code",
   "execution_count": 9,
   "metadata": {},
   "outputs": [
    {
     "name": "stdout",
     "output_type": "stream",
     "text": [
      "[0.1821, 0.2441, 0.2788, 0.3014, 0.3127, 0.3237, 0.3244, 0.3311, 0.3314, 0.329, 0.3273, 0.3222, 0.3197, 0.3212, 0.3192, 0.3116, 0.3134, 0.3132, 0.3107, 0.3098, 0.3064, 0.3017, 0.2982, 0.2993, 0.2981, 0.3027, 0.2968, 0.292, 0.2957, 0.2978, 0.2938, 0.2948, 0.2922, 0.2868, 0.2872, 0.2915, 0.2912, 0.2929, 0.2955, 0.2871, 0.2914, 0.2924, 0.293, 0.2868, 0.2878, 0.2894, 0.2876, 0.2886, 0.288, 0.2864]\n"
     ]
    }
   ],
   "source": [
    "print(trainer.testing_accuracy)"
   ]
  },
  {
   "cell_type": "code",
   "execution_count": 10,
   "metadata": {},
   "outputs": [],
   "source": [
    "model_parameters = {\n",
    "    \"image_size\": (32, 32),\n",
    "    \"channels\": [16, 16, 24, 24, 32, 32, 48, 48, 64, 64, 120],\n",
    "    \"num_classes\": 100,\n",
    "    \"expansion\": 1,\n",
    "    \"kernel_size\": 3,\n",
    "    \"patch_size\": (1, 1),\n",
    "    \"dims\": [32, 24, 48],\n",
    "    \"L\": [2, 2, 2],\n",
    "}\n",
    "trainer = Trainer(\n",
    "    MobileViT,\n",
    "    (trainloader, testloader),\n",
    "    batch_size=batch_size,\n",
    "    model_p=model_parameters,\n",
    ")\n",
    "trainer.criterion = torch.nn.CrossEntropyLoss()\n",
    "# print(trainer.model)\n",
    "# trainer.run(num_epochs=2, evaluation_interval=1)"
   ]
  },
  {
   "cell_type": "code",
   "execution_count": 11,
   "metadata": {},
   "outputs": [
    {
     "name": "stdout",
     "output_type": "stream",
     "text": [
      "Epoch [2/100], Loss: 3.4287, Training Accuracy: 16.98%, Testing Accuracy: 18.27%, Evaluation Time: 0.69 minutes.\n",
      "Epoch [4/100], Loss: 3.0483, Training Accuracy: 23.97%, Testing Accuracy: 23.57%, Evaluation Time: 1.42 minutes.\n",
      "Epoch [6/100], Loss: 2.7915, Training Accuracy: 29.03%, Testing Accuracy: 26.72%, Evaluation Time: 2.10 minutes.\n",
      "Epoch [8/100], Loss: 2.5994, Training Accuracy: 32.76%, Testing Accuracy: 28.30%, Evaluation Time: 2.77 minutes.\n",
      "Epoch [10/100], Loss: 2.4456, Training Accuracy: 36.08%, Testing Accuracy: 29.68%, Evaluation Time: 3.45 minutes.\n",
      "Epoch [12/100], Loss: 2.3188, Training Accuracy: 38.65%, Testing Accuracy: 30.97%, Evaluation Time: 4.11 minutes.\n",
      "Epoch [14/100], Loss: 2.1924, Training Accuracy: 41.31%, Testing Accuracy: 31.18%, Evaluation Time: 4.84 minutes.\n",
      "Epoch [16/100], Loss: 2.0959, Training Accuracy: 43.20%, Testing Accuracy: 31.79%, Evaluation Time: 5.58 minutes.\n",
      "Epoch [18/100], Loss: 1.9895, Training Accuracy: 45.76%, Testing Accuracy: 31.46%, Evaluation Time: 6.35 minutes.\n",
      "Epoch [20/100], Loss: 1.8998, Training Accuracy: 47.69%, Testing Accuracy: 31.16%, Evaluation Time: 7.07 minutes.\n",
      "Epoch [22/100], Loss: 1.8220, Training Accuracy: 49.31%, Testing Accuracy: 31.60%, Evaluation Time: 8.55 minutes.\n",
      "Epoch [24/100], Loss: 1.7399, Training Accuracy: 51.30%, Testing Accuracy: 31.31%, Evaluation Time: 9.26 minutes.\n",
      "Epoch [26/100], Loss: 1.6678, Training Accuracy: 53.09%, Testing Accuracy: 30.65%, Evaluation Time: 13.31 minutes.\n",
      "Epoch [28/100], Loss: 1.6048, Training Accuracy: 54.69%, Testing Accuracy: 30.46%, Evaluation Time: 14.03 minutes.\n",
      "Epoch [30/100], Loss: 1.5563, Training Accuracy: 55.56%, Testing Accuracy: 30.36%, Evaluation Time: 14.74 minutes.\n",
      "Epoch [32/100], Loss: 1.4926, Training Accuracy: 57.12%, Testing Accuracy: 29.90%, Evaluation Time: 15.45 minutes.\n",
      "Epoch [34/100], Loss: 1.4418, Training Accuracy: 58.28%, Testing Accuracy: 29.99%, Evaluation Time: 16.13 minutes.\n",
      "Epoch [36/100], Loss: 1.3930, Training Accuracy: 59.45%, Testing Accuracy: 29.96%, Evaluation Time: 16.89 minutes.\n",
      "Epoch [38/100], Loss: 1.3464, Training Accuracy: 60.65%, Testing Accuracy: 29.07%, Evaluation Time: 17.50 minutes.\n",
      "Epoch [40/100], Loss: 1.3112, Training Accuracy: 61.44%, Testing Accuracy: 29.47%, Evaluation Time: 18.13 minutes.\n",
      "Epoch [42/100], Loss: 1.2725, Training Accuracy: 62.41%, Testing Accuracy: 29.45%, Evaluation Time: 18.77 minutes.\n",
      "Epoch [44/100], Loss: 1.2334, Training Accuracy: 63.21%, Testing Accuracy: 29.35%, Evaluation Time: 19.52 minutes.\n",
      "Epoch [46/100], Loss: 1.1952, Training Accuracy: 64.27%, Testing Accuracy: 29.30%, Evaluation Time: 20.20 minutes.\n",
      "Epoch [48/100], Loss: 1.1644, Training Accuracy: 65.10%, Testing Accuracy: 28.95%, Evaluation Time: 20.85 minutes.\n",
      "Epoch [50/100], Loss: 1.1355, Training Accuracy: 65.70%, Testing Accuracy: 28.95%, Evaluation Time: 21.57 minutes.\n",
      "Epoch [52/100], Loss: 1.1106, Training Accuracy: 66.51%, Testing Accuracy: 29.32%, Evaluation Time: 22.31 minutes.\n",
      "Epoch [54/100], Loss: 1.0902, Training Accuracy: 67.09%, Testing Accuracy: 28.69%, Evaluation Time: 23.00 minutes.\n",
      "Epoch [56/100], Loss: 1.0584, Training Accuracy: 67.90%, Testing Accuracy: 29.10%, Evaluation Time: 23.72 minutes.\n",
      "Epoch [58/100], Loss: 1.0219, Training Accuracy: 68.95%, Testing Accuracy: 28.50%, Evaluation Time: 24.40 minutes.\n",
      "Epoch [60/100], Loss: 1.0080, Training Accuracy: 69.04%, Testing Accuracy: 29.30%, Evaluation Time: 25.12 minutes.\n",
      "Epoch [62/100], Loss: 0.9982, Training Accuracy: 69.47%, Testing Accuracy: 29.03%, Evaluation Time: 25.82 minutes.\n",
      "Epoch [64/100], Loss: 0.9679, Training Accuracy: 70.10%, Testing Accuracy: 28.35%, Evaluation Time: 26.57 minutes.\n",
      "Epoch [66/100], Loss: 0.9465, Training Accuracy: 70.56%, Testing Accuracy: 28.23%, Evaluation Time: 27.21 minutes.\n",
      "Epoch [68/100], Loss: 0.9183, Training Accuracy: 71.60%, Testing Accuracy: 28.26%, Evaluation Time: 27.88 minutes.\n",
      "Epoch [70/100], Loss: 0.9260, Training Accuracy: 71.40%, Testing Accuracy: 28.45%, Evaluation Time: 28.54 minutes.\n",
      "Epoch [72/100], Loss: 0.8852, Training Accuracy: 72.49%, Testing Accuracy: 28.15%, Evaluation Time: 29.24 minutes.\n",
      "Epoch [74/100], Loss: 0.8740, Training Accuracy: 72.88%, Testing Accuracy: 28.16%, Evaluation Time: 29.88 minutes.\n",
      "Epoch [76/100], Loss: 0.8518, Training Accuracy: 73.34%, Testing Accuracy: 28.44%, Evaluation Time: 30.51 minutes.\n",
      "Epoch [78/100], Loss: 0.8489, Training Accuracy: 73.42%, Testing Accuracy: 27.61%, Evaluation Time: 31.22 minutes.\n",
      "Epoch [80/100], Loss: 0.8344, Training Accuracy: 73.95%, Testing Accuracy: 27.65%, Evaluation Time: 31.94 minutes.\n",
      "Epoch [82/100], Loss: 0.8017, Training Accuracy: 74.75%, Testing Accuracy: 28.06%, Evaluation Time: 32.65 minutes.\n",
      "Epoch [84/100], Loss: 0.8135, Training Accuracy: 74.47%, Testing Accuracy: 28.14%, Evaluation Time: 33.34 minutes.\n",
      "Epoch [86/100], Loss: 0.7823, Training Accuracy: 75.39%, Testing Accuracy: 27.72%, Evaluation Time: 33.95 minutes.\n",
      "Epoch [88/100], Loss: 0.7768, Training Accuracy: 75.31%, Testing Accuracy: 28.11%, Evaluation Time: 34.66 minutes.\n",
      "Epoch [90/100], Loss: 0.7728, Training Accuracy: 75.53%, Testing Accuracy: 28.04%, Evaluation Time: 35.40 minutes.\n",
      "Epoch [92/100], Loss: 0.7445, Training Accuracy: 76.52%, Testing Accuracy: 28.16%, Evaluation Time: 36.15 minutes.\n",
      "Epoch [94/100], Loss: 0.7506, Training Accuracy: 76.35%, Testing Accuracy: 27.96%, Evaluation Time: 36.90 minutes.\n",
      "Epoch [96/100], Loss: 0.7356, Training Accuracy: 76.43%, Testing Accuracy: 28.20%, Evaluation Time: 37.61 minutes.\n",
      "Epoch [98/100], Loss: 0.7236, Training Accuracy: 77.04%, Testing Accuracy: 27.51%, Evaluation Time: 38.33 minutes.\n",
      "Epoch [100/100], Loss: 0.7132, Training Accuracy: 77.42%, Testing Accuracy: 27.66%, Evaluation Time: 38.96 minutes.\n"
     ]
    },
    {
     "data": {
      "text/plain": [
       "(0.713158300037384, 0.7742, 0.2766)"
      ]
     },
     "execution_count": 11,
     "metadata": {},
     "output_type": "execute_result"
    }
   ],
   "source": [
    "trainer.run(num_epochs=100, evaluation_interval=2)"
   ]
  },
  {
   "cell_type": "code",
   "execution_count": 12,
   "metadata": {},
   "outputs": [
    {
     "name": "stdout",
     "output_type": "stream",
     "text": [
      "[3.4287241845703127, 3.0482888483428954, 2.7914977104187013, 2.59938586227417, 2.4456279846954345, 2.3187704963684084, 2.1923983071136472, 2.0958735526275634, 1.9895088512420653, 1.8998101456451415, 1.8220220835876464, 1.7399027761459351, 1.667806135559082, 1.6047695003890992, 1.556299162864685, 1.4926462506484985, 1.4417938604354859, 1.3929903273773194, 1.3464134693145753, 1.311213076019287, 1.2725068015289307, 1.2334324696731567, 1.1952299087142944, 1.1644478911972045, 1.1354688024139403, 1.1105640647125243, 1.090173967552185, 1.0584340033721924, 1.0219169509124757, 1.007968767967224, 0.9981524448394775, 0.9679022742080688, 0.9464741007995605, 0.9182709280776977, 0.9260394021606445, 0.8852219886016846, 0.8739889862251282, 0.8518274251365662, 0.8488642700195312, 0.834410734424591, 0.8017280724906921, 0.8134615997695923, 0.782259920501709, 0.7767995666503906, 0.7728154090499878, 0.7445163214874267, 0.7505722640991211, 0.7356187761497498, 0.7235924639511109, 0.713158300037384]\n"
     ]
    }
   ],
   "source": [
    "print(trainer.training_loss)"
   ]
  },
  {
   "cell_type": "code",
   "execution_count": 13,
   "metadata": {},
   "outputs": [
    {
     "name": "stdout",
     "output_type": "stream",
     "text": [
      "[0.16982, 0.2397, 0.29028, 0.32758, 0.36078, 0.38654, 0.41306, 0.432, 0.45762, 0.47688, 0.49308, 0.51296, 0.5309, 0.54688, 0.55558, 0.57116, 0.58276, 0.59454, 0.60648, 0.61442, 0.62408, 0.63214, 0.6427, 0.65102, 0.65696, 0.66508, 0.67088, 0.67902, 0.68954, 0.6904, 0.69468, 0.70104, 0.70564, 0.71604, 0.71396, 0.72488, 0.72878, 0.73344, 0.7342, 0.73952, 0.74746, 0.74472, 0.75394, 0.75314, 0.75528, 0.76518, 0.76354, 0.76428, 0.77038, 0.7742]\n"
     ]
    }
   ],
   "source": [
    "print(trainer.training_accuracy)"
   ]
  },
  {
   "cell_type": "code",
   "execution_count": 14,
   "metadata": {},
   "outputs": [
    {
     "name": "stdout",
     "output_type": "stream",
     "text": [
      "[0.1827, 0.2357, 0.2672, 0.283, 0.2968, 0.3097, 0.3118, 0.3179, 0.3146, 0.3116, 0.316, 0.3131, 0.3065, 0.3046, 0.3036, 0.299, 0.2999, 0.2996, 0.2907, 0.2947, 0.2945, 0.2935, 0.293, 0.2895, 0.2895, 0.2932, 0.2869, 0.291, 0.285, 0.293, 0.2903, 0.2835, 0.2823, 0.2826, 0.2845, 0.2815, 0.2816, 0.2844, 0.2761, 0.2765, 0.2806, 0.2814, 0.2772, 0.2811, 0.2804, 0.2816, 0.2796, 0.282, 0.2751, 0.2766]\n"
     ]
    }
   ],
   "source": [
    "print(trainer.testing_accuracy)"
   ]
  },
  {
   "cell_type": "code",
   "execution_count": 15,
   "metadata": {},
   "outputs": [],
   "source": [
    "model_parameters = {\n",
    "    \"image_size\": (32, 32),\n",
    "    \"channels\": [16, 16, 24, 24, 48, 48, 64, 64, 80, 80, 320],\n",
    "    \"num_classes\": 100,\n",
    "    \"expansion\": 1,\n",
    "    \"kernel_size\": 3,\n",
    "    \"patch_size\": (1, 1),\n",
    "    \"dims\": [64, 80, 96],\n",
    "    \"L\": [2, 2, 2],\n",
    "}\n",
    "trainer = Trainer(\n",
    "    MobileViT,\n",
    "    (trainloader, testloader),\n",
    "    batch_size=batch_size,\n",
    "    model_p=model_parameters,\n",
    ")\n",
    "trainer.criterion = torch.nn.CrossEntropyLoss()"
   ]
  },
  {
   "cell_type": "code",
   "execution_count": 16,
   "metadata": {},
   "outputs": [
    {
     "name": "stdout",
     "output_type": "stream",
     "text": [
      "Epoch [2/100], Loss: 3.3643, Training Accuracy: 17.99%, Testing Accuracy: 20.95%, Evaluation Time: 0.72 minutes.\n",
      "Epoch [4/100], Loss: 2.9201, Training Accuracy: 26.55%, Testing Accuracy: 25.97%, Evaluation Time: 1.46 minutes.\n",
      "Epoch [6/100], Loss: 2.6531, Training Accuracy: 31.85%, Testing Accuracy: 28.86%, Evaluation Time: 2.14 minutes.\n",
      "Epoch [8/100], Loss: 2.4491, Training Accuracy: 35.70%, Testing Accuracy: 30.62%, Evaluation Time: 2.86 minutes.\n",
      "Epoch [10/100], Loss: 2.2738, Training Accuracy: 39.55%, Testing Accuracy: 31.45%, Evaluation Time: 3.60 minutes.\n",
      "Epoch [12/100], Loss: 2.1078, Training Accuracy: 43.01%, Testing Accuracy: 32.48%, Evaluation Time: 4.31 minutes.\n",
      "Epoch [14/100], Loss: 1.9546, Training Accuracy: 46.27%, Testing Accuracy: 32.11%, Evaluation Time: 4.96 minutes.\n",
      "Epoch [16/100], Loss: 1.7970, Training Accuracy: 50.09%, Testing Accuracy: 31.74%, Evaluation Time: 5.71 minutes.\n",
      "Epoch [18/100], Loss: 1.6587, Training Accuracy: 53.18%, Testing Accuracy: 32.13%, Evaluation Time: 6.42 minutes.\n",
      "Epoch [20/100], Loss: 1.5348, Training Accuracy: 56.01%, Testing Accuracy: 31.62%, Evaluation Time: 7.32 minutes.\n",
      "Epoch [22/100], Loss: 1.3906, Training Accuracy: 59.71%, Testing Accuracy: 30.95%, Evaluation Time: 8.04 minutes.\n",
      "Epoch [24/100], Loss: 1.2914, Training Accuracy: 62.23%, Testing Accuracy: 31.45%, Evaluation Time: 8.77 minutes.\n",
      "Epoch [26/100], Loss: 1.3131, Training Accuracy: 61.51%, Testing Accuracy: 31.34%, Evaluation Time: 9.49 minutes.\n",
      "Epoch [28/100], Loss: 1.1029, Training Accuracy: 66.91%, Testing Accuracy: 31.08%, Evaluation Time: 10.14 minutes.\n",
      "Epoch [30/100], Loss: 1.0953, Training Accuracy: 67.18%, Testing Accuracy: 29.29%, Evaluation Time: 10.86 minutes.\n",
      "Epoch [32/100], Loss: 1.1332, Training Accuracy: 67.08%, Testing Accuracy: 31.15%, Evaluation Time: 11.55 minutes.\n",
      "Epoch [34/100], Loss: 0.9979, Training Accuracy: 69.99%, Testing Accuracy: 30.98%, Evaluation Time: 12.27 minutes.\n",
      "Epoch [36/100], Loss: 0.7936, Training Accuracy: 75.33%, Testing Accuracy: 30.25%, Evaluation Time: 12.95 minutes.\n",
      "Epoch [38/100], Loss: 0.7711, Training Accuracy: 76.13%, Testing Accuracy: 29.97%, Evaluation Time: 13.69 minutes.\n",
      "Epoch [40/100], Loss: 0.7176, Training Accuracy: 77.37%, Testing Accuracy: 29.85%, Evaluation Time: 14.38 minutes.\n",
      "Epoch [42/100], Loss: 0.6853, Training Accuracy: 78.24%, Testing Accuracy: 29.82%, Evaluation Time: 15.13 minutes.\n",
      "Epoch [44/100], Loss: 0.6666, Training Accuracy: 79.06%, Testing Accuracy: 30.07%, Evaluation Time: 15.84 minutes.\n",
      "Epoch [46/100], Loss: 0.6029, Training Accuracy: 80.71%, Testing Accuracy: 30.22%, Evaluation Time: 16.59 minutes.\n",
      "Epoch [48/100], Loss: 0.5766, Training Accuracy: 81.44%, Testing Accuracy: 30.06%, Evaluation Time: 17.34 minutes.\n",
      "Epoch [50/100], Loss: 0.5375, Training Accuracy: 82.82%, Testing Accuracy: 30.04%, Evaluation Time: 18.10 minutes.\n",
      "Epoch [52/100], Loss: 0.5153, Training Accuracy: 83.48%, Testing Accuracy: 29.75%, Evaluation Time: 18.85 minutes.\n",
      "Epoch [54/100], Loss: 0.5041, Training Accuracy: 83.63%, Testing Accuracy: 29.66%, Evaluation Time: 19.58 minutes.\n",
      "Epoch [56/100], Loss: 0.4550, Training Accuracy: 85.07%, Testing Accuracy: 28.98%, Evaluation Time: 20.25 minutes.\n",
      "Epoch [58/100], Loss: 0.4458, Training Accuracy: 85.63%, Testing Accuracy: 30.26%, Evaluation Time: 20.93 minutes.\n",
      "Epoch [60/100], Loss: 0.4513, Training Accuracy: 85.21%, Testing Accuracy: 29.40%, Evaluation Time: 21.63 minutes.\n",
      "Epoch [62/100], Loss: 0.3963, Training Accuracy: 87.13%, Testing Accuracy: 29.78%, Evaluation Time: 22.33 minutes.\n",
      "Epoch [64/100], Loss: 0.3955, Training Accuracy: 87.04%, Testing Accuracy: 29.83%, Evaluation Time: 23.08 minutes.\n",
      "Epoch [66/100], Loss: 0.3845, Training Accuracy: 87.41%, Testing Accuracy: 29.33%, Evaluation Time: 23.78 minutes.\n",
      "Epoch [68/100], Loss: 0.3933, Training Accuracy: 87.08%, Testing Accuracy: 29.40%, Evaluation Time: 24.44 minutes.\n",
      "Epoch [70/100], Loss: 0.3616, Training Accuracy: 88.03%, Testing Accuracy: 29.32%, Evaluation Time: 25.12 minutes.\n",
      "Epoch [72/100], Loss: 0.3519, Training Accuracy: 88.55%, Testing Accuracy: 29.73%, Evaluation Time: 25.81 minutes.\n",
      "Epoch [74/100], Loss: 0.3486, Training Accuracy: 88.61%, Testing Accuracy: 30.10%, Evaluation Time: 26.53 minutes.\n",
      "Epoch [76/100], Loss: 0.3255, Training Accuracy: 89.21%, Testing Accuracy: 29.62%, Evaluation Time: 27.20 minutes.\n",
      "Epoch [78/100], Loss: 0.3183, Training Accuracy: 89.47%, Testing Accuracy: 29.56%, Evaluation Time: 27.89 minutes.\n",
      "Epoch [80/100], Loss: 0.3061, Training Accuracy: 89.87%, Testing Accuracy: 29.80%, Evaluation Time: 28.52 minutes.\n",
      "Epoch [82/100], Loss: 0.3090, Training Accuracy: 89.85%, Testing Accuracy: 29.62%, Evaluation Time: 29.20 minutes.\n",
      "Epoch [84/100], Loss: 0.2856, Training Accuracy: 90.56%, Testing Accuracy: 29.45%, Evaluation Time: 29.86 minutes.\n",
      "Epoch [86/100], Loss: 0.2806, Training Accuracy: 90.76%, Testing Accuracy: 29.55%, Evaluation Time: 30.61 minutes.\n",
      "Epoch [88/100], Loss: 0.2697, Training Accuracy: 91.21%, Testing Accuracy: 29.34%, Evaluation Time: 31.28 minutes.\n",
      "Epoch [90/100], Loss: 0.2911, Training Accuracy: 90.47%, Testing Accuracy: 30.10%, Evaluation Time: 32.00 minutes.\n",
      "Epoch [92/100], Loss: 0.2647, Training Accuracy: 91.30%, Testing Accuracy: 29.92%, Evaluation Time: 32.76 minutes.\n",
      "Epoch [94/100], Loss: 0.2491, Training Accuracy: 91.90%, Testing Accuracy: 29.85%, Evaluation Time: 33.51 minutes.\n",
      "Epoch [96/100], Loss: 0.2514, Training Accuracy: 91.77%, Testing Accuracy: 29.91%, Evaluation Time: 34.24 minutes.\n",
      "Epoch [98/100], Loss: 0.2528, Training Accuracy: 91.64%, Testing Accuracy: 29.65%, Evaluation Time: 34.99 minutes.\n",
      "Epoch [100/100], Loss: 0.2436, Training Accuracy: 92.09%, Testing Accuracy: 30.10%, Evaluation Time: 35.71 minutes.\n"
     ]
    },
    {
     "data": {
      "text/plain": [
       "(0.24359406009674073, 0.9209, 0.301)"
      ]
     },
     "execution_count": 16,
     "metadata": {},
     "output_type": "execute_result"
    }
   ],
   "source": [
    "trainer.run(num_epochs=100, evaluation_interval=2)"
   ]
  },
  {
   "cell_type": "code",
   "execution_count": 17,
   "metadata": {},
   "outputs": [
    {
     "name": "stdout",
     "output_type": "stream",
     "text": [
      "[3.3643120751190185, 2.9200922346496583, 2.6531439165496824, 2.4490878203582764, 2.273793319015503, 2.107835938987732, 1.9545825507354737, 1.796957529373169, 1.658659668045044, 1.534786473350525, 1.3905857695770263, 1.2913895749664306, 1.3131342515563964, 1.10287527885437, 1.095329688873291, 1.13317061504364, 0.9979086405181885, 0.7935835579299927, 0.7710830715179443, 0.7175928814125061, 0.6852832070922852, 0.6666181925201417, 0.6028713078689575, 0.5765955343246459, 0.537498137626648, 0.515323220653534, 0.5041303614044189, 0.45495234397888185, 0.4458228474235535, 0.45127306035995485, 0.3962717414855957, 0.39554241636276244, 0.384456902256012, 0.3933437907409668, 0.36159134635925294, 0.351905445394516, 0.34862151782989503, 0.3254697678375244, 0.3183302597427368, 0.3061012522697449, 0.30901155358314514, 0.2856023755264282, 0.28056954604148865, 0.2696848528575897, 0.2910647614860535, 0.26470043613433836, 0.2491114189529419, 0.25139222404479983, 0.2528034827232361, 0.24359406009674073]\n"
     ]
    }
   ],
   "source": [
    "print(trainer.training_loss)"
   ]
  },
  {
   "cell_type": "code",
   "execution_count": 18,
   "metadata": {},
   "outputs": [
    {
     "name": "stdout",
     "output_type": "stream",
     "text": [
      "[0.17992, 0.26552, 0.3185, 0.35704, 0.39552, 0.43006, 0.46266, 0.50088, 0.53176, 0.5601, 0.59712, 0.62228, 0.61508, 0.66914, 0.67184, 0.67082, 0.69994, 0.75334, 0.76132, 0.77366, 0.78238, 0.79056, 0.80708, 0.81438, 0.82818, 0.83484, 0.83628, 0.85072, 0.85628, 0.85206, 0.87134, 0.87044, 0.87414, 0.87076, 0.88032, 0.88546, 0.88608, 0.89212, 0.8947, 0.89872, 0.89852, 0.90556, 0.90758, 0.91206, 0.90472, 0.913, 0.91904, 0.91766, 0.91642, 0.9209]\n"
     ]
    }
   ],
   "source": [
    "print(trainer.training_accuracy)"
   ]
  },
  {
   "cell_type": "code",
   "execution_count": 19,
   "metadata": {},
   "outputs": [
    {
     "name": "stdout",
     "output_type": "stream",
     "text": [
      "[0.2095, 0.2597, 0.2886, 0.3062, 0.3145, 0.3248, 0.3211, 0.3174, 0.3213, 0.3162, 0.3095, 0.3145, 0.3134, 0.3108, 0.2929, 0.3115, 0.3098, 0.3025, 0.2997, 0.2985, 0.2982, 0.3007, 0.3022, 0.3006, 0.3004, 0.2975, 0.2966, 0.2898, 0.3026, 0.294, 0.2978, 0.2983, 0.2933, 0.294, 0.2932, 0.2973, 0.301, 0.2962, 0.2956, 0.298, 0.2962, 0.2945, 0.2955, 0.2934, 0.301, 0.2992, 0.2985, 0.2991, 0.2965, 0.301]\n"
     ]
    }
   ],
   "source": [
    "print(trainer.testing_accuracy)"
   ]
  },
  {
   "cell_type": "code",
   "execution_count": 20,
   "metadata": {},
   "outputs": [],
   "source": [
    "model_parameters = {\n",
    "    \"image_size\": (32, 32),\n",
    "    \"channels\": [16, 32, 48, 48, 64, 64, 80, 80, 96, 96, 384],\n",
    "    \"num_classes\": 100,\n",
    "    \"expansion\": 1,\n",
    "    \"kernel_size\": 3,\n",
    "    \"patch_size\": (1, 1),\n",
    "    \"dims\": [96, 120, 144],\n",
    "    \"L\": [2, 2, 2],\n",
    "}\n",
    "trainer = Trainer(\n",
    "    MobileViT,\n",
    "    (trainloader, testloader),\n",
    "    batch_size=batch_size,\n",
    "    model_p=model_parameters,\n",
    ")\n",
    "trainer.criterion = torch.nn.CrossEntropyLoss()"
   ]
  },
  {
   "cell_type": "code",
   "execution_count": 21,
   "metadata": {},
   "outputs": [
    {
     "name": "stdout",
     "output_type": "stream",
     "text": [
      "Epoch [2/100], Loss: 3.2284, Training Accuracy: 20.70%, Testing Accuracy: 22.56%, Evaluation Time: 0.75 minutes.\n",
      "Epoch [4/100], Loss: 2.7321, Training Accuracy: 30.01%, Testing Accuracy: 28.41%, Evaluation Time: 1.50 minutes.\n",
      "Epoch [6/100], Loss: 2.4365, Training Accuracy: 36.13%, Testing Accuracy: 31.10%, Evaluation Time: 2.23 minutes.\n",
      "Epoch [8/100], Loss: 2.2229, Training Accuracy: 40.56%, Testing Accuracy: 33.02%, Evaluation Time: 2.98 minutes.\n",
      "Epoch [10/100], Loss: 2.1657, Training Accuracy: 41.88%, Testing Accuracy: 32.30%, Evaluation Time: 3.71 minutes.\n",
      "Epoch [12/100], Loss: 2.0031, Training Accuracy: 45.36%, Testing Accuracy: 32.82%, Evaluation Time: 4.48 minutes.\n",
      "Epoch [14/100], Loss: 2.2836, Training Accuracy: 39.63%, Testing Accuracy: 32.55%, Evaluation Time: 5.13 minutes.\n",
      "Epoch [16/100], Loss: 2.1279, Training Accuracy: 42.48%, Testing Accuracy: 35.20%, Evaluation Time: 5.72 minutes.\n",
      "Epoch [18/100], Loss: 1.7407, Training Accuracy: 51.28%, Testing Accuracy: 36.21%, Evaluation Time: 6.36 minutes.\n",
      "Epoch [20/100], Loss: 2.3874, Training Accuracy: 37.24%, Testing Accuracy: 34.40%, Evaluation Time: 7.08 minutes.\n",
      "Epoch [22/100], Loss: 2.0269, Training Accuracy: 45.11%, Testing Accuracy: 37.07%, Evaluation Time: 7.85 minutes.\n",
      "Epoch [24/100], Loss: 1.6925, Training Accuracy: 52.47%, Testing Accuracy: 36.31%, Evaluation Time: 8.60 minutes.\n",
      "Epoch [26/100], Loss: 2.0434, Training Accuracy: 44.25%, Testing Accuracy: 35.35%, Evaluation Time: 9.70 minutes.\n",
      "Epoch [28/100], Loss: 1.6414, Training Accuracy: 53.50%, Testing Accuracy: 37.36%, Evaluation Time: 10.94 minutes.\n",
      "Epoch [30/100], Loss: 1.4669, Training Accuracy: 57.73%, Testing Accuracy: 37.43%, Evaluation Time: 11.67 minutes.\n",
      "Epoch [32/100], Loss: 1.4586, Training Accuracy: 57.79%, Testing Accuracy: 36.05%, Evaluation Time: 12.37 minutes.\n",
      "Epoch [34/100], Loss: 1.5202, Training Accuracy: 56.30%, Testing Accuracy: 36.66%, Evaluation Time: 13.12 minutes.\n",
      "Epoch [36/100], Loss: 1.7686, Training Accuracy: 50.01%, Testing Accuracy: 36.79%, Evaluation Time: 13.84 minutes.\n",
      "Epoch [38/100], Loss: 1.9288, Training Accuracy: 46.70%, Testing Accuracy: 35.25%, Evaluation Time: 14.60 minutes.\n",
      "Epoch [40/100], Loss: 2.0033, Training Accuracy: 44.90%, Testing Accuracy: 36.01%, Evaluation Time: 15.30 minutes.\n",
      "Epoch [42/100], Loss: 1.5997, Training Accuracy: 54.34%, Testing Accuracy: 37.82%, Evaluation Time: 16.04 minutes.\n",
      "Epoch [44/100], Loss: 2.2408, Training Accuracy: 40.85%, Testing Accuracy: 29.52%, Evaluation Time: 16.69 minutes.\n",
      "Epoch [46/100], Loss: 1.9654, Training Accuracy: 46.01%, Testing Accuracy: 35.95%, Evaluation Time: 17.35 minutes.\n",
      "Epoch [48/100], Loss: 1.7330, Training Accuracy: 51.52%, Testing Accuracy: 36.57%, Evaluation Time: 18.09 minutes.\n",
      "Epoch [50/100], Loss: 1.5837, Training Accuracy: 54.91%, Testing Accuracy: 37.49%, Evaluation Time: 18.78 minutes.\n",
      "Epoch [52/100], Loss: 1.8501, Training Accuracy: 50.42%, Testing Accuracy: 33.19%, Evaluation Time: 19.48 minutes.\n",
      "Epoch [54/100], Loss: 1.7734, Training Accuracy: 50.17%, Testing Accuracy: 36.35%, Evaluation Time: 23.04 minutes.\n",
      "Epoch [56/100], Loss: 1.5181, Training Accuracy: 56.49%, Testing Accuracy: 36.61%, Evaluation Time: 23.74 minutes.\n",
      "Epoch [58/100], Loss: 1.3683, Training Accuracy: 60.33%, Testing Accuracy: 38.02%, Evaluation Time: 24.44 minutes.\n",
      "Epoch [60/100], Loss: 1.5177, Training Accuracy: 57.08%, Testing Accuracy: 36.22%, Evaluation Time: 25.15 minutes.\n",
      "Epoch [62/100], Loss: 1.2510, Training Accuracy: 63.16%, Testing Accuracy: 38.33%, Evaluation Time: 25.87 minutes.\n",
      "Epoch [64/100], Loss: 1.1476, Training Accuracy: 66.01%, Testing Accuracy: 37.85%, Evaluation Time: 30.18 minutes.\n",
      "Epoch [66/100], Loss: 1.2310, Training Accuracy: 64.97%, Testing Accuracy: 29.54%, Evaluation Time: 30.91 minutes.\n",
      "Epoch [68/100], Loss: 1.2560, Training Accuracy: 62.68%, Testing Accuracy: 37.28%, Evaluation Time: 31.59 minutes.\n",
      "Epoch [70/100], Loss: 1.0256, Training Accuracy: 69.09%, Testing Accuracy: 37.50%, Evaluation Time: 32.17 minutes.\n",
      "Epoch [72/100], Loss: 0.8929, Training Accuracy: 73.10%, Testing Accuracy: 37.07%, Evaluation Time: 32.82 minutes.\n",
      "Epoch [74/100], Loss: 0.8433, Training Accuracy: 74.10%, Testing Accuracy: 36.53%, Evaluation Time: 33.50 minutes.\n",
      "Epoch [76/100], Loss: 1.2346, Training Accuracy: 64.40%, Testing Accuracy: 36.70%, Evaluation Time: 34.22 minutes.\n",
      "Epoch [78/100], Loss: 0.7283, Training Accuracy: 77.57%, Testing Accuracy: 36.80%, Evaluation Time: 34.94 minutes.\n",
      "Epoch [80/100], Loss: 0.7229, Training Accuracy: 77.31%, Testing Accuracy: 36.18%, Evaluation Time: 35.70 minutes.\n",
      "Epoch [82/100], Loss: 0.5986, Training Accuracy: 81.18%, Testing Accuracy: 36.28%, Evaluation Time: 36.46 minutes.\n",
      "Epoch [84/100], Loss: 0.5405, Training Accuracy: 82.75%, Testing Accuracy: 36.17%, Evaluation Time: 37.15 minutes.\n",
      "Epoch [86/100], Loss: 0.5768, Training Accuracy: 81.23%, Testing Accuracy: 36.21%, Evaluation Time: 37.89 minutes.\n",
      "Epoch [88/100], Loss: 0.4695, Training Accuracy: 84.99%, Testing Accuracy: 35.37%, Evaluation Time: 38.62 minutes.\n",
      "Epoch [90/100], Loss: 0.4090, Training Accuracy: 86.87%, Testing Accuracy: 35.91%, Evaluation Time: 39.27 minutes.\n",
      "Epoch [92/100], Loss: 0.4522, Training Accuracy: 85.18%, Testing Accuracy: 35.77%, Evaluation Time: 39.98 minutes.\n",
      "Epoch [94/100], Loss: 0.3484, Training Accuracy: 88.82%, Testing Accuracy: 35.32%, Evaluation Time: 40.65 minutes.\n",
      "Epoch [96/100], Loss: 0.5326, Training Accuracy: 82.64%, Testing Accuracy: 35.56%, Evaluation Time: 41.34 minutes.\n",
      "Epoch [98/100], Loss: 0.3452, Training Accuracy: 88.75%, Testing Accuracy: 33.34%, Evaluation Time: 42.09 minutes.\n",
      "Epoch [100/100], Loss: 0.2733, Training Accuracy: 91.24%, Testing Accuracy: 36.09%, Evaluation Time: 42.80 minutes.\n"
     ]
    },
    {
     "data": {
      "text/plain": [
       "(0.27329945360183716, 0.91238, 0.3609)"
      ]
     },
     "execution_count": 21,
     "metadata": {},
     "output_type": "execute_result"
    }
   ],
   "source": [
    "trainer.run(num_epochs=100, evaluation_interval=2)"
   ]
  },
  {
   "cell_type": "code",
   "execution_count": 22,
   "metadata": {},
   "outputs": [
    {
     "name": "stdout",
     "output_type": "stream",
     "text": [
      "[3.228392381439209, 2.732126321334839, 2.4364768914794923, 2.222893103981018, 2.165660846939087, 2.003079772720337, 2.283623042755127, 2.127901876449585, 1.7407011310577392, 2.3874310873413087, 2.0269406927871705, 1.6925209108734132, 2.043357681503296, 1.6413702939987183, 1.4669021607208252, 1.4586228295135497, 1.5202093957901002, 1.7686479349517823, 1.92880236618042, 2.0032599655914307, 1.5996650204849243, 2.2407965351867674, 1.9653847537612914, 1.7329779224395752, 1.5836759348678588, 1.8501293688201905, 1.7733850019073487, 1.5181011670684814, 1.3682571244430541, 1.5176822954177855, 1.2509580505371094, 1.147574460105896, 1.2309529876708984, 1.2559505508422852, 1.0256075049972535, 0.8929221516418457, 0.8433384609603882, 1.2345633457183838, 0.7282626724052429, 0.7229151316452026, 0.5985928807449341, 0.5404863618469238, 0.5768230637359619, 0.4695208628082275, 0.4090498299407959, 0.45219146490097045, 0.3483501768875122, 0.5326304386901856, 0.34515905603408814, 0.27329945360183716]\n"
     ]
    }
   ],
   "source": [
    "print(trainer.training_loss)"
   ]
  },
  {
   "cell_type": "code",
   "execution_count": 23,
   "metadata": {},
   "outputs": [
    {
     "name": "stdout",
     "output_type": "stream",
     "text": [
      "[0.20704, 0.30014, 0.36126, 0.40556, 0.41884, 0.45362, 0.39628, 0.42478, 0.51278, 0.3724, 0.45112, 0.52472, 0.44248, 0.53502, 0.57734, 0.5779, 0.56302, 0.50006, 0.46698, 0.449, 0.5434, 0.40852, 0.46008, 0.51522, 0.5491, 0.50418, 0.50166, 0.56492, 0.60332, 0.57082, 0.63156, 0.66012, 0.64968, 0.62678, 0.69094, 0.731, 0.74102, 0.64396, 0.77572, 0.77314, 0.81182, 0.82754, 0.81228, 0.84992, 0.86868, 0.85184, 0.8882, 0.82644, 0.88752, 0.91238]\n"
     ]
    }
   ],
   "source": [
    "print(trainer.training_accuracy)"
   ]
  },
  {
   "cell_type": "code",
   "execution_count": 24,
   "metadata": {},
   "outputs": [
    {
     "name": "stdout",
     "output_type": "stream",
     "text": [
      "[0.2256, 0.2841, 0.311, 0.3302, 0.323, 0.3282, 0.3255, 0.352, 0.3621, 0.344, 0.3707, 0.3631, 0.3535, 0.3736, 0.3743, 0.3605, 0.3666, 0.3679, 0.3525, 0.3601, 0.3782, 0.2952, 0.3595, 0.3657, 0.3749, 0.3319, 0.3635, 0.3661, 0.3802, 0.3622, 0.3833, 0.3785, 0.2954, 0.3728, 0.375, 0.3707, 0.3653, 0.367, 0.368, 0.3618, 0.3628, 0.3617, 0.3621, 0.3537, 0.3591, 0.3577, 0.3532, 0.3556, 0.3334, 0.3609]\n"
     ]
    }
   ],
   "source": [
    "print(trainer.testing_accuracy)"
   ]
  },
  {
   "cell_type": "code",
   "execution_count": 25,
   "metadata": {},
   "outputs": [],
   "source": [
    "model_parameters = {\n",
    "    \"image_size\": (32, 32),\n",
    "    \"channels\": [16, 32, 64, 64, 96, 96, 128, 128, 160, 160, 640],\n",
    "    \"num_classes\": 100,\n",
    "    \"expansion\": 1,\n",
    "    \"kernel_size\": 3,\n",
    "    \"patch_size\": (1, 1),\n",
    "    \"dims\": [144, 192, 240],\n",
    "    \"L\": [2, 2, 2],\n",
    "}\n",
    "trainer = Trainer(\n",
    "    MobileViT,\n",
    "    (trainloader, testloader),\n",
    "    batch_size=batch_size,\n",
    "    model_p=model_parameters,\n",
    ")\n",
    "trainer.criterion = torch.nn.CrossEntropyLoss()"
   ]
  },
  {
   "cell_type": "code",
   "execution_count": 26,
   "metadata": {},
   "outputs": [
    {
     "name": "stdout",
     "output_type": "stream",
     "text": [
      "Epoch [2/100], Loss: 3.1509, Training Accuracy: 21.85%, Testing Accuracy: 24.28%, Evaluation Time: 0.75 minutes.\n",
      "Epoch [4/100], Loss: 2.6292, Training Accuracy: 31.76%, Testing Accuracy: 29.72%, Evaluation Time: 1.41 minutes.\n",
      "Epoch [6/100], Loss: 2.3032, Training Accuracy: 38.68%, Testing Accuracy: 33.26%, Evaluation Time: 2.18 minutes.\n",
      "Epoch [8/100], Loss: 2.4045, Training Accuracy: 36.61%, Testing Accuracy: 34.21%, Evaluation Time: 2.90 minutes.\n",
      "Epoch [10/100], Loss: 1.9560, Training Accuracy: 46.29%, Testing Accuracy: 35.35%, Evaluation Time: 3.47 minutes.\n",
      "Epoch [12/100], Loss: 2.1189, Training Accuracy: 42.67%, Testing Accuracy: 34.98%, Evaluation Time: 4.22 minutes.\n",
      "Epoch [14/100], Loss: 1.9369, Training Accuracy: 46.70%, Testing Accuracy: 36.59%, Evaluation Time: 4.95 minutes.\n",
      "Epoch [16/100], Loss: 1.9674, Training Accuracy: 46.07%, Testing Accuracy: 37.05%, Evaluation Time: 5.67 minutes.\n",
      "Epoch [18/100], Loss: 1.7973, Training Accuracy: 50.23%, Testing Accuracy: 36.06%, Evaluation Time: 6.34 minutes.\n",
      "Epoch [20/100], Loss: 1.8812, Training Accuracy: 47.77%, Testing Accuracy: 31.62%, Evaluation Time: 7.07 minutes.\n",
      "Epoch [22/100], Loss: 1.9756, Training Accuracy: 46.05%, Testing Accuracy: 31.40%, Evaluation Time: 7.77 minutes.\n",
      "Epoch [24/100], Loss: 2.5363, Training Accuracy: 34.05%, Testing Accuracy: 32.36%, Evaluation Time: 8.51 minutes.\n",
      "Epoch [26/100], Loss: 2.0235, Training Accuracy: 44.52%, Testing Accuracy: 36.02%, Evaluation Time: 9.25 minutes.\n",
      "Epoch [28/100], Loss: 1.8099, Training Accuracy: 49.59%, Testing Accuracy: 37.09%, Evaluation Time: 9.96 minutes.\n",
      "Epoch [30/100], Loss: 1.5979, Training Accuracy: 54.84%, Testing Accuracy: 37.75%, Evaluation Time: 10.73 minutes.\n",
      "Epoch [32/100], Loss: 1.4015, Training Accuracy: 59.28%, Testing Accuracy: 37.93%, Evaluation Time: 11.47 minutes.\n",
      "Epoch [34/100], Loss: 1.2807, Training Accuracy: 62.26%, Testing Accuracy: 37.60%, Evaluation Time: 12.16 minutes.\n",
      "Epoch [36/100], Loss: 1.1643, Training Accuracy: 65.04%, Testing Accuracy: 36.16%, Evaluation Time: 12.79 minutes.\n",
      "Epoch [38/100], Loss: 1.4772, Training Accuracy: 57.17%, Testing Accuracy: 36.89%, Evaluation Time: 13.52 minutes.\n",
      "Epoch [40/100], Loss: 1.1548, Training Accuracy: 65.60%, Testing Accuracy: 36.88%, Evaluation Time: 14.29 minutes.\n",
      "Epoch [42/100], Loss: 1.9941, Training Accuracy: 50.25%, Testing Accuracy: 28.49%, Evaluation Time: 14.95 minutes.\n",
      "Epoch [44/100], Loss: 1.6560, Training Accuracy: 52.81%, Testing Accuracy: 35.41%, Evaluation Time: 15.65 minutes.\n",
      "Epoch [46/100], Loss: 1.2487, Training Accuracy: 63.06%, Testing Accuracy: 36.93%, Evaluation Time: 16.39 minutes.\n",
      "Epoch [48/100], Loss: 1.4894, Training Accuracy: 58.56%, Testing Accuracy: 31.31%, Evaluation Time: 17.17 minutes.\n",
      "Epoch [50/100], Loss: 1.7171, Training Accuracy: 51.40%, Testing Accuracy: 34.77%, Evaluation Time: 17.94 minutes.\n",
      "Epoch [52/100], Loss: 1.2885, Training Accuracy: 61.94%, Testing Accuracy: 37.64%, Evaluation Time: 18.66 minutes.\n",
      "Epoch [54/100], Loss: 1.1789, Training Accuracy: 64.52%, Testing Accuracy: 37.37%, Evaluation Time: 19.40 minutes.\n",
      "Epoch [56/100], Loss: 0.8362, Training Accuracy: 74.77%, Testing Accuracy: 36.99%, Evaluation Time: 20.10 minutes.\n",
      "Epoch [58/100], Loss: 1.1789, Training Accuracy: 64.48%, Testing Accuracy: 35.15%, Evaluation Time: 20.82 minutes.\n",
      "Epoch [60/100], Loss: 0.9672, Training Accuracy: 70.39%, Testing Accuracy: 37.52%, Evaluation Time: 21.58 minutes.\n",
      "Epoch [62/100], Loss: 0.9549, Training Accuracy: 70.34%, Testing Accuracy: 37.18%, Evaluation Time: 22.33 minutes.\n",
      "Epoch [64/100], Loss: 0.6633, Training Accuracy: 79.48%, Testing Accuracy: 36.96%, Evaluation Time: 23.02 minutes.\n",
      "Epoch [66/100], Loss: 0.8838, Training Accuracy: 73.50%, Testing Accuracy: 35.26%, Evaluation Time: 23.68 minutes.\n",
      "Epoch [68/100], Loss: 1.7812, Training Accuracy: 53.13%, Testing Accuracy: 33.29%, Evaluation Time: 24.44 minutes.\n",
      "Epoch [70/100], Loss: 0.9370, Training Accuracy: 71.41%, Testing Accuracy: 36.61%, Evaluation Time: 25.20 minutes.\n",
      "Epoch [72/100], Loss: 0.7246, Training Accuracy: 77.52%, Testing Accuracy: 36.97%, Evaluation Time: 25.94 minutes.\n",
      "Epoch [74/100], Loss: 0.6197, Training Accuracy: 80.43%, Testing Accuracy: 36.71%, Evaluation Time: 26.65 minutes.\n",
      "Epoch [76/100], Loss: 0.4897, Training Accuracy: 84.42%, Testing Accuracy: 36.90%, Evaluation Time: 27.38 minutes.\n",
      "Epoch [78/100], Loss: 0.4211, Training Accuracy: 86.61%, Testing Accuracy: 36.86%, Evaluation Time: 28.04 minutes.\n",
      "Epoch [80/100], Loss: 0.5769, Training Accuracy: 81.23%, Testing Accuracy: 36.52%, Evaluation Time: 28.78 minutes.\n",
      "Epoch [82/100], Loss: 1.3268, Training Accuracy: 61.74%, Testing Accuracy: 34.09%, Evaluation Time: 29.45 minutes.\n",
      "Epoch [84/100], Loss: 0.6914, Training Accuracy: 77.77%, Testing Accuracy: 36.71%, Evaluation Time: 30.22 minutes.\n",
      "Epoch [86/100], Loss: 2.3206, Training Accuracy: 42.48%, Testing Accuracy: 30.05%, Evaluation Time: 30.92 minutes.\n",
      "Epoch [88/100], Loss: 1.4610, Training Accuracy: 57.14%, Testing Accuracy: 33.66%, Evaluation Time: 31.63 minutes.\n",
      "Epoch [90/100], Loss: 1.2473, Training Accuracy: 62.48%, Testing Accuracy: 34.29%, Evaluation Time: 32.34 minutes.\n",
      "Epoch [92/100], Loss: 0.9809, Training Accuracy: 69.83%, Testing Accuracy: 35.54%, Evaluation Time: 33.06 minutes.\n",
      "Epoch [94/100], Loss: 1.4300, Training Accuracy: 57.81%, Testing Accuracy: 33.75%, Evaluation Time: 33.81 minutes.\n",
      "Epoch [96/100], Loss: 1.2410, Training Accuracy: 62.49%, Testing Accuracy: 33.89%, Evaluation Time: 34.55 minutes.\n",
      "Epoch [98/100], Loss: 0.9976, Training Accuracy: 68.85%, Testing Accuracy: 35.39%, Evaluation Time: 35.27 minutes.\n",
      "Epoch [100/100], Loss: 1.2163, Training Accuracy: 65.34%, Testing Accuracy: 32.04%, Evaluation Time: 35.93 minutes.\n"
     ]
    },
    {
     "data": {
      "text/plain": [
       "(1.2163074955368043, 0.65338, 0.3204)"
      ]
     },
     "execution_count": 26,
     "metadata": {},
     "output_type": "execute_result"
    }
   ],
   "source": [
    "trainer.run(num_epochs=100, evaluation_interval=2)"
   ]
  },
  {
   "cell_type": "code",
   "execution_count": 27,
   "metadata": {},
   "outputs": [
    {
     "name": "stdout",
     "output_type": "stream",
     "text": [
      "[3.1508849491882325, 2.629241337814331, 2.303227291564941, 2.4045047927856444, 1.9559910933685303, 2.1189270877075197, 1.9369256536102295, 1.9674197047424316, 1.797306344795227, 1.881163860015869, 1.975635243911743, 2.536305106277466, 2.023461548843384, 1.8099118666076661, 1.5978656190490723, 1.4014780150985717, 1.280719441242218, 1.1643270042037963, 1.4771705142974854, 1.1548347188568115, 1.9940630390167235, 1.6559802227783202, 1.2486562628173827, 1.4894248770904541, 1.7170593473052977, 1.2884912326812745, 1.17889006980896, 0.8362008854293823, 1.1788929695510864, 0.9671607600784302, 0.9548656954574585, 0.6632636082839966, 0.8838409162902832, 1.7812374878692627, 0.9370401187324524, 0.7246178813171387, 0.6196911861801148, 0.4896945704269409, 0.42108193424224855, 0.5768678569412231, 1.326781199569702, 0.6913875715637207, 2.320616371536255, 1.461038044166565, 1.2473271502304077, 0.9809238935661316, 1.4299577200698852, 1.240969387550354, 0.9975635410308837, 1.2163074955368043]\n"
     ]
    }
   ],
   "source": [
    "print(trainer.training_loss)"
   ]
  },
  {
   "cell_type": "code",
   "execution_count": 28,
   "metadata": {},
   "outputs": [
    {
     "name": "stdout",
     "output_type": "stream",
     "text": [
      "[0.21852, 0.31758, 0.3868, 0.3661, 0.4629, 0.42674, 0.467, 0.46068, 0.50228, 0.47772, 0.4605, 0.34046, 0.4452, 0.49594, 0.54836, 0.5928, 0.6226, 0.65044, 0.57172, 0.65596, 0.50248, 0.52806, 0.63062, 0.58562, 0.51402, 0.6194, 0.6452, 0.74774, 0.64482, 0.70394, 0.70342, 0.7948, 0.73504, 0.53132, 0.71408, 0.7752, 0.80432, 0.84422, 0.86608, 0.81226, 0.61742, 0.77772, 0.42482, 0.57136, 0.62478, 0.69834, 0.57812, 0.62494, 0.68854, 0.65338]\n"
     ]
    }
   ],
   "source": [
    "print(trainer.training_accuracy)"
   ]
  },
  {
   "cell_type": "code",
   "execution_count": 29,
   "metadata": {},
   "outputs": [
    {
     "name": "stdout",
     "output_type": "stream",
     "text": [
      "[0.2428, 0.2972, 0.3326, 0.3421, 0.3535, 0.3498, 0.3659, 0.3705, 0.3606, 0.3162, 0.314, 0.3236, 0.3602, 0.3709, 0.3775, 0.3793, 0.376, 0.3616, 0.3689, 0.3688, 0.2849, 0.3541, 0.3693, 0.3131, 0.3477, 0.3764, 0.3737, 0.3699, 0.3515, 0.3752, 0.3718, 0.3696, 0.3526, 0.3329, 0.3661, 0.3697, 0.3671, 0.369, 0.3686, 0.3652, 0.3409, 0.3671, 0.3005, 0.3366, 0.3429, 0.3554, 0.3375, 0.3389, 0.3539, 0.3204]\n"
     ]
    }
   ],
   "source": [
    "print(trainer.testing_accuracy)"
   ]
  }
 ],
 "metadata": {
  "kernelspec": {
   "display_name": "pytorch_gpu",
   "language": "python",
   "name": "python3"
  },
  "language_info": {
   "codemirror_mode": {
    "name": "ipython",
    "version": 3
   },
   "file_extension": ".py",
   "mimetype": "text/x-python",
   "name": "python",
   "nbconvert_exporter": "python",
   "pygments_lexer": "ipython3",
   "version": "3.11.5"
  }
 },
 "nbformat": 4,
 "nbformat_minor": 2
}
