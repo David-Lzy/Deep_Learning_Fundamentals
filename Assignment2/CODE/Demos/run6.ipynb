{
 "cells": [
  {
   "cell_type": "code",
   "execution_count": 1,
   "metadata": {},
   "outputs": [],
   "source": [
    "from Runner import Trainer\n",
    "from mobilevit import DynamicMobileViT\n",
    "from mobilevit import MobileViT\n",
    "import torch\n",
    "import torchvision\n",
    "import torchvision.transforms as transforms"
   ]
  },
  {
   "cell_type": "code",
   "execution_count": 2,
   "metadata": {},
   "outputs": [],
   "source": [
    "batch_size = 128\n",
    "pic_size = (32, 32)"
   ]
  },
  {
   "cell_type": "code",
   "execution_count": 3,
   "metadata": {},
   "outputs": [],
   "source": [
    "import torchvision.transforms as transforms\n",
    "import torchvision\n",
    "\n",
    "# 定义数据预处理操作：先调整大小，然后转换为张量并归一化\n",
    "transform = transforms.Compose(\n",
    "    [\n",
    "        transforms.Resize(pic_size),  # <-- 添加这一行来调整图像大小\n",
    "        transforms.ToTensor(),\n",
    "        transforms.Normalize((0.5, 0.5, 0.5), (0.5, 0.5, 0.5)),\n",
    "    ]\n",
    ")\n",
    "\n",
    "# 下载并加载训练集\n",
    "trainset = torchvision.datasets.CIFAR100(\n",
    "    root=\"../Data/cifar-100-python\", train=True, download=False, transform=transform\n",
    ")\n",
    "trainloader = torch.utils.data.DataLoader(\n",
    "    trainset, batch_size=batch_size, shuffle=True, num_workers=2\n",
    ")\n",
    "\n",
    "# 下载并加载测试集\n",
    "testset = torchvision.datasets.CIFAR100(\n",
    "    root=\"../Data/cifar-100-python\", train=False, download=False, transform=transform\n",
    ")\n",
    "testloader = torch.utils.data.DataLoader(\n",
    "    testset, batch_size=batch_size, shuffle=True, num_workers=2\n",
    ")"
   ]
  },
  {
   "cell_type": "code",
   "execution_count": 4,
   "metadata": {},
   "outputs": [
    {
     "name": "stdout",
     "output_type": "stream",
     "text": [
      "Epoch [1/50], Loss: 4.3956, Training Accuracy: 3.05%, Testing Accuracy: 3.84%, Evaluation Time: 0.49 minutes.\n",
      "Epoch [2/50], Loss: 4.1163, Training Accuracy: 5.25%, Testing Accuracy: 6.25%, Evaluation Time: 0.95 minutes.\n",
      "Epoch [3/50], Loss: 3.9821, Training Accuracy: 7.28%, Testing Accuracy: 8.83%, Evaluation Time: 1.36 minutes.\n",
      "Epoch [4/50], Loss: 3.8208, Training Accuracy: 9.58%, Testing Accuracy: 9.91%, Evaluation Time: 1.83 minutes.\n",
      "Epoch [5/50], Loss: 3.7839, Training Accuracy: 10.32%, Testing Accuracy: 11.17%, Evaluation Time: 2.31 minutes.\n",
      "Epoch [6/50], Loss: 3.6639, Training Accuracy: 12.03%, Testing Accuracy: 14.03%, Evaluation Time: 2.78 minutes.\n",
      "Epoch [7/50], Loss: 3.5413, Training Accuracy: 14.15%, Testing Accuracy: 14.65%, Evaluation Time: 3.22 minutes.\n",
      "Epoch [8/50], Loss: 3.6840, Training Accuracy: 12.30%, Testing Accuracy: 12.11%, Evaluation Time: 3.69 minutes.\n",
      "Epoch [9/50], Loss: 3.5088, Training Accuracy: 14.72%, Testing Accuracy: 16.33%, Evaluation Time: 4.17 minutes.\n",
      "Epoch [10/50], Loss: 3.3942, Training Accuracy: 17.22%, Testing Accuracy: 18.29%, Evaluation Time: 4.64 minutes.\n",
      "Epoch [11/50], Loss: 3.3636, Training Accuracy: 17.81%, Testing Accuracy: 17.28%, Evaluation Time: 5.11 minutes.\n",
      "Epoch [12/50], Loss: 3.4087, Training Accuracy: 16.91%, Testing Accuracy: 19.08%, Evaluation Time: 5.51 minutes.\n",
      "Epoch [13/50], Loss: 3.2195, Training Accuracy: 20.17%, Testing Accuracy: 20.36%, Evaluation Time: 5.95 minutes.\n",
      "Epoch [14/50], Loss: 3.2865, Training Accuracy: 19.34%, Testing Accuracy: 19.60%, Evaluation Time: 6.43 minutes.\n",
      "Epoch [15/50], Loss: 3.1265, Training Accuracy: 21.79%, Testing Accuracy: 22.72%, Evaluation Time: 6.89 minutes.\n",
      "Epoch [16/50], Loss: 3.0408, Training Accuracy: 23.39%, Testing Accuracy: 23.31%, Evaluation Time: 7.38 minutes.\n",
      "Epoch [17/50], Loss: 2.9817, Training Accuracy: 24.66%, Testing Accuracy: 25.00%, Evaluation Time: 7.84 minutes.\n",
      "Epoch [18/50], Loss: 3.0662, Training Accuracy: 23.46%, Testing Accuracy: 22.01%, Evaluation Time: 8.32 minutes.\n",
      "Epoch [19/50], Loss: 3.3541, Training Accuracy: 18.79%, Testing Accuracy: 12.86%, Evaluation Time: 8.79 minutes.\n",
      "Epoch [20/50], Loss: 3.2579, Training Accuracy: 19.87%, Testing Accuracy: 20.23%, Evaluation Time: 9.21 minutes.\n",
      "Epoch [21/50], Loss: 3.0053, Training Accuracy: 24.43%, Testing Accuracy: 24.50%, Evaluation Time: 9.66 minutes.\n",
      "Epoch [22/50], Loss: 2.9617, Training Accuracy: 25.41%, Testing Accuracy: 25.92%, Evaluation Time: 10.13 minutes.\n",
      "Epoch [23/50], Loss: 2.8937, Training Accuracy: 26.63%, Testing Accuracy: 25.92%, Evaluation Time: 10.60 minutes.\n",
      "Epoch [24/50], Loss: 2.7911, Training Accuracy: 28.51%, Testing Accuracy: 27.28%, Evaluation Time: 10.98 minutes.\n",
      "Epoch [25/50], Loss: 2.8954, Training Accuracy: 26.54%, Testing Accuracy: 28.16%, Evaluation Time: 11.46 minutes.\n",
      "Epoch [26/50], Loss: 2.8292, Training Accuracy: 28.05%, Testing Accuracy: 25.69%, Evaluation Time: 11.93 minutes.\n",
      "Epoch [27/50], Loss: 2.7895, Training Accuracy: 28.46%, Testing Accuracy: 28.62%, Evaluation Time: 12.40 minutes.\n",
      "Epoch [28/50], Loss: 2.6934, Training Accuracy: 30.36%, Testing Accuracy: 28.91%, Evaluation Time: 12.87 minutes.\n",
      "Epoch [29/50], Loss: 2.6475, Training Accuracy: 31.29%, Testing Accuracy: 29.77%, Evaluation Time: 13.29 minutes.\n",
      "Epoch [30/50], Loss: 2.7325, Training Accuracy: 29.94%, Testing Accuracy: 26.88%, Evaluation Time: 13.76 minutes.\n",
      "Epoch [31/50], Loss: 2.7069, Training Accuracy: 30.17%, Testing Accuracy: 29.05%, Evaluation Time: 14.23 minutes.\n",
      "Epoch [32/50], Loss: 2.6740, Training Accuracy: 31.04%, Testing Accuracy: 28.53%, Evaluation Time: 14.69 minutes.\n",
      "Epoch [33/50], Loss: 2.6262, Training Accuracy: 31.81%, Testing Accuracy: 29.62%, Evaluation Time: 15.16 minutes.\n",
      "Epoch [34/50], Loss: 2.6553, Training Accuracy: 31.41%, Testing Accuracy: 29.54%, Evaluation Time: 15.63 minutes.\n",
      "Epoch [35/50], Loss: 2.5540, Training Accuracy: 33.45%, Testing Accuracy: 30.74%, Evaluation Time: 16.10 minutes.\n",
      "Epoch [36/50], Loss: 2.4771, Training Accuracy: 34.74%, Testing Accuracy: 30.77%, Evaluation Time: 16.58 minutes.\n",
      "Epoch [37/50], Loss: 2.5998, Training Accuracy: 32.57%, Testing Accuracy: 27.36%, Evaluation Time: 17.05 minutes.\n",
      "Epoch [38/50], Loss: 2.5565, Training Accuracy: 33.25%, Testing Accuracy: 28.74%, Evaluation Time: 20.49 minutes.\n",
      "Epoch [39/50], Loss: 2.5445, Training Accuracy: 33.36%, Testing Accuracy: 31.78%, Evaluation Time: 20.93 minutes.\n",
      "Epoch [40/50], Loss: 2.4514, Training Accuracy: 35.17%, Testing Accuracy: 31.56%, Evaluation Time: 21.34 minutes.\n",
      "Epoch [41/50], Loss: 2.3572, Training Accuracy: 37.45%, Testing Accuracy: 32.97%, Evaluation Time: 21.84 minutes.\n",
      "Epoch [42/50], Loss: 2.2992, Training Accuracy: 38.60%, Testing Accuracy: 33.45%, Evaluation Time: 22.31 minutes.\n",
      "Epoch [43/50], Loss: 2.2842, Training Accuracy: 38.84%, Testing Accuracy: 34.03%, Evaluation Time: 22.78 minutes.\n",
      "Epoch [44/50], Loss: 2.3155, Training Accuracy: 38.34%, Testing Accuracy: 32.94%, Evaluation Time: 23.21 minutes.\n",
      "Epoch [45/50], Loss: 2.2744, Training Accuracy: 39.12%, Testing Accuracy: 33.77%, Evaluation Time: 23.71 minutes.\n",
      "Epoch [46/50], Loss: 2.2383, Training Accuracy: 40.14%, Testing Accuracy: 33.91%, Evaluation Time: 24.15 minutes.\n",
      "Epoch [47/50], Loss: 2.1991, Training Accuracy: 40.96%, Testing Accuracy: 34.18%, Evaluation Time: 24.55 minutes.\n",
      "Epoch [48/50], Loss: 2.1878, Training Accuracy: 40.97%, Testing Accuracy: 34.49%, Evaluation Time: 24.95 minutes.\n",
      "Epoch [49/50], Loss: 2.1978, Training Accuracy: 40.81%, Testing Accuracy: 33.17%, Evaluation Time: 25.41 minutes.\n",
      "Epoch [50/50], Loss: 2.1755, Training Accuracy: 41.23%, Testing Accuracy: 35.17%, Evaluation Time: 25.86 minutes.\n"
     ]
    },
    {
     "data": {
      "text/plain": [
       "(2.1755184375, 0.4123, 0.3517)"
      ]
     },
     "execution_count": 4,
     "metadata": {},
     "output_type": "execute_result"
    }
   ],
   "source": [
    "model_parameters = {\n",
    "    \"image_size\": (32, 32),\n",
    "    \"channels\": [16, 32, 48, 48, 64, 64, 80, 80, 96, 96, 384],\n",
    "    \"num_classes\": 100,\n",
    "    \"expansion\": 4,\n",
    "    \"kernel_size\": 3,\n",
    "    \"patch_size\": (1, 1),\n",
    "    \"dims\": [96, 120, 144],\n",
    "    \"L\": [2, 4, 3],\n",
    "}\n",
    "trainer = Trainer(\n",
    "    MobileViT,\n",
    "    (trainloader, testloader),\n",
    "    batch_size=batch_size,\n",
    "    model_p=model_parameters,\n",
    "    learning_rate=0.02,\n",
    "    scheduler=(20, 0.5),\n",
    ") \n",
    "trainer.criterion = torch.nn.CrossEntropyLoss()\n",
    "trainer.run(num_epochs=50, evaluation_interval=1)"
   ]
  },
  {
   "cell_type": "code",
   "execution_count": 5,
   "metadata": {},
   "outputs": [
    {
     "name": "stdout",
     "output_type": "stream",
     "text": [
      "[4.3956206175231936, 4.116308553771972, 3.9821400183868407, 3.820771668167114, 3.7838640800476075, 3.6639460034179687, 3.5413423414611818, 3.6839945336151123, 3.508766156692505, 3.3942459772491453, 3.3635865324401855, 3.408719341583252, 3.219469340362549, 3.2865312580871584, 3.126504287109375, 3.040766638641357, 2.9816736534881594, 3.0661570531463624, 3.3541440618896483, 3.2579418755340575, 3.005250848007202, 2.961743271255493, 2.893730605392456, 2.791140783996582, 2.8953595093536375, 2.8291816774749754, 2.789451154632568, 2.69336881690979, 2.6475237115478514, 2.732503274612427, 2.706852803039551, 2.6739600845336913, 2.626226271286011, 2.6553423652648926, 2.5540249240112303, 2.477084315338135, 2.5997682550811767, 2.5564525764465333, 2.5445423939514162, 2.4513995276641847, 2.3571987911224364, 2.299244632797241, 2.2842054303741457, 2.315511266555786, 2.274372668991089, 2.238313023223877, 2.1991077896118165, 2.187763157196045, 2.1978079383850098, 2.1755184375]\n"
     ]
    }
   ],
   "source": [
    "print(trainer.training_loss)"
   ]
  },
  {
   "cell_type": "code",
   "execution_count": 6,
   "metadata": {},
   "outputs": [
    {
     "name": "stdout",
     "output_type": "stream",
     "text": [
      "[0.03054, 0.05252, 0.07278, 0.09576, 0.10322, 0.12026, 0.14152, 0.12298, 0.1472, 0.17216, 0.17812, 0.16906, 0.20166, 0.19344, 0.21792, 0.2339, 0.24664, 0.23456, 0.18794, 0.19872, 0.24428, 0.25408, 0.26632, 0.28512, 0.26544, 0.28048, 0.28458, 0.30362, 0.3129, 0.2994, 0.30166, 0.31042, 0.3181, 0.31408, 0.3345, 0.34736, 0.32568, 0.3325, 0.33358, 0.3517, 0.37452, 0.38604, 0.38842, 0.3834, 0.39116, 0.40138, 0.40956, 0.4097, 0.4081, 0.4123]\n"
     ]
    }
   ],
   "source": [
    "print(trainer.training_accuracy)"
   ]
  },
  {
   "cell_type": "code",
   "execution_count": 7,
   "metadata": {},
   "outputs": [
    {
     "name": "stdout",
     "output_type": "stream",
     "text": [
      "[0.0384, 0.0625, 0.0883, 0.0991, 0.1117, 0.1403, 0.1465, 0.1211, 0.1633, 0.1829, 0.1728, 0.1908, 0.2036, 0.196, 0.2272, 0.2331, 0.25, 0.2201, 0.1286, 0.2023, 0.245, 0.2592, 0.2592, 0.2728, 0.2816, 0.2569, 0.2862, 0.2891, 0.2977, 0.2688, 0.2905, 0.2853, 0.2962, 0.2954, 0.3074, 0.3077, 0.2736, 0.2874, 0.3178, 0.3156, 0.3297, 0.3345, 0.3403, 0.3294, 0.3377, 0.3391, 0.3418, 0.3449, 0.3317, 0.3517]\n"
     ]
    }
   ],
   "source": [
    "print(trainer.testing_accuracy)"
   ]
  }
 ],
 "metadata": {
  "kernelspec": {
   "display_name": "pytorch_gpu",
   "language": "python",
   "name": "python3"
  },
  "language_info": {
   "codemirror_mode": {
    "name": "ipython",
    "version": 3
   },
   "file_extension": ".py",
   "mimetype": "text/x-python",
   "name": "python",
   "nbconvert_exporter": "python",
   "pygments_lexer": "ipython3",
   "version": "3.11.5"
  }
 },
 "nbformat": 4,
 "nbformat_minor": 2
}
