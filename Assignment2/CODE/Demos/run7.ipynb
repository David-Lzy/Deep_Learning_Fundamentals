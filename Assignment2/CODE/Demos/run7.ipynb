{
 "cells": [
  {
   "cell_type": "code",
   "execution_count": 1,
   "metadata": {},
   "outputs": [],
   "source": [
    "from Runner import Trainer\n",
    "from mobilevit import DynamicMobileViT\n",
    "from mobilevit import MobileViT\n",
    "import torch\n",
    "import torchvision\n",
    "import torchvision.transforms as transforms"
   ]
  },
  {
   "cell_type": "code",
   "execution_count": 2,
   "metadata": {},
   "outputs": [],
   "source": [
    "batch_size = 128\n",
    "pic_size = (32, 32)"
   ]
  },
  {
   "cell_type": "code",
   "execution_count": 3,
   "metadata": {},
   "outputs": [],
   "source": [
    "import torchvision.transforms as transforms\n",
    "import torchvision\n",
    "\n",
    "# 定义数据预处理操作：先调整大小，然后转换为张量并归一化\n",
    "transform = transforms.Compose(\n",
    "    [\n",
    "        transforms.Resize(pic_size),  # <-- 添加这一行来调整图像大小\n",
    "        transforms.ToTensor(),\n",
    "        transforms.Normalize((0.5, 0.5, 0.5), (0.5, 0.5, 0.5)),\n",
    "    ]\n",
    ")\n",
    "\n",
    "# 下载并加载训练集\n",
    "trainset = torchvision.datasets.CIFAR100(\n",
    "    root=\"../Data/cifar-100-python\", train=True, download=False, transform=transform\n",
    ")\n",
    "trainloader = torch.utils.data.DataLoader(\n",
    "    trainset, batch_size=batch_size, shuffle=True, num_workers=2\n",
    ")\n",
    "\n",
    "# 下载并加载测试集\n",
    "testset = torchvision.datasets.CIFAR100(\n",
    "    root=\"../Data/cifar-100-python\", train=False, download=False, transform=transform\n",
    ")\n",
    "testloader = torch.utils.data.DataLoader(\n",
    "    testset, batch_size=batch_size, shuffle=True, num_workers=2\n",
    ")"
   ]
  },
  {
   "cell_type": "code",
   "execution_count": 4,
   "metadata": {},
   "outputs": [
    {
     "name": "stdout",
     "output_type": "stream",
     "text": [
      "Epoch [1/100], Loss: 4.2805, Training Accuracy: 3.76%, Testing Accuracy: 6.19%, Evaluation Time: 0.44 minutes.\n",
      "Epoch [2/100], Loss: 3.9655, Training Accuracy: 7.00%, Testing Accuracy: 8.36%, Evaluation Time: 0.86 minutes.\n",
      "Epoch [3/100], Loss: 3.8123, Training Accuracy: 9.22%, Testing Accuracy: 10.25%, Evaluation Time: 1.27 minutes.\n",
      "Epoch [4/100], Loss: 3.7603, Training Accuracy: 10.43%, Testing Accuracy: 9.45%, Evaluation Time: 1.70 minutes.\n",
      "Epoch [5/100], Loss: 3.7800, Training Accuracy: 10.45%, Testing Accuracy: 10.96%, Evaluation Time: 2.04 minutes.\n",
      "Epoch [6/100], Loss: 3.6524, Training Accuracy: 12.50%, Testing Accuracy: 13.78%, Evaluation Time: 2.46 minutes.\n",
      "Epoch [7/100], Loss: 3.4839, Training Accuracy: 15.24%, Testing Accuracy: 16.35%, Evaluation Time: 2.82 minutes.\n",
      "Epoch [8/100], Loss: 3.3725, Training Accuracy: 17.40%, Testing Accuracy: 18.36%, Evaluation Time: 3.24 minutes.\n",
      "Epoch [9/100], Loss: 3.4949, Training Accuracy: 15.58%, Testing Accuracy: 17.86%, Evaluation Time: 3.67 minutes.\n",
      "Epoch [10/100], Loss: 3.2384, Training Accuracy: 19.82%, Testing Accuracy: 19.72%, Evaluation Time: 4.11 minutes.\n",
      "Epoch [11/100], Loss: 3.4763, Training Accuracy: 16.69%, Testing Accuracy: 19.04%, Evaluation Time: 4.49 minutes.\n",
      "Epoch [12/100], Loss: 3.3300, Training Accuracy: 18.93%, Testing Accuracy: 20.94%, Evaluation Time: 4.90 minutes.\n",
      "Epoch [13/100], Loss: 3.2950, Training Accuracy: 19.64%, Testing Accuracy: 20.66%, Evaluation Time: 5.32 minutes.\n",
      "Epoch [14/100], Loss: 3.1217, Training Accuracy: 22.45%, Testing Accuracy: 23.54%, Evaluation Time: 5.76 minutes.\n",
      "Epoch [15/100], Loss: 3.0730, Training Accuracy: 23.28%, Testing Accuracy: 23.56%, Evaluation Time: 6.20 minutes.\n",
      "Epoch [16/100], Loss: 2.9635, Training Accuracy: 25.24%, Testing Accuracy: 25.53%, Evaluation Time: 6.64 minutes.\n",
      "Epoch [17/100], Loss: 3.1913, Training Accuracy: 21.22%, Testing Accuracy: 24.10%, Evaluation Time: 7.06 minutes.\n",
      "Epoch [18/100], Loss: 2.9415, Training Accuracy: 25.74%, Testing Accuracy: 25.43%, Evaluation Time: 7.49 minutes.\n",
      "Epoch [19/100], Loss: 2.8637, Training Accuracy: 27.22%, Testing Accuracy: 25.38%, Evaluation Time: 7.92 minutes.\n",
      "Epoch [20/100], Loss: 2.9098, Training Accuracy: 26.40%, Testing Accuracy: 22.40%, Evaluation Time: 8.34 minutes.\n",
      "Epoch [21/100], Loss: 3.0533, Training Accuracy: 24.12%, Testing Accuracy: 23.82%, Evaluation Time: 8.72 minutes.\n",
      "Epoch [22/100], Loss: 3.5001, Training Accuracy: 17.65%, Testing Accuracy: 7.63%, Evaluation Time: 9.16 minutes.\n",
      "Epoch [23/100], Loss: 3.8008, Training Accuracy: 11.91%, Testing Accuracy: 15.03%, Evaluation Time: 9.57 minutes.\n",
      "Epoch [24/100], Loss: 3.4614, Training Accuracy: 17.07%, Testing Accuracy: 18.39%, Evaluation Time: 9.99 minutes.\n",
      "Epoch [25/100], Loss: 3.3620, Training Accuracy: 18.77%, Testing Accuracy: 19.49%, Evaluation Time: 10.40 minutes.\n",
      "Epoch [26/100], Loss: 3.2960, Training Accuracy: 19.72%, Testing Accuracy: 20.98%, Evaluation Time: 10.83 minutes.\n",
      "Epoch [27/100], Loss: 3.1220, Training Accuracy: 22.75%, Testing Accuracy: 24.03%, Evaluation Time: 11.26 minutes.\n",
      "Epoch [28/100], Loss: 3.0182, Training Accuracy: 24.74%, Testing Accuracy: 24.68%, Evaluation Time: 13.54 minutes.\n",
      "Epoch [29/100], Loss: 3.0173, Training Accuracy: 24.89%, Testing Accuracy: 23.82%, Evaluation Time: 13.96 minutes.\n",
      "Epoch [30/100], Loss: 2.9264, Training Accuracy: 26.54%, Testing Accuracy: 27.19%, Evaluation Time: 17.26 minutes.\n",
      "Epoch [31/100], Loss: 2.8491, Training Accuracy: 28.04%, Testing Accuracy: 25.70%, Evaluation Time: 17.67 minutes.\n",
      "Epoch [32/100], Loss: 2.7898, Training Accuracy: 28.92%, Testing Accuracy: 28.13%, Evaluation Time: 18.07 minutes.\n",
      "Epoch [33/100], Loss: 2.6952, Training Accuracy: 30.74%, Testing Accuracy: 29.60%, Evaluation Time: 18.49 minutes.\n",
      "Epoch [34/100], Loss: 2.8779, Training Accuracy: 26.85%, Testing Accuracy: 28.85%, Evaluation Time: 18.87 minutes.\n",
      "Epoch [35/100], Loss: 2.6719, Training Accuracy: 31.39%, Testing Accuracy: 29.84%, Evaluation Time: 19.32 minutes.\n",
      "Epoch [36/100], Loss: 2.5978, Training Accuracy: 32.60%, Testing Accuracy: 31.10%, Evaluation Time: 19.75 minutes.\n",
      "Epoch [37/100], Loss: 2.6457, Training Accuracy: 31.80%, Testing Accuracy: 30.35%, Evaluation Time: 20.12 minutes.\n",
      "Epoch [38/100], Loss: 2.5204, Training Accuracy: 34.33%, Testing Accuracy: 32.56%, Evaluation Time: 20.56 minutes.\n",
      "Epoch [39/100], Loss: 2.8995, Training Accuracy: 27.46%, Testing Accuracy: 27.01%, Evaluation Time: 20.89 minutes.\n",
      "Epoch [40/100], Loss: 2.9106, Training Accuracy: 26.31%, Testing Accuracy: 26.89%, Evaluation Time: 21.32 minutes.\n",
      "Epoch [41/100], Loss: 3.0574, Training Accuracy: 24.72%, Testing Accuracy: 27.68%, Evaluation Time: 21.76 minutes.\n",
      "Epoch [42/100], Loss: 2.8100, Training Accuracy: 28.29%, Testing Accuracy: 30.09%, Evaluation Time: 22.20 minutes.\n",
      "Epoch [43/100], Loss: 2.6972, Training Accuracy: 30.45%, Testing Accuracy: 30.15%, Evaluation Time: 22.60 minutes.\n",
      "Epoch [44/100], Loss: 2.6762, Training Accuracy: 31.11%, Testing Accuracy: 30.29%, Evaluation Time: 23.04 minutes.\n",
      "Epoch [45/100], Loss: 2.5241, Training Accuracy: 34.17%, Testing Accuracy: 32.66%, Evaluation Time: 23.46 minutes.\n",
      "Epoch [46/100], Loss: 2.4756, Training Accuracy: 34.94%, Testing Accuracy: 33.15%, Evaluation Time: 23.88 minutes.\n",
      "Epoch [47/100], Loss: 2.8812, Training Accuracy: 27.84%, Testing Accuracy: 11.92%, Evaluation Time: 24.32 minutes.\n",
      "Epoch [48/100], Loss: 3.1503, Training Accuracy: 21.96%, Testing Accuracy: 25.45%, Evaluation Time: 24.73 minutes.\n",
      "Epoch [49/100], Loss: 2.7589, Training Accuracy: 29.12%, Testing Accuracy: 30.27%, Evaluation Time: 25.17 minutes.\n",
      "Epoch [50/100], Loss: 2.5795, Training Accuracy: 32.73%, Testing Accuracy: 31.44%, Evaluation Time: 25.61 minutes.\n",
      "Epoch [51/100], Loss: 2.4260, Training Accuracy: 36.02%, Testing Accuracy: 34.33%, Evaluation Time: 26.04 minutes.\n",
      "Epoch [52/100], Loss: 2.3696, Training Accuracy: 37.36%, Testing Accuracy: 34.57%, Evaluation Time: 26.42 minutes.\n",
      "Epoch [53/100], Loss: 2.3270, Training Accuracy: 37.98%, Testing Accuracy: 35.08%, Evaluation Time: 26.85 minutes.\n",
      "Epoch [54/100], Loss: 2.3042, Training Accuracy: 38.56%, Testing Accuracy: 26.46%, Evaluation Time: 27.27 minutes.\n",
      "Epoch [55/100], Loss: 2.4977, Training Accuracy: 34.73%, Testing Accuracy: 28.96%, Evaluation Time: 27.70 minutes.\n",
      "Epoch [56/100], Loss: 2.5527, Training Accuracy: 34.10%, Testing Accuracy: 29.19%, Evaluation Time: 28.11 minutes.\n",
      "Epoch [57/100], Loss: 2.5010, Training Accuracy: 34.61%, Testing Accuracy: 33.89%, Evaluation Time: 28.54 minutes.\n",
      "Epoch [58/100], Loss: 2.3517, Training Accuracy: 37.66%, Testing Accuracy: 34.44%, Evaluation Time: 28.88 minutes.\n",
      "Epoch [59/100], Loss: 2.3185, Training Accuracy: 38.49%, Testing Accuracy: 33.82%, Evaluation Time: 29.31 minutes.\n",
      "Epoch [60/100], Loss: 2.3118, Training Accuracy: 38.73%, Testing Accuracy: 34.46%, Evaluation Time: 29.72 minutes.\n",
      "Epoch [61/100], Loss: 2.2728, Training Accuracy: 39.45%, Testing Accuracy: 35.79%, Evaluation Time: 30.15 minutes.\n",
      "Epoch [62/100], Loss: 2.2200, Training Accuracy: 40.59%, Testing Accuracy: 36.40%, Evaluation Time: 34.96 minutes.\n",
      "Epoch [63/100], Loss: 2.1910, Training Accuracy: 41.17%, Testing Accuracy: 36.01%, Evaluation Time: 35.38 minutes.\n",
      "Epoch [64/100], Loss: 2.2691, Training Accuracy: 39.46%, Testing Accuracy: 33.55%, Evaluation Time: 35.79 minutes.\n",
      "Epoch [65/100], Loss: 2.3447, Training Accuracy: 37.91%, Testing Accuracy: 34.16%, Evaluation Time: 36.21 minutes.\n",
      "Epoch [66/100], Loss: 2.2573, Training Accuracy: 39.94%, Testing Accuracy: 36.17%, Evaluation Time: 36.65 minutes.\n",
      "Epoch [67/100], Loss: 2.2170, Training Accuracy: 40.58%, Testing Accuracy: 36.03%, Evaluation Time: 37.08 minutes.\n",
      "Epoch [68/100], Loss: 2.3122, Training Accuracy: 38.63%, Testing Accuracy: 32.97%, Evaluation Time: 37.48 minutes.\n",
      "Epoch [69/100], Loss: 2.4433, Training Accuracy: 35.94%, Testing Accuracy: 33.55%, Evaluation Time: 37.93 minutes.\n",
      "Epoch [70/100], Loss: 2.3176, Training Accuracy: 38.43%, Testing Accuracy: 35.47%, Evaluation Time: 38.36 minutes.\n",
      "Epoch [71/100], Loss: 2.2424, Training Accuracy: 39.90%, Testing Accuracy: 35.63%, Evaluation Time: 38.80 minutes.\n",
      "Epoch [72/100], Loss: 2.2496, Training Accuracy: 39.99%, Testing Accuracy: 35.79%, Evaluation Time: 39.21 minutes.\n",
      "Epoch [73/100], Loss: 2.1736, Training Accuracy: 41.45%, Testing Accuracy: 36.26%, Evaluation Time: 39.63 minutes.\n",
      "Epoch [74/100], Loss: 2.1460, Training Accuracy: 42.06%, Testing Accuracy: 35.83%, Evaluation Time: 40.05 minutes.\n",
      "Epoch [75/100], Loss: 2.1099, Training Accuracy: 42.89%, Testing Accuracy: 37.37%, Evaluation Time: 40.43 minutes.\n",
      "Epoch [76/100], Loss: 2.1636, Training Accuracy: 41.97%, Testing Accuracy: 37.51%, Evaluation Time: 40.84 minutes.\n",
      "Epoch [77/100], Loss: 2.0627, Training Accuracy: 43.80%, Testing Accuracy: 36.87%, Evaluation Time: 41.28 minutes.\n",
      "Epoch [78/100], Loss: 2.1106, Training Accuracy: 43.01%, Testing Accuracy: 35.52%, Evaluation Time: 41.71 minutes.\n",
      "Epoch [79/100], Loss: 2.2624, Training Accuracy: 39.63%, Testing Accuracy: 36.74%, Evaluation Time: 42.15 minutes.\n",
      "Epoch [80/100], Loss: 2.1028, Training Accuracy: 43.06%, Testing Accuracy: 32.72%, Evaluation Time: 42.59 minutes.\n",
      "Epoch [81/100], Loss: 2.2290, Training Accuracy: 40.32%, Testing Accuracy: 35.47%, Evaluation Time: 44.78 minutes.\n",
      "Epoch [82/100], Loss: 2.5438, Training Accuracy: 34.19%, Testing Accuracy: 29.86%, Evaluation Time: 45.14 minutes.\n",
      "Epoch [83/100], Loss: 2.5568, Training Accuracy: 33.38%, Testing Accuracy: 32.61%, Evaluation Time: 45.50 minutes.\n",
      "Epoch [84/100], Loss: 2.3969, Training Accuracy: 36.81%, Testing Accuracy: 34.12%, Evaluation Time: 45.92 minutes.\n",
      "Epoch [85/100], Loss: 2.2923, Training Accuracy: 39.10%, Testing Accuracy: 35.28%, Evaluation Time: 46.33 minutes.\n",
      "Epoch [86/100], Loss: 2.2213, Training Accuracy: 40.68%, Testing Accuracy: 36.26%, Evaluation Time: 46.74 minutes.\n",
      "Epoch [87/100], Loss: 2.1617, Training Accuracy: 41.79%, Testing Accuracy: 36.17%, Evaluation Time: 47.17 minutes.\n",
      "Epoch [88/100], Loss: 2.1666, Training Accuracy: 41.75%, Testing Accuracy: 36.45%, Evaluation Time: 47.60 minutes.\n",
      "Epoch [89/100], Loss: 2.0976, Training Accuracy: 43.05%, Testing Accuracy: 36.29%, Evaluation Time: 48.03 minutes.\n",
      "Epoch [90/100], Loss: 2.0480, Training Accuracy: 44.14%, Testing Accuracy: 37.11%, Evaluation Time: 48.44 minutes.\n",
      "Epoch [91/100], Loss: 2.1108, Training Accuracy: 43.29%, Testing Accuracy: 36.57%, Evaluation Time: 48.87 minutes.\n",
      "Epoch [92/100], Loss: 2.0704, Training Accuracy: 43.73%, Testing Accuracy: 36.41%, Evaluation Time: 49.31 minutes.\n",
      "Epoch [93/100], Loss: 2.1092, Training Accuracy: 42.81%, Testing Accuracy: 36.32%, Evaluation Time: 49.74 minutes.\n",
      "Epoch [94/100], Loss: 2.0240, Training Accuracy: 44.79%, Testing Accuracy: 37.99%, Evaluation Time: 50.16 minutes.\n",
      "Epoch [95/100], Loss: 2.1361, Training Accuracy: 42.34%, Testing Accuracy: 37.13%, Evaluation Time: 55.46 minutes.\n",
      "Epoch [96/100], Loss: 2.1099, Training Accuracy: 42.82%, Testing Accuracy: 37.38%, Evaluation Time: 55.87 minutes.\n",
      "Epoch [97/100], Loss: 2.0399, Training Accuracy: 44.47%, Testing Accuracy: 37.77%, Evaluation Time: 56.30 minutes.\n",
      "Epoch [98/100], Loss: 1.9530, Training Accuracy: 46.41%, Testing Accuracy: 37.81%, Evaluation Time: 56.74 minutes.\n",
      "Epoch [99/100], Loss: 1.9554, Training Accuracy: 46.53%, Testing Accuracy: 36.20%, Evaluation Time: 57.17 minutes.\n",
      "Epoch [100/100], Loss: 2.0301, Training Accuracy: 44.61%, Testing Accuracy: 36.26%, Evaluation Time: 57.62 minutes.\n"
     ]
    },
    {
     "data": {
      "text/plain": [
       "(2.030089867248535, 0.44612, 0.3626)"
      ]
     },
     "execution_count": 4,
     "metadata": {},
     "output_type": "execute_result"
    }
   ],
   "source": [
    "model_parameters = {\n",
    "    \"image_size\": (32, 32),\n",
    "    \"channels\": [16, 32, 48, 48, 64, 64, 80, 80, 96, 96, 384],\n",
    "    \"num_classes\": 100,\n",
    "    \"expansion\": 4,\n",
    "    \"kernel_size\": 3,\n",
    "    \"patch_size\": (1, 1),\n",
    "    \"dims\": [48, 60, 72],\n",
    "    \"L\": [2, 2, 2],\n",
    "}\n",
    "trainer = Trainer(\n",
    "    MobileViT,\n",
    "    (trainloader, testloader),\n",
    "    batch_size=batch_size,\n",
    "    model_p=model_parameters,\n",
    "    learning_rate=0.02,\n",
    "    scheduler=(50, 0.5),\n",
    ")\n",
    "trainer.criterion = torch.nn.CrossEntropyLoss()\n",
    "trainer.run(num_epochs=100, evaluation_interval=1)"
   ]
  },
  {
   "cell_type": "code",
   "execution_count": 5,
   "metadata": {},
   "outputs": [
    {
     "name": "stdout",
     "output_type": "stream",
     "text": [
      "[4.280527641143799, 3.965466895065308, 3.8123397828674315, 3.7603496643066405, 3.780020869293213, 3.652429733123779, 3.4839221588897704, 3.3725412201690674, 3.4949070392608643, 3.238408877029419, 3.4763296617126467, 3.330028256149292, 3.2949785967254637, 3.1216556721496582, 3.0729586798095703, 2.963546073760986, 3.19125303276062, 2.941470098953247, 2.863724792556763, 2.9098346875, 3.053321381988525, 3.5001206311035156, 3.8007626427459718, 3.4613843572235106, 3.3620233946228026, 3.2960143773651125, 3.121983784790039, 3.0182083282470704, 3.0172679949188232, 2.9264182141876223, 2.8491174613952635, 2.7898401488494873, 2.6951837732696533, 2.877859308547974, 2.671866942977905, 2.597792760772705, 2.6456652215576173, 2.5204456635284425, 2.899511565551758, 2.9106048036956786, 3.0573787545776367, 2.8099953886413576, 2.6972012867736814, 2.6762456778717043, 2.524103509979248, 2.475636858596802, 2.881180009613037, 3.150252119140625, 2.758932772140503, 2.579472420501709, 2.426021103591919, 2.3695691828918455, 2.3270114751434328, 2.3042197398376465, 2.4976997123718263, 2.552726613235474, 2.5009776001739503, 2.3517016395568846, 2.318533278656006, 2.3118459820556643, 2.2728008532714843, 2.2200280950164797, 2.1910119441223146, 2.269104645690918, 2.3447080493164063, 2.257276257019043, 2.2169951787567137, 2.312180905685425, 2.4433269038391114, 2.3175550274658203, 2.2424301052093507, 2.249641038818359, 2.1736015518569944, 2.1460421701049803, 2.1098906211090087, 2.163627577056885, 2.062724705352783, 2.1106276887512205, 2.2624319427490236, 2.102785542449951, 2.229026262054443, 2.543769764175415, 2.556772254562378, 2.396886319732666, 2.292311367111206, 2.2213304833602905, 2.161691172027588, 2.1666432903289796, 2.0975696001434327, 2.047979388656616, 2.1107931954574584, 2.0703990985107423, 2.1092146468353272, 2.024032829437256, 2.1360546215820313, 2.1099055630493164, 2.039917268218994, 1.9530247695159912, 1.9554206594085692, 2.030089867248535]\n"
     ]
    }
   ],
   "source": [
    "print(trainer.training_loss)"
   ]
  },
  {
   "cell_type": "code",
   "execution_count": 6,
   "metadata": {},
   "outputs": [
    {
     "name": "stdout",
     "output_type": "stream",
     "text": [
      "[0.03764, 0.07004, 0.0922, 0.10432, 0.1045, 0.125, 0.15238, 0.17404, 0.15576, 0.19822, 0.16688, 0.18926, 0.19638, 0.22446, 0.2328, 0.25242, 0.21222, 0.25738, 0.2722, 0.26404, 0.24116, 0.1765, 0.11908, 0.17074, 0.18768, 0.19722, 0.2275, 0.24744, 0.24894, 0.26536, 0.28038, 0.2892, 0.3074, 0.26854, 0.31386, 0.32602, 0.31804, 0.34334, 0.2746, 0.26306, 0.24718, 0.2829, 0.3045, 0.3111, 0.34166, 0.34944, 0.27836, 0.21964, 0.29118, 0.32734, 0.36016, 0.37356, 0.37976, 0.38562, 0.34728, 0.34102, 0.34614, 0.37662, 0.3849, 0.3873, 0.39454, 0.40586, 0.41174, 0.39462, 0.37912, 0.39936, 0.40578, 0.38632, 0.35942, 0.38432, 0.39904, 0.39992, 0.41452, 0.42058, 0.42888, 0.4197, 0.43804, 0.43014, 0.39626, 0.43064, 0.4032, 0.3419, 0.33382, 0.3681, 0.39096, 0.40678, 0.4179, 0.4175, 0.43046, 0.44144, 0.43292, 0.4373, 0.42806, 0.44788, 0.42342, 0.42816, 0.44472, 0.46406, 0.4653, 0.44612]\n"
     ]
    }
   ],
   "source": [
    "print(trainer.training_accuracy)"
   ]
  },
  {
   "cell_type": "code",
   "execution_count": 7,
   "metadata": {},
   "outputs": [
    {
     "name": "stdout",
     "output_type": "stream",
     "text": [
      "[0.0619, 0.0836, 0.1025, 0.0945, 0.1096, 0.1378, 0.1635, 0.1836, 0.1786, 0.1972, 0.1904, 0.2094, 0.2066, 0.2354, 0.2356, 0.2553, 0.241, 0.2543, 0.2538, 0.224, 0.2382, 0.0763, 0.1503, 0.1839, 0.1949, 0.2098, 0.2403, 0.2468, 0.2382, 0.2719, 0.257, 0.2813, 0.296, 0.2885, 0.2984, 0.311, 0.3035, 0.3256, 0.2701, 0.2689, 0.2768, 0.3009, 0.3015, 0.3029, 0.3266, 0.3315, 0.1192, 0.2545, 0.3027, 0.3144, 0.3433, 0.3457, 0.3508, 0.2646, 0.2896, 0.2919, 0.3389, 0.3444, 0.3382, 0.3446, 0.3579, 0.364, 0.3601, 0.3355, 0.3416, 0.3617, 0.3603, 0.3297, 0.3355, 0.3547, 0.3563, 0.3579, 0.3626, 0.3583, 0.3737, 0.3751, 0.3687, 0.3552, 0.3674, 0.3272, 0.3547, 0.2986, 0.3261, 0.3412, 0.3528, 0.3626, 0.3617, 0.3645, 0.3629, 0.3711, 0.3657, 0.3641, 0.3632, 0.3799, 0.3713, 0.3738, 0.3777, 0.3781, 0.362, 0.3626]\n"
     ]
    }
   ],
   "source": [
    "print(trainer.testing_accuracy)"
   ]
  },
  {
   "cell_type": "code",
   "execution_count": 9,
   "metadata": {},
   "outputs": [
    {
     "name": "stdout",
     "output_type": "stream",
     "text": [
      "Epoch [1/100], Loss: 1.8536, Training Accuracy: 48.80%, Testing Accuracy: 38.95%, Evaluation Time: 0.43 minutes.\n",
      "Epoch [2/100], Loss: 1.8004, Training Accuracy: 50.19%, Testing Accuracy: 38.70%, Evaluation Time: 0.86 minutes.\n",
      "Epoch [3/100], Loss: 1.7645, Training Accuracy: 50.94%, Testing Accuracy: 39.49%, Evaluation Time: 1.29 minutes.\n",
      "Epoch [4/100], Loss: 1.7323, Training Accuracy: 51.48%, Testing Accuracy: 38.83%, Evaluation Time: 1.73 minutes.\n",
      "Epoch [5/100], Loss: 1.7682, Training Accuracy: 50.64%, Testing Accuracy: 36.34%, Evaluation Time: 2.17 minutes.\n",
      "Epoch [6/100], Loss: 1.8122, Training Accuracy: 49.54%, Testing Accuracy: 38.61%, Evaluation Time: 2.61 minutes.\n",
      "Epoch [7/100], Loss: 1.7181, Training Accuracy: 51.90%, Testing Accuracy: 39.20%, Evaluation Time: 3.05 minutes.\n",
      "Epoch [8/100], Loss: 1.6803, Training Accuracy: 52.99%, Testing Accuracy: 38.70%, Evaluation Time: 3.48 minutes.\n",
      "Epoch [9/100], Loss: 1.7151, Training Accuracy: 52.01%, Testing Accuracy: 38.93%, Evaluation Time: 3.93 minutes.\n",
      "Epoch [10/100], Loss: 1.6611, Training Accuracy: 53.44%, Testing Accuracy: 39.24%, Evaluation Time: 4.37 minutes.\n",
      "Epoch [11/100], Loss: 1.6360, Training Accuracy: 54.03%, Testing Accuracy: 39.15%, Evaluation Time: 4.80 minutes.\n",
      "Epoch [12/100], Loss: 1.6174, Training Accuracy: 54.19%, Testing Accuracy: 38.99%, Evaluation Time: 5.24 minutes.\n",
      "Epoch [13/100], Loss: 1.6004, Training Accuracy: 55.03%, Testing Accuracy: 38.20%, Evaluation Time: 5.64 minutes.\n",
      "Epoch [14/100], Loss: 1.7514, Training Accuracy: 50.83%, Testing Accuracy: 38.32%, Evaluation Time: 6.08 minutes.\n",
      "Epoch [15/100], Loss: 1.6992, Training Accuracy: 52.29%, Testing Accuracy: 38.99%, Evaluation Time: 6.52 minutes.\n",
      "Epoch [16/100], Loss: 1.6668, Training Accuracy: 53.13%, Testing Accuracy: 39.21%, Evaluation Time: 6.96 minutes.\n",
      "Epoch [17/100], Loss: 1.6039, Training Accuracy: 54.70%, Testing Accuracy: 38.23%, Evaluation Time: 7.39 minutes.\n",
      "Epoch [18/100], Loss: 1.5775, Training Accuracy: 55.15%, Testing Accuracy: 38.65%, Evaluation Time: 16.57 minutes.\n",
      "Epoch [19/100], Loss: 1.5453, Training Accuracy: 56.20%, Testing Accuracy: 38.96%, Evaluation Time: 16.99 minutes.\n",
      "Epoch [20/100], Loss: 1.6916, Training Accuracy: 52.55%, Testing Accuracy: 38.43%, Evaluation Time: 25.33 minutes.\n",
      "Epoch [21/100], Loss: 1.5915, Training Accuracy: 54.94%, Testing Accuracy: 38.29%, Evaluation Time: 25.75 minutes.\n",
      "Epoch [22/100], Loss: 1.5286, Training Accuracy: 56.30%, Testing Accuracy: 38.91%, Evaluation Time: 26.18 minutes.\n",
      "Epoch [23/100], Loss: 1.5030, Training Accuracy: 57.14%, Testing Accuracy: 39.05%, Evaluation Time: 26.58 minutes.\n",
      "Epoch [24/100], Loss: 1.4782, Training Accuracy: 57.78%, Testing Accuracy: 38.87%, Evaluation Time: 27.02 minutes.\n",
      "Epoch [25/100], Loss: 1.4553, Training Accuracy: 58.21%, Testing Accuracy: 38.33%, Evaluation Time: 27.45 minutes.\n",
      "Epoch [26/100], Loss: 1.5137, Training Accuracy: 56.56%, Testing Accuracy: 38.14%, Evaluation Time: 27.88 minutes.\n",
      "Epoch [27/100], Loss: 1.5797, Training Accuracy: 54.83%, Testing Accuracy: 38.31%, Evaluation Time: 28.32 minutes.\n",
      "Epoch [28/100], Loss: 1.4780, Training Accuracy: 57.61%, Testing Accuracy: 38.77%, Evaluation Time: 28.76 minutes.\n",
      "Epoch [29/100], Loss: 1.4454, Training Accuracy: 58.67%, Testing Accuracy: 38.87%, Evaluation Time: 29.15 minutes.\n",
      "Epoch [30/100], Loss: 1.4362, Training Accuracy: 58.61%, Testing Accuracy: 38.69%, Evaluation Time: 29.57 minutes.\n",
      "Epoch [31/100], Loss: 1.4054, Training Accuracy: 59.51%, Testing Accuracy: 38.54%, Evaluation Time: 30.00 minutes.\n",
      "Epoch [32/100], Loss: 1.3936, Training Accuracy: 59.60%, Testing Accuracy: 38.14%, Evaluation Time: 30.42 minutes.\n",
      "Epoch [33/100], Loss: 1.3619, Training Accuracy: 60.38%, Testing Accuracy: 38.40%, Evaluation Time: 30.81 minutes.\n",
      "Epoch [34/100], Loss: 1.3476, Training Accuracy: 61.00%, Testing Accuracy: 38.38%, Evaluation Time: 31.23 minutes.\n",
      "Epoch [35/100], Loss: 1.3564, Training Accuracy: 60.49%, Testing Accuracy: 35.07%, Evaluation Time: 31.64 minutes.\n",
      "Epoch [36/100], Loss: 1.4098, Training Accuracy: 59.02%, Testing Accuracy: 38.53%, Evaluation Time: 32.07 minutes.\n",
      "Epoch [37/100], Loss: 1.4889, Training Accuracy: 57.14%, Testing Accuracy: 37.03%, Evaluation Time: 32.51 minutes.\n",
      "Epoch [38/100], Loss: 1.4174, Training Accuracy: 58.95%, Testing Accuracy: 38.71%, Evaluation Time: 32.94 minutes.\n",
      "Epoch [39/100], Loss: 1.3331, Training Accuracy: 61.05%, Testing Accuracy: 37.79%, Evaluation Time: 33.35 minutes.\n",
      "Epoch [40/100], Loss: 1.3300, Training Accuracy: 61.14%, Testing Accuracy: 38.34%, Evaluation Time: 33.76 minutes.\n",
      "Epoch [41/100], Loss: 1.4203, Training Accuracy: 58.68%, Testing Accuracy: 37.64%, Evaluation Time: 34.20 minutes.\n",
      "Epoch [42/100], Loss: 1.3327, Training Accuracy: 61.16%, Testing Accuracy: 37.58%, Evaluation Time: 34.62 minutes.\n",
      "Epoch [43/100], Loss: 1.3254, Training Accuracy: 61.41%, Testing Accuracy: 37.49%, Evaluation Time: 35.06 minutes.\n",
      "Epoch [44/100], Loss: 1.3698, Training Accuracy: 60.28%, Testing Accuracy: 38.11%, Evaluation Time: 35.50 minutes.\n",
      "Epoch [45/100], Loss: 1.2605, Training Accuracy: 62.86%, Testing Accuracy: 37.28%, Evaluation Time: 35.94 minutes.\n",
      "Epoch [46/100], Loss: 1.3004, Training Accuracy: 62.14%, Testing Accuracy: 38.46%, Evaluation Time: 36.35 minutes.\n",
      "Epoch [47/100], Loss: 1.3297, Training Accuracy: 61.37%, Testing Accuracy: 37.76%, Evaluation Time: 36.78 minutes.\n",
      "Epoch [48/100], Loss: 1.2730, Training Accuracy: 62.40%, Testing Accuracy: 37.89%, Evaluation Time: 37.22 minutes.\n",
      "Epoch [49/100], Loss: 1.2661, Training Accuracy: 62.80%, Testing Accuracy: 37.09%, Evaluation Time: 37.65 minutes.\n",
      "Epoch [50/100], Loss: 1.1972, Training Accuracy: 64.71%, Testing Accuracy: 37.66%, Evaluation Time: 38.09 minutes.\n",
      "Epoch [51/100], Loss: 1.1903, Training Accuracy: 64.91%, Testing Accuracy: 37.03%, Evaluation Time: 38.53 minutes.\n",
      "Epoch [52/100], Loss: 1.1520, Training Accuracy: 65.82%, Testing Accuracy: 37.20%, Evaluation Time: 38.97 minutes.\n",
      "Epoch [53/100], Loss: 1.2614, Training Accuracy: 62.91%, Testing Accuracy: 37.03%, Evaluation Time: 39.41 minutes.\n",
      "Epoch [54/100], Loss: 1.2313, Training Accuracy: 63.68%, Testing Accuracy: 37.52%, Evaluation Time: 39.85 minutes.\n",
      "Epoch [55/100], Loss: 1.2255, Training Accuracy: 63.50%, Testing Accuracy: 38.08%, Evaluation Time: 40.25 minutes.\n",
      "Epoch [56/100], Loss: 1.1300, Training Accuracy: 66.33%, Testing Accuracy: 37.51%, Evaluation Time: 40.68 minutes.\n",
      "Epoch [57/100], Loss: 1.0993, Training Accuracy: 67.35%, Testing Accuracy: 37.76%, Evaluation Time: 41.09 minutes.\n",
      "Epoch [58/100], Loss: 1.1971, Training Accuracy: 64.48%, Testing Accuracy: 37.10%, Evaluation Time: 41.48 minutes.\n",
      "Epoch [59/100], Loss: 1.1328, Training Accuracy: 66.24%, Testing Accuracy: 37.08%, Evaluation Time: 41.90 minutes.\n",
      "Epoch [60/100], Loss: 1.0744, Training Accuracy: 67.94%, Testing Accuracy: 37.36%, Evaluation Time: 42.32 minutes.\n",
      "Epoch [61/100], Loss: 1.0636, Training Accuracy: 68.07%, Testing Accuracy: 36.56%, Evaluation Time: 42.76 minutes.\n",
      "Epoch [62/100], Loss: 1.1084, Training Accuracy: 66.75%, Testing Accuracy: 37.00%, Evaluation Time: 43.17 minutes.\n",
      "Epoch [63/100], Loss: 1.0303, Training Accuracy: 68.98%, Testing Accuracy: 37.09%, Evaluation Time: 43.61 minutes.\n",
      "Epoch [64/100], Loss: 1.2129, Training Accuracy: 64.34%, Testing Accuracy: 37.24%, Evaluation Time: 44.07 minutes.\n",
      "Epoch [65/100], Loss: 1.1444, Training Accuracy: 65.74%, Testing Accuracy: 36.69%, Evaluation Time: 44.51 minutes.\n",
      "Epoch [66/100], Loss: 1.2018, Training Accuracy: 64.07%, Testing Accuracy: 36.58%, Evaluation Time: 44.95 minutes.\n",
      "Epoch [67/100], Loss: 1.1464, Training Accuracy: 66.00%, Testing Accuracy: 36.31%, Evaluation Time: 45.37 minutes.\n",
      "Epoch [68/100], Loss: 1.2343, Training Accuracy: 63.29%, Testing Accuracy: 36.89%, Evaluation Time: 45.81 minutes.\n",
      "Epoch [69/100], Loss: 1.1266, Training Accuracy: 66.03%, Testing Accuracy: 37.06%, Evaluation Time: 46.24 minutes.\n",
      "Epoch [70/100], Loss: 1.0727, Training Accuracy: 67.66%, Testing Accuracy: 37.08%, Evaluation Time: 46.68 minutes.\n",
      "Epoch [71/100], Loss: 1.1810, Training Accuracy: 65.01%, Testing Accuracy: 37.13%, Evaluation Time: 47.11 minutes.\n",
      "Epoch [72/100], Loss: 1.2456, Training Accuracy: 62.99%, Testing Accuracy: 37.12%, Evaluation Time: 47.55 minutes.\n",
      "Epoch [73/100], Loss: 1.1131, Training Accuracy: 66.36%, Testing Accuracy: 36.24%, Evaluation Time: 47.97 minutes.\n",
      "Epoch [74/100], Loss: 1.0807, Training Accuracy: 67.29%, Testing Accuracy: 36.79%, Evaluation Time: 48.38 minutes.\n",
      "Epoch [75/100], Loss: 1.0516, Training Accuracy: 67.96%, Testing Accuracy: 36.83%, Evaluation Time: 48.81 minutes.\n",
      "Epoch [76/100], Loss: 1.1311, Training Accuracy: 66.25%, Testing Accuracy: 37.20%, Evaluation Time: 49.25 minutes.\n",
      "Epoch [77/100], Loss: 1.0098, Training Accuracy: 69.52%, Testing Accuracy: 36.83%, Evaluation Time: 49.67 minutes.\n",
      "Epoch [78/100], Loss: 1.0108, Training Accuracy: 69.32%, Testing Accuracy: 36.93%, Evaluation Time: 50.09 minutes.\n",
      "Epoch [79/100], Loss: 1.0021, Training Accuracy: 69.50%, Testing Accuracy: 36.99%, Evaluation Time: 50.51 minutes.\n",
      "Epoch [80/100], Loss: 1.1476, Training Accuracy: 65.73%, Testing Accuracy: 33.41%, Evaluation Time: 50.96 minutes.\n",
      "Epoch [81/100], Loss: 1.2192, Training Accuracy: 63.41%, Testing Accuracy: 37.08%, Evaluation Time: 51.39 minutes.\n",
      "Epoch [82/100], Loss: 1.0646, Training Accuracy: 67.83%, Testing Accuracy: 36.57%, Evaluation Time: 51.74 minutes.\n",
      "Epoch [83/100], Loss: 1.1186, Training Accuracy: 66.44%, Testing Accuracy: 35.99%, Evaluation Time: 52.16 minutes.\n",
      "Epoch [84/100], Loss: 1.0246, Training Accuracy: 68.86%, Testing Accuracy: 36.67%, Evaluation Time: 52.59 minutes.\n",
      "Epoch [85/100], Loss: 0.9600, Training Accuracy: 70.64%, Testing Accuracy: 36.26%, Evaluation Time: 53.01 minutes.\n",
      "Epoch [86/100], Loss: 0.9195, Training Accuracy: 71.93%, Testing Accuracy: 36.66%, Evaluation Time: 53.40 minutes.\n",
      "Epoch [87/100], Loss: 0.9425, Training Accuracy: 71.05%, Testing Accuracy: 35.71%, Evaluation Time: 53.82 minutes.\n",
      "Epoch [88/100], Loss: 0.9575, Training Accuracy: 70.60%, Testing Accuracy: 36.06%, Evaluation Time: 54.26 minutes.\n",
      "Epoch [89/100], Loss: 0.9223, Training Accuracy: 71.62%, Testing Accuracy: 36.42%, Evaluation Time: 54.70 minutes.\n",
      "Epoch [90/100], Loss: 1.0198, Training Accuracy: 68.63%, Testing Accuracy: 36.88%, Evaluation Time: 55.04 minutes.\n",
      "Epoch [91/100], Loss: 1.0100, Training Accuracy: 69.22%, Testing Accuracy: 36.79%, Evaluation Time: 55.47 minutes.\n",
      "Epoch [92/100], Loss: 1.0236, Training Accuracy: 68.41%, Testing Accuracy: 36.45%, Evaluation Time: 55.90 minutes.\n",
      "Epoch [93/100], Loss: 0.9913, Training Accuracy: 69.40%, Testing Accuracy: 36.19%, Evaluation Time: 56.34 minutes.\n",
      "Epoch [94/100], Loss: 1.1798, Training Accuracy: 64.74%, Testing Accuracy: 36.67%, Evaluation Time: 56.79 minutes.\n",
      "Epoch [95/100], Loss: 1.0126, Training Accuracy: 69.01%, Testing Accuracy: 37.25%, Evaluation Time: 57.07 minutes.\n",
      "Epoch [96/100], Loss: 1.0233, Training Accuracy: 68.82%, Testing Accuracy: 37.04%, Evaluation Time: 61.16 minutes.\n",
      "Epoch [97/100], Loss: 1.3404, Training Accuracy: 61.10%, Testing Accuracy: 35.31%, Evaluation Time: 61.60 minutes.\n",
      "Epoch [98/100], Loss: 1.3205, Training Accuracy: 60.60%, Testing Accuracy: 36.82%, Evaluation Time: 62.04 minutes.\n",
      "Epoch [99/100], Loss: 1.1194, Training Accuracy: 65.91%, Testing Accuracy: 37.33%, Evaluation Time: 62.47 minutes.\n",
      "Epoch [100/100], Loss: 1.1502, Training Accuracy: 65.28%, Testing Accuracy: 37.35%, Evaluation Time: 62.85 minutes.\n"
     ]
    },
    {
     "data": {
      "text/plain": [
       "(1.1501630549240112, 0.65276, 0.3735)"
      ]
     },
     "execution_count": 9,
     "metadata": {},
     "output_type": "execute_result"
    }
   ],
   "source": [
    "trainer.scheduler = None\n",
    "trainer.run(num_epochs=100, evaluation_interval=1)"
   ]
  }
 ],
 "metadata": {
  "kernelspec": {
   "display_name": "pytorch_gpu",
   "language": "python",
   "name": "python3"
  },
  "language_info": {
   "codemirror_mode": {
    "name": "ipython",
    "version": 3
   },
   "file_extension": ".py",
   "mimetype": "text/x-python",
   "name": "python",
   "nbconvert_exporter": "python",
   "pygments_lexer": "ipython3",
   "version": "3.11.5"
  }
 },
 "nbformat": 4,
 "nbformat_minor": 2
}
