{
 "cells": [
  {
   "cell_type": "code",
   "execution_count": 1,
   "metadata": {},
   "outputs": [],
   "source": [
    "from Runner import Trainer\n",
    "from mobilevit import DynamicMobileViT\n",
    "from mobilevit import MobileViT\n",
    "import torch\n",
    "import torchvision\n",
    "import torchvision.transforms as transforms"
   ]
  },
  {
   "cell_type": "code",
   "execution_count": 2,
   "metadata": {},
   "outputs": [],
   "source": [
    "batch_size = 128"
   ]
  },
  {
   "cell_type": "code",
   "execution_count": 3,
   "metadata": {},
   "outputs": [],
   "source": [
    "# 定义数据预处理操作：转换为张量并归一化\n",
    "transform = transforms.Compose(\n",
    "    [transforms.ToTensor(), transforms.Normalize((0.5, 0.5, 0.5), (0.5, 0.5, 0.5))]\n",
    ")\n",
    "\n",
    "# 下载并加载训练集\n",
    "trainset = torchvision.datasets.CIFAR100(\n",
    "    root=\"../Data/cifar-100-python\", train=True, download=False, transform=transform\n",
    ")\n",
    "trainloader = torch.utils.data.DataLoader(\n",
    "    trainset, batch_size=batch_size, shuffle=True, num_workers=2\n",
    ")\n",
    "\n",
    "# 下载并加载测试集\n",
    "testset = torchvision.datasets.CIFAR100(\n",
    "    root=\"../Data/cifar-100-python\", train=False, download=False, transform=transform\n",
    ")\n",
    "testloader = torch.utils.data.DataLoader(\n",
    "    testset, batch_size=batch_size, shuffle=False, num_workers=2\n",
    ")"
   ]
  },
  {
   "cell_type": "code",
   "execution_count": 4,
   "metadata": {},
   "outputs": [],
   "source": [
    "model_parameters = {\n",
    "    \"image_size\": (32, 32),\n",
    "    \"channels\": [16, 16, 24, 24, 32, 32, 48, 48, 64, 64, 120],\n",
    "    \"num_classes\": 100,\n",
    "    \"expansion\": 1,\n",
    "    \"kernel_size\": 3,\n",
    "    \"patch_size\": (1, 1),\n",
    "    \"dims\": [32, 24, 48],\n",
    "    \"L\": [2, 2, 2],\n",
    "}\n",
    "trainer = Trainer(\n",
    "    MobileViT,\n",
    "    (trainloader, testloader),\n",
    "    batch_size=batch_size,\n",
    "    model_p=model_parameters,\n",
    ")\n",
    "trainer.criterion = torch.nn.CrossEntropyLoss()\n",
    "# print(trainer.model)\n",
    "# trainer.run(num_epochs=2, evaluation_interval=1)"
   ]
  },
  {
   "cell_type": "code",
   "execution_count": 5,
   "metadata": {},
   "outputs": [
    {
     "name": "stdout",
     "output_type": "stream",
     "text": [
      "Epoch [2/100], Loss: 3.5033, Training Accuracy: 15.52%, Testing Accuracy: 17.16%, Evaluation Time: 0.72 minutes.\n",
      "Epoch [4/100], Loss: 3.1093, Training Accuracy: 22.65%, Testing Accuracy: 22.82%, Evaluation Time: 1.40 minutes.\n",
      "Epoch [6/100], Loss: 2.8571, Training Accuracy: 27.71%, Testing Accuracy: 26.29%, Evaluation Time: 2.09 minutes.\n",
      "Epoch [8/100], Loss: 2.6518, Training Accuracy: 31.80%, Testing Accuracy: 28.69%, Evaluation Time: 3.51 minutes.\n",
      "Epoch [10/100], Loss: 2.4892, Training Accuracy: 35.07%, Testing Accuracy: 29.26%, Evaluation Time: 4.25 minutes.\n",
      "Epoch [12/100], Loss: 2.3617, Training Accuracy: 37.81%, Testing Accuracy: 30.35%, Evaluation Time: 4.95 minutes.\n",
      "Epoch [14/100], Loss: 2.2413, Training Accuracy: 40.28%, Testing Accuracy: 30.72%, Evaluation Time: 5.63 minutes.\n",
      "Epoch [16/100], Loss: 2.1312, Training Accuracy: 42.68%, Testing Accuracy: 31.64%, Evaluation Time: 6.34 minutes.\n",
      "Epoch [18/100], Loss: 2.0325, Training Accuracy: 44.51%, Testing Accuracy: 31.43%, Evaluation Time: 7.06 minutes.\n",
      "Epoch [20/100], Loss: 1.9375, Training Accuracy: 47.07%, Testing Accuracy: 32.14%, Evaluation Time: 7.66 minutes.\n",
      "Epoch [22/100], Loss: 1.8537, Training Accuracy: 48.82%, Testing Accuracy: 31.24%, Evaluation Time: 8.34 minutes.\n",
      "Epoch [24/100], Loss: 1.7706, Training Accuracy: 50.72%, Testing Accuracy: 30.75%, Evaluation Time: 9.03 minutes.\n",
      "Epoch [26/100], Loss: 1.7110, Training Accuracy: 52.02%, Testing Accuracy: 30.97%, Evaluation Time: 9.77 minutes.\n",
      "Epoch [28/100], Loss: 1.6372, Training Accuracy: 53.64%, Testing Accuracy: 30.65%, Evaluation Time: 10.45 minutes.\n",
      "Epoch [30/100], Loss: 1.5880, Training Accuracy: 54.66%, Testing Accuracy: 30.29%, Evaluation Time: 11.10 minutes.\n",
      "Epoch [32/100], Loss: 1.5196, Training Accuracy: 56.52%, Testing Accuracy: 31.20%, Evaluation Time: 11.82 minutes.\n",
      "Epoch [34/100], Loss: 1.4732, Training Accuracy: 57.36%, Testing Accuracy: 30.14%, Evaluation Time: 12.42 minutes.\n",
      "Epoch [36/100], Loss: 1.4281, Training Accuracy: 58.43%, Testing Accuracy: 30.17%, Evaluation Time: 13.12 minutes.\n",
      "Epoch [38/100], Loss: 1.3771, Training Accuracy: 60.11%, Testing Accuracy: 29.67%, Evaluation Time: 13.83 minutes.\n",
      "Epoch [40/100], Loss: 1.3464, Training Accuracy: 60.64%, Testing Accuracy: 29.97%, Evaluation Time: 14.52 minutes.\n",
      "Epoch [42/100], Loss: 1.3013, Training Accuracy: 61.55%, Testing Accuracy: 30.05%, Evaluation Time: 15.25 minutes.\n",
      "Epoch [44/100], Loss: 1.2705, Training Accuracy: 62.50%, Testing Accuracy: 29.39%, Evaluation Time: 15.92 minutes.\n",
      "Epoch [46/100], Loss: 1.2378, Training Accuracy: 63.15%, Testing Accuracy: 29.14%, Evaluation Time: 18.20 minutes.\n",
      "Epoch [48/100], Loss: 1.1959, Training Accuracy: 64.31%, Testing Accuracy: 29.32%, Evaluation Time: 18.84 minutes.\n",
      "Epoch [50/100], Loss: 1.1746, Training Accuracy: 64.76%, Testing Accuracy: 29.16%, Evaluation Time: 19.43 minutes.\n",
      "Epoch [52/100], Loss: 1.1398, Training Accuracy: 65.72%, Testing Accuracy: 29.16%, Evaluation Time: 20.12 minutes.\n",
      "Epoch [54/100], Loss: 1.1158, Training Accuracy: 66.37%, Testing Accuracy: 29.34%, Evaluation Time: 20.76 minutes.\n",
      "Epoch [56/100], Loss: 1.0892, Training Accuracy: 67.16%, Testing Accuracy: 29.10%, Evaluation Time: 21.35 minutes.\n",
      "Epoch [58/100], Loss: 1.0621, Training Accuracy: 67.73%, Testing Accuracy: 28.76%, Evaluation Time: 21.99 minutes.\n",
      "Epoch [60/100], Loss: 1.0388, Training Accuracy: 68.29%, Testing Accuracy: 28.83%, Evaluation Time: 22.72 minutes.\n",
      "Epoch [62/100], Loss: 1.0127, Training Accuracy: 69.03%, Testing Accuracy: 28.79%, Evaluation Time: 23.32 minutes.\n",
      "Epoch [64/100], Loss: 0.9960, Training Accuracy: 69.47%, Testing Accuracy: 28.35%, Evaluation Time: 24.00 minutes.\n",
      "Epoch [66/100], Loss: 0.9671, Training Accuracy: 70.34%, Testing Accuracy: 28.26%, Evaluation Time: 24.71 minutes.\n",
      "Epoch [68/100], Loss: 0.9601, Training Accuracy: 70.54%, Testing Accuracy: 28.27%, Evaluation Time: 25.42 minutes.\n",
      "Epoch [70/100], Loss: 0.9376, Training Accuracy: 70.97%, Testing Accuracy: 28.27%, Evaluation Time: 26.12 minutes.\n",
      "Epoch [72/100], Loss: 0.9124, Training Accuracy: 71.87%, Testing Accuracy: 28.38%, Evaluation Time: 26.75 minutes.\n",
      "Epoch [74/100], Loss: 0.8942, Training Accuracy: 72.21%, Testing Accuracy: 28.49%, Evaluation Time: 27.48 minutes.\n",
      "Epoch [76/100], Loss: 0.8856, Training Accuracy: 72.43%, Testing Accuracy: 28.23%, Evaluation Time: 28.17 minutes.\n",
      "Epoch [78/100], Loss: 0.8685, Training Accuracy: 73.01%, Testing Accuracy: 27.96%, Evaluation Time: 28.88 minutes.\n",
      "Epoch [80/100], Loss: 0.8529, Training Accuracy: 73.26%, Testing Accuracy: 28.42%, Evaluation Time: 29.59 minutes.\n",
      "Epoch [82/100], Loss: 0.8393, Training Accuracy: 73.64%, Testing Accuracy: 28.25%, Evaluation Time: 30.30 minutes.\n",
      "Epoch [84/100], Loss: 0.8086, Training Accuracy: 74.53%, Testing Accuracy: 28.53%, Evaluation Time: 30.97 minutes.\n",
      "Epoch [86/100], Loss: 0.8087, Training Accuracy: 74.75%, Testing Accuracy: 27.79%, Evaluation Time: 31.69 minutes.\n",
      "Epoch [88/100], Loss: 0.7891, Training Accuracy: 75.29%, Testing Accuracy: 28.06%, Evaluation Time: 32.41 minutes.\n",
      "Epoch [90/100], Loss: 0.7800, Training Accuracy: 75.23%, Testing Accuracy: 28.57%, Evaluation Time: 33.09 minutes.\n",
      "Epoch [92/100], Loss: 0.7670, Training Accuracy: 75.85%, Testing Accuracy: 27.92%, Evaluation Time: 33.79 minutes.\n",
      "Epoch [94/100], Loss: 0.7628, Training Accuracy: 75.87%, Testing Accuracy: 28.01%, Evaluation Time: 34.45 minutes.\n",
      "Epoch [96/100], Loss: 0.7354, Training Accuracy: 76.68%, Testing Accuracy: 28.03%, Evaluation Time: 35.10 minutes.\n",
      "Epoch [98/100], Loss: 0.7388, Training Accuracy: 76.48%, Testing Accuracy: 27.84%, Evaluation Time: 35.79 minutes.\n",
      "Epoch [100/100], Loss: 0.7250, Training Accuracy: 76.90%, Testing Accuracy: 27.93%, Evaluation Time: 36.47 minutes.\n"
     ]
    },
    {
     "data": {
      "text/plain": [
       "(0.7249645312690735, 0.76896, 0.2793)"
      ]
     },
     "execution_count": 5,
     "metadata": {},
     "output_type": "execute_result"
    }
   ],
   "source": [
    "trainer.run(num_epochs=100, evaluation_interval=2)"
   ]
  },
  {
   "cell_type": "code",
   "execution_count": 6,
   "metadata": {},
   "outputs": [
    {
     "name": "stdout",
     "output_type": "stream",
     "text": [
      "[3.503267610626221, 3.109311094818115, 2.857105244216919, 2.6517701412963866, 2.4892365660095215, 2.3616987690734863, 2.241266621551514, 2.1312126790618895, 2.0324783250427245, 1.9375091018295287, 1.8537333850479125, 1.770598805847168, 1.7110469144058227, 1.6372116109466552, 1.588015082321167, 1.5195779132843017, 1.4731605582427978, 1.4281034609603882, 1.3771074375915526, 1.346372790298462, 1.3012882041931153, 1.270503016014099, 1.2378004418182373, 1.195934723892212, 1.1746145684814453, 1.1398359067153931, 1.1158200175476074, 1.089229960784912, 1.0621246107482911, 1.0387839364242553, 1.0127220454025267, 0.9959997023773194, 0.9670928013992309, 0.9600563277053833, 0.9376082060241699, 0.9123644608879089, 0.8942086251068115, 0.8855605473327637, 0.8684919092941285, 0.8529237690734863, 0.839345717086792, 0.8085691574859619, 0.8086606048202515, 0.7891450722122192, 0.7800027020263672, 0.766968828201294, 0.7628035724639892, 0.7354274914932251, 0.7388132743835449, 0.7249645312690735]\n"
     ]
    }
   ],
   "source": [
    "print(trainer.training_loss)"
   ]
  },
  {
   "cell_type": "code",
   "execution_count": 7,
   "metadata": {},
   "outputs": [
    {
     "name": "stdout",
     "output_type": "stream",
     "text": [
      "[0.15518, 0.22654, 0.27708, 0.31804, 0.35068, 0.3781, 0.40276, 0.42678, 0.44508, 0.47068, 0.48824, 0.5072, 0.52024, 0.53636, 0.54658, 0.56516, 0.57364, 0.58434, 0.60114, 0.60638, 0.6155, 0.62502, 0.63148, 0.6431, 0.64762, 0.65722, 0.66374, 0.6716, 0.67726, 0.68286, 0.69026, 0.69472, 0.7034, 0.70544, 0.7097, 0.71866, 0.72208, 0.7243, 0.73008, 0.73262, 0.73638, 0.74532, 0.74746, 0.75294, 0.75232, 0.75852, 0.7587, 0.76684, 0.76476, 0.76896]\n"
     ]
    }
   ],
   "source": [
    "print(trainer.training_accuracy)"
   ]
  },
  {
   "cell_type": "code",
   "execution_count": 8,
   "metadata": {},
   "outputs": [
    {
     "name": "stdout",
     "output_type": "stream",
     "text": [
      "[0.1716, 0.2282, 0.2629, 0.2869, 0.2926, 0.3035, 0.3072, 0.3164, 0.3143, 0.3214, 0.3124, 0.3075, 0.3097, 0.3065, 0.3029, 0.312, 0.3014, 0.3017, 0.2967, 0.2997, 0.3005, 0.2939, 0.2914, 0.2932, 0.2916, 0.2916, 0.2934, 0.291, 0.2876, 0.2883, 0.2879, 0.2835, 0.2826, 0.2827, 0.2827, 0.2838, 0.2849, 0.2823, 0.2796, 0.2842, 0.2825, 0.2853, 0.2779, 0.2806, 0.2857, 0.2792, 0.2801, 0.2803, 0.2784, 0.2793]\n"
     ]
    }
   ],
   "source": [
    "print(trainer.testing_accuracy)"
   ]
  },
  {
   "cell_type": "code",
   "execution_count": 9,
   "metadata": {},
   "outputs": [],
   "source": [
    "model_parameters = {\n",
    "    \"image_size\": (32, 32),\n",
    "    \"channels\": [16, 16, 24, 24, 32, 32, 48, 48, 64, 64, 120],\n",
    "    \"num_classes\": 100,\n",
    "    \"expansion\": 2,\n",
    "    \"kernel_size\": 3,\n",
    "    \"patch_size\": (1, 1),\n",
    "    \"dims\": [32, 24, 48],\n",
    "    \"L\": [2, 2, 2],\n",
    "}\n",
    "trainer = Trainer(\n",
    "    MobileViT,\n",
    "    (trainloader, testloader),\n",
    "    batch_size=batch_size,\n",
    "    model_p=model_parameters,\n",
    ")\n",
    "trainer.criterion = torch.nn.CrossEntropyLoss()"
   ]
  },
  {
   "cell_type": "code",
   "execution_count": 10,
   "metadata": {},
   "outputs": [
    {
     "name": "stdout",
     "output_type": "stream",
     "text": [
      "Epoch [2/100], Loss: 3.5406, Training Accuracy: 14.97%, Testing Accuracy: 16.92%, Evaluation Time: 0.74 minutes.\n",
      "Epoch [4/100], Loss: 3.0684, Training Accuracy: 23.44%, Testing Accuracy: 24.10%, Evaluation Time: 1.39 minutes.\n",
      "Epoch [6/100], Loss: 2.7746, Training Accuracy: 28.97%, Testing Accuracy: 27.78%, Evaluation Time: 2.17 minutes.\n",
      "Epoch [8/100], Loss: 2.5474, Training Accuracy: 33.64%, Testing Accuracy: 30.15%, Evaluation Time: 2.95 minutes.\n",
      "Epoch [10/100], Loss: 2.3606, Training Accuracy: 37.61%, Testing Accuracy: 31.59%, Evaluation Time: 3.66 minutes.\n",
      "Epoch [12/100], Loss: 2.2104, Training Accuracy: 40.86%, Testing Accuracy: 32.48%, Evaluation Time: 4.43 minutes.\n",
      "Epoch [14/100], Loss: 2.0645, Training Accuracy: 43.82%, Testing Accuracy: 33.74%, Evaluation Time: 5.12 minutes.\n",
      "Epoch [16/100], Loss: 1.9357, Training Accuracy: 46.80%, Testing Accuracy: 33.72%, Evaluation Time: 5.85 minutes.\n",
      "Epoch [18/100], Loss: 1.8169, Training Accuracy: 49.24%, Testing Accuracy: 33.16%, Evaluation Time: 6.60 minutes.\n",
      "Epoch [20/100], Loss: 1.7104, Training Accuracy: 51.92%, Testing Accuracy: 33.61%, Evaluation Time: 7.38 minutes.\n",
      "Epoch [22/100], Loss: 1.6074, Training Accuracy: 54.31%, Testing Accuracy: 33.24%, Evaluation Time: 8.10 minutes.\n",
      "Epoch [24/100], Loss: 1.5203, Training Accuracy: 56.39%, Testing Accuracy: 33.02%, Evaluation Time: 9.69 minutes.\n",
      "Epoch [26/100], Loss: 1.4423, Training Accuracy: 58.14%, Testing Accuracy: 32.32%, Evaluation Time: 13.80 minutes.\n",
      "Epoch [28/100], Loss: 1.3660, Training Accuracy: 60.15%, Testing Accuracy: 32.99%, Evaluation Time: 14.55 minutes.\n",
      "Epoch [30/100], Loss: 1.2966, Training Accuracy: 61.87%, Testing Accuracy: 32.06%, Evaluation Time: 15.32 minutes.\n",
      "Epoch [32/100], Loss: 1.2352, Training Accuracy: 63.47%, Testing Accuracy: 32.10%, Evaluation Time: 16.08 minutes.\n",
      "Epoch [34/100], Loss: 1.1763, Training Accuracy: 64.92%, Testing Accuracy: 32.43%, Evaluation Time: 16.84 minutes.\n",
      "Epoch [36/100], Loss: 1.1272, Training Accuracy: 66.27%, Testing Accuracy: 31.79%, Evaluation Time: 17.60 minutes.\n",
      "Epoch [38/100], Loss: 1.0828, Training Accuracy: 67.22%, Testing Accuracy: 31.63%, Evaluation Time: 18.24 minutes.\n",
      "Epoch [40/100], Loss: 1.0300, Training Accuracy: 68.54%, Testing Accuracy: 32.18%, Evaluation Time: 18.98 minutes.\n",
      "Epoch [42/100], Loss: 1.0003, Training Accuracy: 69.51%, Testing Accuracy: 31.20%, Evaluation Time: 19.64 minutes.\n",
      "Epoch [44/100], Loss: 0.9584, Training Accuracy: 70.54%, Testing Accuracy: 31.49%, Evaluation Time: 20.41 minutes.\n",
      "Epoch [46/100], Loss: 0.9226, Training Accuracy: 71.46%, Testing Accuracy: 31.64%, Evaluation Time: 21.15 minutes.\n",
      "Epoch [48/100], Loss: 0.8945, Training Accuracy: 72.03%, Testing Accuracy: 31.52%, Evaluation Time: 21.90 minutes.\n",
      "Epoch [50/100], Loss: 0.8548, Training Accuracy: 73.38%, Testing Accuracy: 31.33%, Evaluation Time: 22.67 minutes.\n",
      "Epoch [52/100], Loss: 0.8332, Training Accuracy: 73.79%, Testing Accuracy: 31.12%, Evaluation Time: 23.45 minutes.\n",
      "Epoch [54/100], Loss: 0.7924, Training Accuracy: 75.11%, Testing Accuracy: 30.85%, Evaluation Time: 24.22 minutes.\n",
      "Epoch [56/100], Loss: 0.7803, Training Accuracy: 75.23%, Testing Accuracy: 30.70%, Evaluation Time: 25.00 minutes.\n",
      "Epoch [58/100], Loss: 0.7559, Training Accuracy: 76.14%, Testing Accuracy: 30.91%, Evaluation Time: 25.76 minutes.\n",
      "Epoch [60/100], Loss: 0.7242, Training Accuracy: 77.03%, Testing Accuracy: 29.86%, Evaluation Time: 26.42 minutes.\n",
      "Epoch [62/100], Loss: 0.6982, Training Accuracy: 77.68%, Testing Accuracy: 30.81%, Evaluation Time: 27.22 minutes.\n",
      "Epoch [64/100], Loss: 0.7005, Training Accuracy: 77.62%, Testing Accuracy: 30.99%, Evaluation Time: 27.99 minutes.\n",
      "Epoch [66/100], Loss: 0.6707, Training Accuracy: 78.44%, Testing Accuracy: 30.95%, Evaluation Time: 28.73 minutes.\n",
      "Epoch [68/100], Loss: 0.6566, Training Accuracy: 78.95%, Testing Accuracy: 30.73%, Evaluation Time: 29.54 minutes.\n",
      "Epoch [70/100], Loss: 0.6368, Training Accuracy: 79.40%, Testing Accuracy: 30.73%, Evaluation Time: 30.30 minutes.\n",
      "Epoch [72/100], Loss: 0.6307, Training Accuracy: 79.69%, Testing Accuracy: 30.84%, Evaluation Time: 31.04 minutes.\n",
      "Epoch [74/100], Loss: 0.6042, Training Accuracy: 80.37%, Testing Accuracy: 30.75%, Evaluation Time: 31.82 minutes.\n",
      "Epoch [76/100], Loss: 0.6041, Training Accuracy: 80.46%, Testing Accuracy: 30.98%, Evaluation Time: 32.50 minutes.\n",
      "Epoch [78/100], Loss: 0.5822, Training Accuracy: 81.03%, Testing Accuracy: 30.23%, Evaluation Time: 33.21 minutes.\n",
      "Epoch [80/100], Loss: 0.5597, Training Accuracy: 81.95%, Testing Accuracy: 30.32%, Evaluation Time: 33.99 minutes.\n",
      "Epoch [82/100], Loss: 0.5575, Training Accuracy: 81.89%, Testing Accuracy: 30.04%, Evaluation Time: 34.74 minutes.\n",
      "Epoch [84/100], Loss: 0.5444, Training Accuracy: 82.22%, Testing Accuracy: 30.13%, Evaluation Time: 35.39 minutes.\n",
      "Epoch [86/100], Loss: 0.5431, Training Accuracy: 82.14%, Testing Accuracy: 30.24%, Evaluation Time: 35.92 minutes.\n",
      "Epoch [88/100], Loss: 0.5242, Training Accuracy: 82.73%, Testing Accuracy: 30.61%, Evaluation Time: 36.63 minutes.\n",
      "Epoch [90/100], Loss: 0.5170, Training Accuracy: 83.24%, Testing Accuracy: 30.07%, Evaluation Time: 37.31 minutes.\n",
      "Epoch [92/100], Loss: 0.4975, Training Accuracy: 83.48%, Testing Accuracy: 29.48%, Evaluation Time: 38.08 minutes.\n",
      "Epoch [94/100], Loss: 0.4979, Training Accuracy: 83.80%, Testing Accuracy: 30.04%, Evaluation Time: 38.85 minutes.\n",
      "Epoch [96/100], Loss: 0.4760, Training Accuracy: 84.58%, Testing Accuracy: 30.26%, Evaluation Time: 39.58 minutes.\n",
      "Epoch [98/100], Loss: 0.4798, Training Accuracy: 84.22%, Testing Accuracy: 30.25%, Evaluation Time: 40.30 minutes.\n",
      "Epoch [100/100], Loss: 0.4730, Training Accuracy: 84.60%, Testing Accuracy: 30.21%, Evaluation Time: 41.09 minutes.\n"
     ]
    },
    {
     "data": {
      "text/plain": [
       "(0.4729813327789307, 0.846, 0.3021)"
      ]
     },
     "execution_count": 10,
     "metadata": {},
     "output_type": "execute_result"
    }
   ],
   "source": [
    "trainer.run(num_epochs=100, evaluation_interval=2)"
   ]
  },
  {
   "cell_type": "code",
   "execution_count": 11,
   "metadata": {},
   "outputs": [
    {
     "name": "stdout",
     "output_type": "stream",
     "text": [
      "[3.540583328781128, 3.068374500656128, 2.7745880918884276, 2.547396486053467, 2.360606549987793, 2.2104320848846437, 2.0645163999938965, 1.935733016204834, 1.8169068786621094, 1.7103746202850343, 1.6073871596908569, 1.5202596781158448, 1.4423244538116455, 1.365973434677124, 1.296643662185669, 1.2351927128601075, 1.176258628616333, 1.1272429261016845, 1.0828353435134888, 1.0299974792098998, 1.0002729080963135, 0.9584436584472656, 0.9226251463699341, 0.8944789046478272, 0.854824824104309, 0.8332085629272461, 0.7923766416168213, 0.7802803199386596, 0.7559087605285645, 0.7242067597198486, 0.6981802824783325, 0.700514381904602, 0.6707101070022583, 0.656567905254364, 0.6368103811836243, 0.630655934715271, 0.604248832397461, 0.6040605535697937, 0.5821853762245178, 0.5597140958595276, 0.5574706066894531, 0.5443666180801392, 0.5431273076248169, 0.5242091119384765, 0.5169714680862427, 0.49746840950012206, 0.49789367170333865, 0.4760116135406494, 0.47979613817214967, 0.4729813327789307]\n"
     ]
    }
   ],
   "source": [
    "print(trainer.training_loss)"
   ]
  },
  {
   "cell_type": "code",
   "execution_count": 12,
   "metadata": {},
   "outputs": [
    {
     "name": "stdout",
     "output_type": "stream",
     "text": [
      "[0.14974, 0.23436, 0.28968, 0.3364, 0.37612, 0.40856, 0.43824, 0.46804, 0.49238, 0.51922, 0.5431, 0.56394, 0.58144, 0.60154, 0.61868, 0.63472, 0.64922, 0.66266, 0.67224, 0.68544, 0.69512, 0.7054, 0.71458, 0.72028, 0.73382, 0.73794, 0.75114, 0.7523, 0.7614, 0.77028, 0.77682, 0.77622, 0.7844, 0.7895, 0.794, 0.79692, 0.80366, 0.80456, 0.81028, 0.8195, 0.81894, 0.82224, 0.82142, 0.82726, 0.83244, 0.8348, 0.83804, 0.8458, 0.84224, 0.846]\n"
     ]
    }
   ],
   "source": [
    "print(trainer.training_accuracy)"
   ]
  },
  {
   "cell_type": "code",
   "execution_count": 13,
   "metadata": {},
   "outputs": [
    {
     "name": "stdout",
     "output_type": "stream",
     "text": [
      "[0.1692, 0.241, 0.2778, 0.3015, 0.3159, 0.3248, 0.3374, 0.3372, 0.3316, 0.3361, 0.3324, 0.3302, 0.3232, 0.3299, 0.3206, 0.321, 0.3243, 0.3179, 0.3163, 0.3218, 0.312, 0.3149, 0.3164, 0.3152, 0.3133, 0.3112, 0.3085, 0.307, 0.3091, 0.2986, 0.3081, 0.3099, 0.3095, 0.3073, 0.3073, 0.3084, 0.3075, 0.3098, 0.3023, 0.3032, 0.3004, 0.3013, 0.3024, 0.3061, 0.3007, 0.2948, 0.3004, 0.3026, 0.3025, 0.3021]\n"
     ]
    }
   ],
   "source": [
    "print(trainer.testing_accuracy)"
   ]
  },
  {
   "cell_type": "code",
   "execution_count": 14,
   "metadata": {},
   "outputs": [],
   "source": [
    "model_parameters = {\n",
    "    \"image_size\": (32, 32),\n",
    "    \"channels\": [16, 16, 24, 24, 32, 32, 48, 48, 64, 64, 120],\n",
    "    \"num_classes\": 100,\n",
    "    \"expansion\": 4,\n",
    "    \"kernel_size\": 3,\n",
    "    \"patch_size\": (1, 1),\n",
    "    \"dims\": [32, 24, 48],\n",
    "    \"L\": [2, 2, 2],\n",
    "}\n",
    "trainer = Trainer(\n",
    "    MobileViT,\n",
    "    (trainloader, testloader),\n",
    "    batch_size=batch_size,\n",
    "    model_p=model_parameters,\n",
    ")\n",
    "trainer.criterion = torch.nn.CrossEntropyLoss()"
   ]
  },
  {
   "cell_type": "code",
   "execution_count": 15,
   "metadata": {},
   "outputs": [
    {
     "name": "stdout",
     "output_type": "stream",
     "text": [
      "Epoch [2/100], Loss: 3.4140, Training Accuracy: 16.98%, Testing Accuracy: 19.95%, Evaluation Time: 0.77 minutes.\n",
      "Epoch [4/100], Loss: 2.8840, Training Accuracy: 26.55%, Testing Accuracy: 26.98%, Evaluation Time: 1.53 minutes.\n",
      "Epoch [6/100], Loss: 2.5291, Training Accuracy: 33.75%, Testing Accuracy: 30.84%, Evaluation Time: 2.27 minutes.\n",
      "Epoch [8/100], Loss: 2.2750, Training Accuracy: 39.10%, Testing Accuracy: 33.85%, Evaluation Time: 3.05 minutes.\n",
      "Epoch [10/100], Loss: 2.0745, Training Accuracy: 43.56%, Testing Accuracy: 35.04%, Evaluation Time: 3.80 minutes.\n",
      "Epoch [12/100], Loss: 1.9038, Training Accuracy: 47.45%, Testing Accuracy: 35.43%, Evaluation Time: 4.60 minutes.\n",
      "Epoch [14/100], Loss: 1.7496, Training Accuracy: 51.02%, Testing Accuracy: 36.32%, Evaluation Time: 5.39 minutes.\n",
      "Epoch [16/100], Loss: 1.6136, Training Accuracy: 54.19%, Testing Accuracy: 35.86%, Evaluation Time: 6.40 minutes.\n",
      "Epoch [18/100], Loss: 1.4919, Training Accuracy: 56.90%, Testing Accuracy: 36.43%, Evaluation Time: 7.11 minutes.\n",
      "Epoch [20/100], Loss: 1.3767, Training Accuracy: 59.63%, Testing Accuracy: 35.76%, Evaluation Time: 7.76 minutes.\n",
      "Epoch [22/100], Loss: 1.2881, Training Accuracy: 62.14%, Testing Accuracy: 35.72%, Evaluation Time: 8.51 minutes.\n",
      "Epoch [24/100], Loss: 1.1863, Training Accuracy: 64.44%, Testing Accuracy: 35.57%, Evaluation Time: 9.29 minutes.\n",
      "Epoch [26/100], Loss: 1.1249, Training Accuracy: 66.27%, Testing Accuracy: 34.90%, Evaluation Time: 10.09 minutes.\n",
      "Epoch [28/100], Loss: 1.0429, Training Accuracy: 68.21%, Testing Accuracy: 35.39%, Evaluation Time: 10.86 minutes.\n",
      "Epoch [30/100], Loss: 0.9724, Training Accuracy: 70.22%, Testing Accuracy: 35.16%, Evaluation Time: 11.56 minutes.\n",
      "Epoch [32/100], Loss: 0.9166, Training Accuracy: 71.66%, Testing Accuracy: 34.99%, Evaluation Time: 12.32 minutes.\n",
      "Epoch [34/100], Loss: 0.8659, Training Accuracy: 72.97%, Testing Accuracy: 34.27%, Evaluation Time: 13.00 minutes.\n",
      "Epoch [36/100], Loss: 0.8149, Training Accuracy: 74.42%, Testing Accuracy: 34.62%, Evaluation Time: 13.68 minutes.\n",
      "Epoch [38/100], Loss: 0.7665, Training Accuracy: 75.77%, Testing Accuracy: 34.68%, Evaluation Time: 14.31 minutes.\n",
      "Epoch [40/100], Loss: 0.7298, Training Accuracy: 76.93%, Testing Accuracy: 34.95%, Evaluation Time: 15.02 minutes.\n",
      "Epoch [42/100], Loss: 0.7103, Training Accuracy: 77.48%, Testing Accuracy: 34.27%, Evaluation Time: 15.81 minutes.\n",
      "Epoch [44/100], Loss: 0.6635, Training Accuracy: 78.78%, Testing Accuracy: 34.46%, Evaluation Time: 16.54 minutes.\n",
      "Epoch [46/100], Loss: 0.6410, Training Accuracy: 79.29%, Testing Accuracy: 33.95%, Evaluation Time: 17.30 minutes.\n",
      "Epoch [48/100], Loss: 0.6172, Training Accuracy: 80.26%, Testing Accuracy: 33.74%, Evaluation Time: 18.09 minutes.\n",
      "Epoch [50/100], Loss: 0.5914, Training Accuracy: 80.89%, Testing Accuracy: 34.09%, Evaluation Time: 18.89 minutes.\n",
      "Epoch [52/100], Loss: 0.5632, Training Accuracy: 81.86%, Testing Accuracy: 34.03%, Evaluation Time: 19.66 minutes.\n",
      "Epoch [54/100], Loss: 0.5442, Training Accuracy: 82.06%, Testing Accuracy: 33.81%, Evaluation Time: 20.45 minutes.\n",
      "Epoch [56/100], Loss: 0.5336, Training Accuracy: 82.52%, Testing Accuracy: 33.68%, Evaluation Time: 21.24 minutes.\n",
      "Epoch [58/100], Loss: 0.4953, Training Accuracy: 83.74%, Testing Accuracy: 33.27%, Evaluation Time: 21.97 minutes.\n",
      "Epoch [60/100], Loss: 0.4942, Training Accuracy: 83.77%, Testing Accuracy: 33.89%, Evaluation Time: 22.69 minutes.\n",
      "Epoch [62/100], Loss: 0.4730, Training Accuracy: 84.42%, Testing Accuracy: 33.09%, Evaluation Time: 23.45 minutes.\n",
      "Epoch [64/100], Loss: 0.4475, Training Accuracy: 85.25%, Testing Accuracy: 33.71%, Evaluation Time: 24.23 minutes.\n",
      "Epoch [66/100], Loss: 0.4462, Training Accuracy: 85.30%, Testing Accuracy: 33.38%, Evaluation Time: 24.92 minutes.\n",
      "Epoch [68/100], Loss: 0.4236, Training Accuracy: 85.99%, Testing Accuracy: 33.69%, Evaluation Time: 25.65 minutes.\n",
      "Epoch [70/100], Loss: 0.4402, Training Accuracy: 85.38%, Testing Accuracy: 33.33%, Evaluation Time: 26.44 minutes.\n",
      "Epoch [72/100], Loss: 0.4082, Training Accuracy: 86.50%, Testing Accuracy: 33.53%, Evaluation Time: 27.11 minutes.\n",
      "Epoch [74/100], Loss: 0.3949, Training Accuracy: 86.93%, Testing Accuracy: 33.81%, Evaluation Time: 27.89 minutes.\n",
      "Epoch [76/100], Loss: 0.3966, Training Accuracy: 86.71%, Testing Accuracy: 33.98%, Evaluation Time: 28.68 minutes.\n",
      "Epoch [78/100], Loss: 0.3799, Training Accuracy: 87.46%, Testing Accuracy: 33.85%, Evaluation Time: 29.40 minutes.\n",
      "Epoch [80/100], Loss: 0.3616, Training Accuracy: 88.05%, Testing Accuracy: 33.59%, Evaluation Time: 30.15 minutes.\n",
      "Epoch [82/100], Loss: 0.3610, Training Accuracy: 87.91%, Testing Accuracy: 33.85%, Evaluation Time: 30.90 minutes.\n",
      "Epoch [84/100], Loss: 0.3648, Training Accuracy: 87.82%, Testing Accuracy: 33.32%, Evaluation Time: 31.69 minutes.\n",
      "Epoch [86/100], Loss: 0.3473, Training Accuracy: 88.33%, Testing Accuracy: 33.89%, Evaluation Time: 32.43 minutes.\n",
      "Epoch [88/100], Loss: 0.3369, Training Accuracy: 88.84%, Testing Accuracy: 33.51%, Evaluation Time: 33.04 minutes.\n",
      "Epoch [90/100], Loss: 0.3511, Training Accuracy: 88.27%, Testing Accuracy: 33.17%, Evaluation Time: 33.79 minutes.\n",
      "Epoch [92/100], Loss: 0.3362, Training Accuracy: 88.79%, Testing Accuracy: 33.79%, Evaluation Time: 34.58 minutes.\n",
      "Epoch [94/100], Loss: 0.3165, Training Accuracy: 89.51%, Testing Accuracy: 33.67%, Evaluation Time: 35.34 minutes.\n",
      "Epoch [96/100], Loss: 0.3239, Training Accuracy: 89.22%, Testing Accuracy: 33.86%, Evaluation Time: 36.09 minutes.\n",
      "Epoch [98/100], Loss: 0.2962, Training Accuracy: 90.05%, Testing Accuracy: 34.04%, Evaluation Time: 36.80 minutes.\n",
      "Epoch [100/100], Loss: 0.3186, Training Accuracy: 89.37%, Testing Accuracy: 33.56%, Evaluation Time: 37.55 minutes.\n"
     ]
    },
    {
     "data": {
      "text/plain": [
       "(0.3186026871109009, 0.8937, 0.3356)"
      ]
     },
     "execution_count": 15,
     "metadata": {},
     "output_type": "execute_result"
    }
   ],
   "source": [
    "trainer.run(num_epochs=100, evaluation_interval=2)"
   ]
  },
  {
   "cell_type": "code",
   "execution_count": 16,
   "metadata": {},
   "outputs": [
    {
     "name": "stdout",
     "output_type": "stream",
     "text": [
      "[3.4140192158508302, 2.8839685816955565, 2.5291320055389406, 2.275029124298096, 2.0745452577209473, 1.9038276037597657, 1.7496008126831055, 1.6136408549499512, 1.4918847552108765, 1.37672977684021, 1.2881086461257936, 1.1862948949813843, 1.124861968574524, 1.0428703603363036, 0.9724016472244262, 0.9165962068557739, 0.865876311416626, 0.8149390748405456, 0.7664602681732178, 0.7297802351379394, 0.7103395784378052, 0.6635432802963257, 0.6409664876365662, 0.6171779882049561, 0.5914183428192139, 0.563159551372528, 0.5441976007461548, 0.5336210879135131, 0.49531791023254396, 0.4942039747047424, 0.4729931258583069, 0.4474833090591431, 0.4462110210609436, 0.42356782793045045, 0.4402035999488831, 0.40818458242416383, 0.3949271747970581, 0.3966457559967041, 0.3798843141174316, 0.361583563747406, 0.3609823861885071, 0.36480110969543456, 0.34733316438674927, 0.3369338972091675, 0.3510761455154419, 0.33617430700302126, 0.31645250608444214, 0.3238574220085144, 0.29621835214614867, 0.3186026871109009]\n"
     ]
    }
   ],
   "source": [
    "print(trainer.training_loss)"
   ]
  },
  {
   "cell_type": "code",
   "execution_count": 17,
   "metadata": {},
   "outputs": [
    {
     "name": "stdout",
     "output_type": "stream",
     "text": [
      "[0.16978, 0.26552, 0.33746, 0.39096, 0.4356, 0.47448, 0.51018, 0.54188, 0.569, 0.5963, 0.62138, 0.64442, 0.66268, 0.68214, 0.70218, 0.7166, 0.72974, 0.74416, 0.7577, 0.7693, 0.77478, 0.78782, 0.7929, 0.80264, 0.8089, 0.8186, 0.82062, 0.82524, 0.8374, 0.83768, 0.84418, 0.8525, 0.853, 0.85986, 0.85376, 0.86502, 0.86934, 0.86708, 0.87462, 0.88046, 0.87908, 0.87824, 0.88328, 0.8884, 0.88268, 0.88792, 0.8951, 0.8922, 0.9005, 0.8937]\n"
     ]
    }
   ],
   "source": [
    "print(trainer.training_accuracy)"
   ]
  },
  {
   "cell_type": "code",
   "execution_count": 18,
   "metadata": {},
   "outputs": [
    {
     "name": "stdout",
     "output_type": "stream",
     "text": [
      "[0.1995, 0.2698, 0.3084, 0.3385, 0.3504, 0.3543, 0.3632, 0.3586, 0.3643, 0.3576, 0.3572, 0.3557, 0.349, 0.3539, 0.3516, 0.3499, 0.3427, 0.3462, 0.3468, 0.3495, 0.3427, 0.3446, 0.3395, 0.3374, 0.3409, 0.3403, 0.3381, 0.3368, 0.3327, 0.3389, 0.3309, 0.3371, 0.3338, 0.3369, 0.3333, 0.3353, 0.3381, 0.3398, 0.3385, 0.3359, 0.3385, 0.3332, 0.3389, 0.3351, 0.3317, 0.3379, 0.3367, 0.3386, 0.3404, 0.3356]\n"
     ]
    }
   ],
   "source": [
    "print(trainer.testing_accuracy)"
   ]
  },
  {
   "cell_type": "code",
   "execution_count": 19,
   "metadata": {},
   "outputs": [],
   "source": [
    "model_parameters = {\n",
    "    \"image_size\": (32, 32),\n",
    "    \"channels\": [16, 16, 24, 24, 32, 32, 48, 48, 64, 64, 120],\n",
    "    \"num_classes\": 100,\n",
    "    \"expansion\": 8,\n",
    "    \"kernel_size\": 3,\n",
    "    \"patch_size\": (1, 1),\n",
    "    \"dims\": [32, 24, 48],\n",
    "    \"L\": [2, 2, 2],\n",
    "}\n",
    "trainer = Trainer(\n",
    "    MobileViT,\n",
    "    (trainloader, testloader),\n",
    "    batch_size=batch_size,\n",
    "    model_p=model_parameters,\n",
    ")\n",
    "trainer.criterion = torch.nn.CrossEntropyLoss()"
   ]
  },
  {
   "cell_type": "code",
   "execution_count": 20,
   "metadata": {},
   "outputs": [
    {
     "name": "stdout",
     "output_type": "stream",
     "text": [
      "Epoch [2/100], Loss: 3.2895, Training Accuracy: 18.76%, Testing Accuracy: 22.16%, Evaluation Time: 0.76 minutes.\n",
      "Epoch [4/100], Loss: 2.6462, Training Accuracy: 31.06%, Testing Accuracy: 30.67%, Evaluation Time: 1.54 minutes.\n",
      "Epoch [6/100], Loss: 2.2871, Training Accuracy: 38.45%, Testing Accuracy: 33.87%, Evaluation Time: 2.34 minutes.\n",
      "Epoch [8/100], Loss: 2.0160, Training Accuracy: 44.65%, Testing Accuracy: 36.57%, Evaluation Time: 3.12 minutes.\n",
      "Epoch [10/100], Loss: 1.7993, Training Accuracy: 49.71%, Testing Accuracy: 36.64%, Evaluation Time: 3.90 minutes.\n",
      "Epoch [12/100], Loss: 1.6084, Training Accuracy: 54.08%, Testing Accuracy: 37.49%, Evaluation Time: 4.68 minutes.\n",
      "Epoch [14/100], Loss: 1.4369, Training Accuracy: 58.32%, Testing Accuracy: 36.61%, Evaluation Time: 5.44 minutes.\n",
      "Epoch [16/100], Loss: 1.2808, Training Accuracy: 62.08%, Testing Accuracy: 36.20%, Evaluation Time: 6.45 minutes.\n",
      "Epoch [18/100], Loss: 1.1519, Training Accuracy: 65.72%, Testing Accuracy: 37.34%, Evaluation Time: 7.66 minutes.\n",
      "Epoch [20/100], Loss: 1.0438, Training Accuracy: 68.13%, Testing Accuracy: 36.49%, Evaluation Time: 8.46 minutes.\n",
      "Epoch [22/100], Loss: 0.9382, Training Accuracy: 71.20%, Testing Accuracy: 36.85%, Evaluation Time: 9.19 minutes.\n",
      "Epoch [24/100], Loss: 0.8488, Training Accuracy: 73.60%, Testing Accuracy: 36.45%, Evaluation Time: 9.97 minutes.\n",
      "Epoch [26/100], Loss: 0.7776, Training Accuracy: 75.61%, Testing Accuracy: 35.58%, Evaluation Time: 10.70 minutes.\n",
      "Epoch [28/100], Loss: 0.7095, Training Accuracy: 77.63%, Testing Accuracy: 35.24%, Evaluation Time: 11.39 minutes.\n",
      "Epoch [30/100], Loss: 0.6619, Training Accuracy: 78.97%, Testing Accuracy: 35.44%, Evaluation Time: 12.21 minutes.\n",
      "Epoch [32/100], Loss: 0.6061, Training Accuracy: 80.63%, Testing Accuracy: 35.09%, Evaluation Time: 13.01 minutes.\n",
      "Epoch [34/100], Loss: 0.5586, Training Accuracy: 81.77%, Testing Accuracy: 35.76%, Evaluation Time: 13.81 minutes.\n",
      "Epoch [36/100], Loss: 0.5287, Training Accuracy: 82.59%, Testing Accuracy: 35.64%, Evaluation Time: 14.62 minutes.\n",
      "Epoch [38/100], Loss: 0.5016, Training Accuracy: 83.65%, Testing Accuracy: 34.74%, Evaluation Time: 15.40 minutes.\n",
      "Epoch [40/100], Loss: 0.4730, Training Accuracy: 84.52%, Testing Accuracy: 34.75%, Evaluation Time: 16.17 minutes.\n",
      "Epoch [42/100], Loss: 0.4419, Training Accuracy: 85.41%, Testing Accuracy: 35.14%, Evaluation Time: 16.95 minutes.\n",
      "Epoch [44/100], Loss: 0.4261, Training Accuracy: 85.99%, Testing Accuracy: 34.85%, Evaluation Time: 20.49 minutes.\n",
      "Epoch [46/100], Loss: 0.3917, Training Accuracy: 86.98%, Testing Accuracy: 35.61%, Evaluation Time: 21.21 minutes.\n",
      "Epoch [48/100], Loss: 0.3761, Training Accuracy: 87.59%, Testing Accuracy: 35.38%, Evaluation Time: 21.94 minutes.\n",
      "Epoch [50/100], Loss: 0.3798, Training Accuracy: 87.36%, Testing Accuracy: 35.51%, Evaluation Time: 22.65 minutes.\n",
      "Epoch [52/100], Loss: 0.3497, Training Accuracy: 88.55%, Testing Accuracy: 35.25%, Evaluation Time: 27.00 minutes.\n",
      "Epoch [54/100], Loss: 0.3519, Training Accuracy: 88.29%, Testing Accuracy: 34.98%, Evaluation Time: 27.73 minutes.\n",
      "Epoch [56/100], Loss: 0.3194, Training Accuracy: 89.40%, Testing Accuracy: 35.53%, Evaluation Time: 28.45 minutes.\n",
      "Epoch [58/100], Loss: 0.3237, Training Accuracy: 89.23%, Testing Accuracy: 35.41%, Evaluation Time: 29.22 minutes.\n",
      "Epoch [60/100], Loss: 0.3047, Training Accuracy: 89.87%, Testing Accuracy: 35.28%, Evaluation Time: 29.92 minutes.\n",
      "Epoch [62/100], Loss: 0.3103, Training Accuracy: 89.59%, Testing Accuracy: 35.31%, Evaluation Time: 30.67 minutes.\n",
      "Epoch [64/100], Loss: 0.2870, Training Accuracy: 90.43%, Testing Accuracy: 35.12%, Evaluation Time: 31.45 minutes.\n",
      "Epoch [66/100], Loss: 0.2867, Training Accuracy: 90.32%, Testing Accuracy: 34.61%, Evaluation Time: 32.23 minutes.\n",
      "Epoch [68/100], Loss: 0.2663, Training Accuracy: 91.23%, Testing Accuracy: 34.46%, Evaluation Time: 32.99 minutes.\n",
      "Epoch [70/100], Loss: 0.2666, Training Accuracy: 91.32%, Testing Accuracy: 34.82%, Evaluation Time: 33.80 minutes.\n",
      "Epoch [72/100], Loss: 0.2627, Training Accuracy: 91.36%, Testing Accuracy: 35.03%, Evaluation Time: 34.45 minutes.\n",
      "Epoch [74/100], Loss: 0.2685, Training Accuracy: 91.15%, Testing Accuracy: 34.87%, Evaluation Time: 35.23 minutes.\n",
      "Epoch [76/100], Loss: 0.2300, Training Accuracy: 92.32%, Testing Accuracy: 35.03%, Evaluation Time: 36.02 minutes.\n",
      "Epoch [78/100], Loss: 0.2464, Training Accuracy: 91.82%, Testing Accuracy: 35.28%, Evaluation Time: 36.77 minutes.\n",
      "Epoch [80/100], Loss: 0.2359, Training Accuracy: 92.13%, Testing Accuracy: 36.01%, Evaluation Time: 37.58 minutes.\n",
      "Epoch [82/100], Loss: 0.2161, Training Accuracy: 92.78%, Testing Accuracy: 35.04%, Evaluation Time: 38.38 minutes.\n",
      "Epoch [84/100], Loss: 0.2216, Training Accuracy: 92.58%, Testing Accuracy: 35.07%, Evaluation Time: 39.10 minutes.\n",
      "Epoch [86/100], Loss: 0.2163, Training Accuracy: 92.75%, Testing Accuracy: 34.79%, Evaluation Time: 39.88 minutes.\n",
      "Epoch [88/100], Loss: 0.2210, Training Accuracy: 92.70%, Testing Accuracy: 35.08%, Evaluation Time: 40.63 minutes.\n",
      "Epoch [90/100], Loss: 0.2065, Training Accuracy: 93.14%, Testing Accuracy: 35.35%, Evaluation Time: 41.40 minutes.\n",
      "Epoch [92/100], Loss: 0.2093, Training Accuracy: 93.13%, Testing Accuracy: 34.92%, Evaluation Time: 42.15 minutes.\n",
      "Epoch [94/100], Loss: 0.2066, Training Accuracy: 93.10%, Testing Accuracy: 35.62%, Evaluation Time: 42.93 minutes.\n",
      "Epoch [96/100], Loss: 0.2188, Training Accuracy: 92.85%, Testing Accuracy: 35.35%, Evaluation Time: 43.71 minutes.\n",
      "Epoch [98/100], Loss: 0.1935, Training Accuracy: 93.59%, Testing Accuracy: 35.58%, Evaluation Time: 44.51 minutes.\n",
      "Epoch [100/100], Loss: 0.2069, Training Accuracy: 93.09%, Testing Accuracy: 35.67%, Evaluation Time: 45.28 minutes.\n"
     ]
    },
    {
     "data": {
      "text/plain": [
       "(0.2069431810760498, 0.93092, 0.3567)"
      ]
     },
     "execution_count": 20,
     "metadata": {},
     "output_type": "execute_result"
    }
   ],
   "source": [
    "trainer.run(num_epochs=100, evaluation_interval=2)"
   ]
  },
  {
   "cell_type": "code",
   "execution_count": 21,
   "metadata": {},
   "outputs": [
    {
     "name": "stdout",
     "output_type": "stream",
     "text": [
      "[3.289525352630615, 2.6462327864074706, 2.2871451162719727, 2.0159879795837403, 1.7993168624877929, 1.6084143758392333, 1.4369077546691895, 1.2807576501464843, 1.1518760430908204, 1.0437598666763306, 0.9382127200698852, 0.8488497059822082, 0.7776212874794006, 0.7095237677764893, 0.6618718127822876, 0.6060977878952026, 0.5585650514793395, 0.5286548138618469, 0.5015721320724488, 0.4729755382156372, 0.4419383463859558, 0.42613592037200926, 0.3916782376289368, 0.37607501752853395, 0.37977962178230285, 0.34973282804489136, 0.3518941986465454, 0.31936155410766603, 0.3237296551513672, 0.3047147291564941, 0.31028229667663576, 0.2870462784576416, 0.2867364981174469, 0.2662728119277954, 0.26655032150268554, 0.26272487686157225, 0.2685163803482056, 0.2300279205608368, 0.24644155965805054, 0.2359427012729645, 0.21614478653907776, 0.22162862840652467, 0.2162852789258957, 0.22103551502227783, 0.20649683549880982, 0.2092964030265808, 0.20659610299110412, 0.21877965309143066, 0.19354305490493776, 0.2069431810760498]\n"
     ]
    }
   ],
   "source": [
    "print(trainer.training_loss)"
   ]
  },
  {
   "cell_type": "code",
   "execution_count": 22,
   "metadata": {},
   "outputs": [
    {
     "name": "stdout",
     "output_type": "stream",
     "text": [
      "[0.18764, 0.31056, 0.38448, 0.4465, 0.49712, 0.5408, 0.58316, 0.62078, 0.65722, 0.6813, 0.71198, 0.73604, 0.75612, 0.77632, 0.78966, 0.80634, 0.81774, 0.8259, 0.8365, 0.84516, 0.85412, 0.85992, 0.86976, 0.87586, 0.87364, 0.88552, 0.88294, 0.89396, 0.89234, 0.89872, 0.89592, 0.90428, 0.90318, 0.91232, 0.91322, 0.91358, 0.91146, 0.9232, 0.91824, 0.92132, 0.92776, 0.92578, 0.92752, 0.927, 0.93142, 0.93128, 0.931, 0.92848, 0.93594, 0.93092]\n"
     ]
    }
   ],
   "source": [
    "print(trainer.training_accuracy)"
   ]
  },
  {
   "cell_type": "code",
   "execution_count": 23,
   "metadata": {},
   "outputs": [
    {
     "name": "stdout",
     "output_type": "stream",
     "text": [
      "[0.2216, 0.3067, 0.3387, 0.3657, 0.3664, 0.3749, 0.3661, 0.362, 0.3734, 0.3649, 0.3685, 0.3645, 0.3558, 0.3524, 0.3544, 0.3509, 0.3576, 0.3564, 0.3474, 0.3475, 0.3514, 0.3485, 0.3561, 0.3538, 0.3551, 0.3525, 0.3498, 0.3553, 0.3541, 0.3528, 0.3531, 0.3512, 0.3461, 0.3446, 0.3482, 0.3503, 0.3487, 0.3503, 0.3528, 0.3601, 0.3504, 0.3507, 0.3479, 0.3508, 0.3535, 0.3492, 0.3562, 0.3535, 0.3558, 0.3567]\n"
     ]
    }
   ],
   "source": [
    "print(trainer.testing_accuracy)"
   ]
  },
  {
   "cell_type": "code",
   "execution_count": 24,
   "metadata": {},
   "outputs": [],
   "source": [
    "model_parameters = {\n",
    "    \"image_size\": (32, 32),\n",
    "    \"channels\": [16, 16, 24, 24, 32, 32, 48, 48, 64, 64, 120],\n",
    "    \"num_classes\": 100,\n",
    "    \"expansion\": 16,\n",
    "    \"kernel_size\": 3,\n",
    "    \"patch_size\": (1, 1),\n",
    "    \"dims\": [32, 24, 48],\n",
    "    \"L\": [2, 2, 2],\n",
    "}\n",
    "trainer = Trainer(\n",
    "    MobileViT,\n",
    "    (trainloader, testloader),\n",
    "    batch_size=batch_size,\n",
    "    model_p=model_parameters,\n",
    ")\n",
    "trainer.criterion = torch.nn.CrossEntropyLoss()"
   ]
  },
  {
   "cell_type": "code",
   "execution_count": 25,
   "metadata": {},
   "outputs": [
    {
     "name": "stdout",
     "output_type": "stream",
     "text": [
      "Epoch [2/100], Loss: 3.2257, Training Accuracy: 19.98%, Testing Accuracy: 23.29%, Evaluation Time: 0.66 minutes.\n",
      "Epoch [4/100], Loss: 2.5173, Training Accuracy: 34.11%, Testing Accuracy: 32.91%, Evaluation Time: 1.34 minutes.\n",
      "Epoch [6/100], Loss: 2.0995, Training Accuracy: 43.07%, Testing Accuracy: 36.92%, Evaluation Time: 2.13 minutes.\n",
      "Epoch [8/100], Loss: 1.7871, Training Accuracy: 49.83%, Testing Accuracy: 38.65%, Evaluation Time: 2.94 minutes.\n",
      "Epoch [10/100], Loss: 1.5456, Training Accuracy: 55.75%, Testing Accuracy: 39.89%, Evaluation Time: 3.71 minutes.\n",
      "Epoch [12/100], Loss: 1.3098, Training Accuracy: 61.31%, Testing Accuracy: 40.64%, Evaluation Time: 4.50 minutes.\n",
      "Epoch [14/100], Loss: 1.1197, Training Accuracy: 66.23%, Testing Accuracy: 39.47%, Evaluation Time: 5.30 minutes.\n",
      "Epoch [16/100], Loss: 0.9683, Training Accuracy: 70.33%, Testing Accuracy: 39.92%, Evaluation Time: 6.06 minutes.\n",
      "Epoch [18/100], Loss: 0.8320, Training Accuracy: 73.97%, Testing Accuracy: 38.46%, Evaluation Time: 6.74 minutes.\n",
      "Epoch [20/100], Loss: 0.7143, Training Accuracy: 77.52%, Testing Accuracy: 38.42%, Evaluation Time: 7.47 minutes.\n",
      "Epoch [22/100], Loss: 0.6325, Training Accuracy: 79.96%, Testing Accuracy: 38.89%, Evaluation Time: 8.24 minutes.\n",
      "Epoch [24/100], Loss: 0.5534, Training Accuracy: 82.18%, Testing Accuracy: 38.17%, Evaluation Time: 8.94 minutes.\n",
      "Epoch [26/100], Loss: 0.5050, Training Accuracy: 83.52%, Testing Accuracy: 38.16%, Evaluation Time: 9.69 minutes.\n",
      "Epoch [28/100], Loss: 0.4921, Training Accuracy: 83.80%, Testing Accuracy: 38.37%, Evaluation Time: 10.47 minutes.\n",
      "Epoch [30/100], Loss: 0.3716, Training Accuracy: 87.92%, Testing Accuracy: 38.52%, Evaluation Time: 11.24 minutes.\n",
      "Epoch [32/100], Loss: 0.3854, Training Accuracy: 87.31%, Testing Accuracy: 38.48%, Evaluation Time: 12.00 minutes.\n",
      "Epoch [34/100], Loss: 0.3485, Training Accuracy: 88.42%, Testing Accuracy: 38.60%, Evaluation Time: 12.75 minutes.\n",
      "Epoch [36/100], Loss: 0.3165, Training Accuracy: 89.47%, Testing Accuracy: 38.11%, Evaluation Time: 13.41 minutes.\n",
      "Epoch [38/100], Loss: 0.3081, Training Accuracy: 89.87%, Testing Accuracy: 37.88%, Evaluation Time: 14.18 minutes.\n",
      "Epoch [40/100], Loss: 0.2724, Training Accuracy: 90.91%, Testing Accuracy: 38.56%, Evaluation Time: 14.98 minutes.\n",
      "Epoch [42/100], Loss: 0.2741, Training Accuracy: 90.89%, Testing Accuracy: 37.94%, Evaluation Time: 15.76 minutes.\n",
      "Epoch [44/100], Loss: 0.2428, Training Accuracy: 91.89%, Testing Accuracy: 38.54%, Evaluation Time: 16.57 minutes.\n",
      "Epoch [46/100], Loss: 0.2417, Training Accuracy: 91.95%, Testing Accuracy: 38.42%, Evaluation Time: 17.36 minutes.\n",
      "Epoch [48/100], Loss: 0.2383, Training Accuracy: 92.11%, Testing Accuracy: 38.85%, Evaluation Time: 18.07 minutes.\n",
      "Epoch [50/100], Loss: 0.2175, Training Accuracy: 92.67%, Testing Accuracy: 38.13%, Evaluation Time: 18.86 minutes.\n",
      "Epoch [52/100], Loss: 0.2344, Training Accuracy: 92.26%, Testing Accuracy: 38.55%, Evaluation Time: 19.64 minutes.\n",
      "Epoch [54/100], Loss: 0.1905, Training Accuracy: 93.72%, Testing Accuracy: 38.75%, Evaluation Time: 20.39 minutes.\n",
      "Epoch [56/100], Loss: 0.2149, Training Accuracy: 92.84%, Testing Accuracy: 38.78%, Evaluation Time: 21.07 minutes.\n",
      "Epoch [58/100], Loss: 0.2020, Training Accuracy: 93.40%, Testing Accuracy: 39.23%, Evaluation Time: 21.66 minutes.\n",
      "Epoch [60/100], Loss: 0.1858, Training Accuracy: 93.81%, Testing Accuracy: 39.06%, Evaluation Time: 22.31 minutes.\n",
      "Epoch [62/100], Loss: 0.1816, Training Accuracy: 93.95%, Testing Accuracy: 37.95%, Evaluation Time: 23.05 minutes.\n",
      "Epoch [64/100], Loss: 0.1669, Training Accuracy: 94.39%, Testing Accuracy: 38.59%, Evaluation Time: 23.85 minutes.\n",
      "Epoch [66/100], Loss: 0.1644, Training Accuracy: 94.65%, Testing Accuracy: 39.00%, Evaluation Time: 24.65 minutes.\n",
      "Epoch [68/100], Loss: 0.1745, Training Accuracy: 94.24%, Testing Accuracy: 38.53%, Evaluation Time: 25.46 minutes.\n",
      "Epoch [70/100], Loss: 0.1707, Training Accuracy: 94.43%, Testing Accuracy: 39.17%, Evaluation Time: 26.26 minutes.\n",
      "Epoch [72/100], Loss: 0.1521, Training Accuracy: 94.80%, Testing Accuracy: 39.02%, Evaluation Time: 27.06 minutes.\n",
      "Epoch [74/100], Loss: 0.1817, Training Accuracy: 94.03%, Testing Accuracy: 38.98%, Evaluation Time: 27.83 minutes.\n",
      "Epoch [76/100], Loss: 0.1431, Training Accuracy: 95.18%, Testing Accuracy: 39.17%, Evaluation Time: 28.64 minutes.\n",
      "Epoch [78/100], Loss: 0.1462, Training Accuracy: 95.11%, Testing Accuracy: 38.79%, Evaluation Time: 29.45 minutes.\n",
      "Epoch [80/100], Loss: 0.1516, Training Accuracy: 94.92%, Testing Accuracy: 39.14%, Evaluation Time: 30.21 minutes.\n",
      "Epoch [82/100], Loss: 0.1392, Training Accuracy: 95.35%, Testing Accuracy: 39.69%, Evaluation Time: 31.01 minutes.\n",
      "Epoch [84/100], Loss: 0.1423, Training Accuracy: 95.28%, Testing Accuracy: 38.86%, Evaluation Time: 31.67 minutes.\n",
      "Epoch [86/100], Loss: 0.1398, Training Accuracy: 95.36%, Testing Accuracy: 38.69%, Evaluation Time: 32.45 minutes.\n",
      "Epoch [88/100], Loss: 0.1302, Training Accuracy: 95.60%, Testing Accuracy: 39.35%, Evaluation Time: 33.27 minutes.\n",
      "Epoch [90/100], Loss: 0.1374, Training Accuracy: 95.53%, Testing Accuracy: 38.13%, Evaluation Time: 33.95 minutes.\n",
      "Epoch [92/100], Loss: 0.1356, Training Accuracy: 95.55%, Testing Accuracy: 39.09%, Evaluation Time: 36.80 minutes.\n",
      "Epoch [94/100], Loss: 0.1193, Training Accuracy: 96.06%, Testing Accuracy: 39.38%, Evaluation Time: 37.45 minutes.\n",
      "Epoch [96/100], Loss: 0.1295, Training Accuracy: 95.73%, Testing Accuracy: 38.07%, Evaluation Time: 38.22 minutes.\n",
      "Epoch [98/100], Loss: 0.1380, Training Accuracy: 95.47%, Testing Accuracy: 38.65%, Evaluation Time: 42.83 minutes.\n",
      "Epoch [100/100], Loss: 0.1080, Training Accuracy: 96.40%, Testing Accuracy: 39.24%, Evaluation Time: 43.58 minutes.\n"
     ]
    },
    {
     "data": {
      "text/plain": [
       "(0.10798864031791687, 0.96404, 0.3924)"
      ]
     },
     "execution_count": 25,
     "metadata": {},
     "output_type": "execute_result"
    }
   ],
   "source": [
    "trainer.run(num_epochs=100, evaluation_interval=2)"
   ]
  },
  {
   "cell_type": "code",
   "execution_count": 26,
   "metadata": {},
   "outputs": [
    {
     "name": "stdout",
     "output_type": "stream",
     "text": [
      "[3.2257165299987793, 2.517257187347412, 2.0994765817642214, 1.7870718342590333, 1.545586073951721, 1.309834727935791, 1.1197260649490357, 0.9683268272209168, 0.8319854601669312, 0.7142899872970581, 0.6324748396110534, 0.5533597421264649, 0.5049615132522584, 0.492137818441391, 0.3716478809738159, 0.3854394269180298, 0.34851813718795777, 0.31645387228012084, 0.308061996421814, 0.2724065348148346, 0.27412593317985534, 0.24278846800804138, 0.24166258510112762, 0.2383405168056488, 0.2174842216682434, 0.23438882996559143, 0.19052109914779664, 0.21494382645130158, 0.20196783019065856, 0.18583632376670836, 0.18164709573745727, 0.16690262901306152, 0.1643588692855835, 0.1744507659816742, 0.17068011317253112, 0.15206014581680297, 0.18170409622192382, 0.1430819518327713, 0.14619760181427002, 0.15155585400104524, 0.13917263736724853, 0.14226982982158662, 0.13978873528957367, 0.13021555211544036, 0.13738079674243928, 0.1356496916627884, 0.11928764994144439, 0.1294714209508896, 0.13795106465816498, 0.10798864031791687]\n"
     ]
    }
   ],
   "source": [
    "print(trainer.training_loss)"
   ]
  },
  {
   "cell_type": "code",
   "execution_count": 27,
   "metadata": {},
   "outputs": [
    {
     "name": "stdout",
     "output_type": "stream",
     "text": [
      "[0.19978, 0.34112, 0.43068, 0.49832, 0.5575, 0.61314, 0.6623, 0.70332, 0.7397, 0.77524, 0.79962, 0.82182, 0.83522, 0.83804, 0.87922, 0.87306, 0.8842, 0.89466, 0.8987, 0.90914, 0.90894, 0.9189, 0.91948, 0.92112, 0.92672, 0.92258, 0.93722, 0.92838, 0.93398, 0.93806, 0.93946, 0.94386, 0.94648, 0.94236, 0.94432, 0.94802, 0.94026, 0.9518, 0.95108, 0.94916, 0.95346, 0.95284, 0.95358, 0.95598, 0.95528, 0.95548, 0.96062, 0.95726, 0.95474, 0.96404]\n"
     ]
    }
   ],
   "source": [
    "print(trainer.training_accuracy)"
   ]
  },
  {
   "cell_type": "code",
   "execution_count": 28,
   "metadata": {},
   "outputs": [
    {
     "name": "stdout",
     "output_type": "stream",
     "text": [
      "[0.2329, 0.3291, 0.3692, 0.3865, 0.3989, 0.4064, 0.3947, 0.3992, 0.3846, 0.3842, 0.3889, 0.3817, 0.3816, 0.3837, 0.3852, 0.3848, 0.386, 0.3811, 0.3788, 0.3856, 0.3794, 0.3854, 0.3842, 0.3885, 0.3813, 0.3855, 0.3875, 0.3878, 0.3923, 0.3906, 0.3795, 0.3859, 0.39, 0.3853, 0.3917, 0.3902, 0.3898, 0.3917, 0.3879, 0.3914, 0.3969, 0.3886, 0.3869, 0.3935, 0.3813, 0.3909, 0.3938, 0.3807, 0.3865, 0.3924]\n"
     ]
    }
   ],
   "source": [
    "print(trainer.testing_accuracy)"
   ]
  }
 ],
 "metadata": {
  "kernelspec": {
   "display_name": "pytorch_gpu",
   "language": "python",
   "name": "python3"
  },
  "language_info": {
   "codemirror_mode": {
    "name": "ipython",
    "version": 3
   },
   "file_extension": ".py",
   "mimetype": "text/x-python",
   "name": "python",
   "nbconvert_exporter": "python",
   "pygments_lexer": "ipython3",
   "version": "3.11.5"
  }
 },
 "nbformat": 4,
 "nbformat_minor": 2
}
