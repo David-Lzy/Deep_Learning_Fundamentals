{
 "cells": [
  {
   "cell_type": "code",
   "execution_count": 6,
   "metadata": {},
   "outputs": [],
   "source": [
    "from Runner import Trainer\n",
    "from mobilevit import DynamicMobileViT\n",
    "from mobilevit import MobileViT\n",
    "import torch\n",
    "import torchvision\n",
    "import torchvision.transforms as transforms"
   ]
  },
  {
   "cell_type": "code",
   "execution_count": 7,
   "metadata": {},
   "outputs": [],
   "source": [
    "batch_size = 128"
   ]
  },
  {
   "cell_type": "code",
   "execution_count": 8,
   "metadata": {},
   "outputs": [],
   "source": [
    "# 定义数据预处理操作：转换为张量并归一化\n",
    "transform = transforms.Compose(\n",
    "    [transforms.ToTensor(), transforms.Normalize((0.5, 0.5, 0.5), (0.5, 0.5, 0.5))]\n",
    ")\n",
    "\n",
    "# 下载并加载训练集\n",
    "trainset = torchvision.datasets.CIFAR100(\n",
    "    root=\"../Data/cifar-100-python\", train=True, download=False, transform=transform\n",
    ")\n",
    "trainloader = torch.utils.data.DataLoader(\n",
    "    trainset, batch_size=batch_size, shuffle=True, num_workers=2\n",
    ")\n",
    "\n",
    "# 下载并加载测试集\n",
    "testset = torchvision.datasets.CIFAR100(\n",
    "    root=\"../Data/cifar-100-python\", train=False, download=False, transform=transform\n",
    ")\n",
    "testloader = torch.utils.data.DataLoader(\n",
    "    testset, batch_size=batch_size, shuffle=False, num_workers=2\n",
    ")"
   ]
  },
  {
   "cell_type": "code",
   "execution_count": 9,
   "metadata": {},
   "outputs": [],
   "source": [
    "model_parameters = {\n",
    "    \"image_size\": (32, 32),\n",
    "    \"channels\": [16, 16, 24, 24, 32, 32, 48, 48, 64, 64, 120],\n",
    "    \"num_classes\": 100,\n",
    "    \"expansion\": 1,\n",
    "    \"kernel_size\": 3,\n",
    "    \"patch_size\": (1, 1),\n",
    "    \"dims\": [32, 24, 48],\n",
    "    \"L\": [1, 1, 1],\n",
    "}\n",
    "trainer = Trainer(\n",
    "    MobileViT,\n",
    "    (trainloader, testloader),\n",
    "    batch_size=batch_size,\n",
    "    model_p=model_parameters,\n",
    ")\n",
    "trainer.criterion = torch.nn.CrossEntropyLoss()\n",
    "# print(trainer.model)\n",
    "# trainer.run(num_epochs=2, evaluation_interval=1)"
   ]
  },
  {
   "cell_type": "code",
   "execution_count": 10,
   "metadata": {},
   "outputs": [
    {
     "name": "stdout",
     "output_type": "stream",
     "text": [
      "Epoch [2/100], Loss: 3.4191, Training Accuracy: 17.04%, Testing Accuracy: 19.24%, Evaluation Time: 0.57 minutes.\n",
      "Epoch [4/100], Loss: 3.0088, Training Accuracy: 24.72%, Testing Accuracy: 24.30%, Evaluation Time: 1.07 minutes.\n",
      "Epoch [6/100], Loss: 2.7534, Training Accuracy: 29.67%, Testing Accuracy: 27.70%, Evaluation Time: 1.64 minutes.\n",
      "Epoch [8/100], Loss: 2.5657, Training Accuracy: 33.48%, Testing Accuracy: 29.32%, Evaluation Time: 2.08 minutes.\n",
      "Epoch [10/100], Loss: 2.4169, Training Accuracy: 36.42%, Testing Accuracy: 30.33%, Evaluation Time: 3.33 minutes.\n",
      "Epoch [12/100], Loss: 2.2836, Training Accuracy: 39.21%, Testing Accuracy: 30.84%, Evaluation Time: 3.82 minutes.\n",
      "Epoch [14/100], Loss: 2.1656, Training Accuracy: 41.88%, Testing Accuracy: 31.45%, Evaluation Time: 4.39 minutes.\n",
      "Epoch [16/100], Loss: 2.0624, Training Accuracy: 43.87%, Testing Accuracy: 31.02%, Evaluation Time: 4.98 minutes.\n",
      "Epoch [18/100], Loss: 1.9688, Training Accuracy: 46.08%, Testing Accuracy: 31.52%, Evaluation Time: 5.55 minutes.\n",
      "Epoch [20/100], Loss: 1.8819, Training Accuracy: 47.92%, Testing Accuracy: 31.54%, Evaluation Time: 6.05 minutes.\n",
      "Epoch [22/100], Loss: 1.7986, Training Accuracy: 49.84%, Testing Accuracy: 31.59%, Evaluation Time: 6.61 minutes.\n",
      "Epoch [24/100], Loss: 1.7280, Training Accuracy: 51.68%, Testing Accuracy: 30.93%, Evaluation Time: 7.10 minutes.\n",
      "Epoch [26/100], Loss: 1.6597, Training Accuracy: 52.70%, Testing Accuracy: 31.54%, Evaluation Time: 7.66 minutes.\n",
      "Epoch [28/100], Loss: 1.6020, Training Accuracy: 54.57%, Testing Accuracy: 30.95%, Evaluation Time: 8.18 minutes.\n",
      "Epoch [30/100], Loss: 1.5485, Training Accuracy: 55.36%, Testing Accuracy: 30.43%, Evaluation Time: 8.76 minutes.\n",
      "Epoch [32/100], Loss: 1.4891, Training Accuracy: 56.75%, Testing Accuracy: 30.08%, Evaluation Time: 9.25 minutes.\n",
      "Epoch [34/100], Loss: 1.4364, Training Accuracy: 58.11%, Testing Accuracy: 29.97%, Evaluation Time: 9.82 minutes.\n",
      "Epoch [36/100], Loss: 1.4013, Training Accuracy: 58.99%, Testing Accuracy: 29.38%, Evaluation Time: 10.38 minutes.\n",
      "Epoch [38/100], Loss: 1.3433, Training Accuracy: 60.43%, Testing Accuracy: 30.06%, Evaluation Time: 10.84 minutes.\n",
      "Epoch [40/100], Loss: 1.3081, Training Accuracy: 61.20%, Testing Accuracy: 30.05%, Evaluation Time: 11.35 minutes.\n",
      "Epoch [42/100], Loss: 1.2685, Training Accuracy: 62.54%, Testing Accuracy: 29.95%, Evaluation Time: 11.90 minutes.\n",
      "Epoch [44/100], Loss: 1.2315, Training Accuracy: 63.09%, Testing Accuracy: 29.59%, Evaluation Time: 12.38 minutes.\n",
      "Epoch [46/100], Loss: 1.2003, Training Accuracy: 64.17%, Testing Accuracy: 29.68%, Evaluation Time: 12.90 minutes.\n",
      "Epoch [48/100], Loss: 1.1804, Training Accuracy: 64.53%, Testing Accuracy: 29.57%, Evaluation Time: 13.48 minutes.\n",
      "Epoch [50/100], Loss: 1.1390, Training Accuracy: 65.50%, Testing Accuracy: 29.62%, Evaluation Time: 13.99 minutes.\n",
      "Epoch [52/100], Loss: 1.1175, Training Accuracy: 66.15%, Testing Accuracy: 28.91%, Evaluation Time: 14.52 minutes.\n",
      "Epoch [54/100], Loss: 1.0845, Training Accuracy: 66.96%, Testing Accuracy: 29.07%, Evaluation Time: 15.03 minutes.\n",
      "Epoch [56/100], Loss: 1.0590, Training Accuracy: 67.51%, Testing Accuracy: 28.77%, Evaluation Time: 15.53 minutes.\n",
      "Epoch [58/100], Loss: 1.0444, Training Accuracy: 67.80%, Testing Accuracy: 29.03%, Evaluation Time: 16.06 minutes.\n",
      "Epoch [60/100], Loss: 1.0161, Training Accuracy: 68.53%, Testing Accuracy: 29.09%, Evaluation Time: 18.17 minutes.\n",
      "Epoch [62/100], Loss: 0.9960, Training Accuracy: 69.31%, Testing Accuracy: 28.86%, Evaluation Time: 18.69 minutes.\n",
      "Epoch [64/100], Loss: 0.9774, Training Accuracy: 69.77%, Testing Accuracy: 28.93%, Evaluation Time: 19.28 minutes.\n",
      "Epoch [66/100], Loss: 0.9473, Training Accuracy: 70.68%, Testing Accuracy: 28.91%, Evaluation Time: 19.85 minutes.\n",
      "Epoch [68/100], Loss: 0.9350, Training Accuracy: 70.78%, Testing Accuracy: 28.62%, Evaluation Time: 20.37 minutes.\n",
      "Epoch [70/100], Loss: 0.9223, Training Accuracy: 71.36%, Testing Accuracy: 28.61%, Evaluation Time: 20.91 minutes.\n",
      "Epoch [72/100], Loss: 0.9028, Training Accuracy: 71.78%, Testing Accuracy: 28.68%, Evaluation Time: 21.49 minutes.\n",
      "Epoch [74/100], Loss: 0.8920, Training Accuracy: 72.22%, Testing Accuracy: 28.13%, Evaluation Time: 22.06 minutes.\n",
      "Epoch [76/100], Loss: 0.8544, Training Accuracy: 73.24%, Testing Accuracy: 28.53%, Evaluation Time: 22.63 minutes.\n",
      "Epoch [78/100], Loss: 0.8607, Training Accuracy: 73.05%, Testing Accuracy: 28.79%, Evaluation Time: 23.09 minutes.\n",
      "Epoch [80/100], Loss: 0.8387, Training Accuracy: 73.65%, Testing Accuracy: 28.41%, Evaluation Time: 23.66 minutes.\n",
      "Epoch [82/100], Loss: 0.8246, Training Accuracy: 74.12%, Testing Accuracy: 28.38%, Evaluation Time: 24.23 minutes.\n",
      "Epoch [84/100], Loss: 0.8180, Training Accuracy: 74.12%, Testing Accuracy: 28.33%, Evaluation Time: 24.78 minutes.\n",
      "Epoch [86/100], Loss: 0.7906, Training Accuracy: 75.01%, Testing Accuracy: 28.56%, Evaluation Time: 25.29 minutes.\n",
      "Epoch [88/100], Loss: 0.7900, Training Accuracy: 74.99%, Testing Accuracy: 28.18%, Evaluation Time: 25.83 minutes.\n",
      "Epoch [90/100], Loss: 0.7694, Training Accuracy: 75.52%, Testing Accuracy: 28.77%, Evaluation Time: 26.36 minutes.\n",
      "Epoch [92/100], Loss: 0.7681, Training Accuracy: 75.51%, Testing Accuracy: 27.95%, Evaluation Time: 26.88 minutes.\n",
      "Epoch [94/100], Loss: 0.7434, Training Accuracy: 76.24%, Testing Accuracy: 28.46%, Evaluation Time: 27.45 minutes.\n",
      "Epoch [96/100], Loss: 0.7502, Training Accuracy: 76.04%, Testing Accuracy: 28.27%, Evaluation Time: 27.99 minutes.\n",
      "Epoch [98/100], Loss: 0.7172, Training Accuracy: 77.07%, Testing Accuracy: 27.76%, Evaluation Time: 28.56 minutes.\n",
      "Epoch [100/100], Loss: 0.7131, Training Accuracy: 77.22%, Testing Accuracy: 28.07%, Evaluation Time: 29.14 minutes.\n"
     ]
    },
    {
     "data": {
      "text/plain": [
       "(0.7131286484146118, 0.77216, 0.2807)"
      ]
     },
     "execution_count": 10,
     "metadata": {},
     "output_type": "execute_result"
    }
   ],
   "source": [
    "trainer.run(num_epochs=100, evaluation_interval=2)"
   ]
  },
  {
   "cell_type": "code",
   "execution_count": 11,
   "metadata": {},
   "outputs": [
    {
     "name": "stdout",
     "output_type": "stream",
     "text": [
      "[3.4190858989715576, 3.0087532206726073, 2.7534165602111815, 2.5656691762542723, 2.4169405070495604, 2.2836143778991698, 2.1655814651107788, 2.0623785507965087, 1.9687764505767822, 1.88187194190979, 1.7986045309448242, 1.7280376987075805, 1.659698603439331, 1.601972532043457, 1.5485093629455566, 1.4891446794891356, 1.4363870735931397, 1.4013259545898438, 1.34331244556427, 1.308055234298706, 1.2684729134368897, 1.231497126083374, 1.2002534379959107, 1.1803619686889648, 1.1389806715774535, 1.117506157836914, 1.0844607934188844, 1.0589686712265014, 1.0444374114227295, 1.016105242881775, 0.9959681984329224, 0.9774073401641846, 0.947251575088501, 0.9349908704376221, 0.9222757332038879, 0.9027745656204224, 0.8920451081466675, 0.854386298236847, 0.8607156581878662, 0.838674499168396, 0.8246326776504517, 0.8179995373916626, 0.7905793095397949, 0.790003975944519, 0.769409058227539, 0.7681096761322022, 0.7433724959945679, 0.750157596244812, 0.7172436491394043, 0.7131286484146118]\n"
     ]
    }
   ],
   "source": [
    "print(trainer.training_loss)"
   ]
  },
  {
   "cell_type": "code",
   "execution_count": 12,
   "metadata": {},
   "outputs": [
    {
     "name": "stdout",
     "output_type": "stream",
     "text": [
      "[0.17036, 0.24724, 0.29666, 0.33482, 0.3642, 0.3921, 0.41884, 0.43866, 0.4608, 0.47918, 0.49836, 0.51684, 0.527, 0.54574, 0.55362, 0.5675, 0.5811, 0.58988, 0.60426, 0.61202, 0.6254, 0.63088, 0.6417, 0.64532, 0.65502, 0.66152, 0.66956, 0.67508, 0.67802, 0.6853, 0.69312, 0.69766, 0.70678, 0.70776, 0.71358, 0.71776, 0.72218, 0.73244, 0.73054, 0.73652, 0.74122, 0.74118, 0.75008, 0.74992, 0.75518, 0.75506, 0.76238, 0.76044, 0.77072, 0.77216]\n"
     ]
    }
   ],
   "source": [
    "print(trainer.training_accuracy)"
   ]
  },
  {
   "cell_type": "code",
   "execution_count": 13,
   "metadata": {},
   "outputs": [
    {
     "name": "stdout",
     "output_type": "stream",
     "text": [
      "[0.1924, 0.243, 0.277, 0.2932, 0.3033, 0.3084, 0.3145, 0.3102, 0.3152, 0.3154, 0.3159, 0.3093, 0.3154, 0.3095, 0.3043, 0.3008, 0.2997, 0.2938, 0.3006, 0.3005, 0.2995, 0.2959, 0.2968, 0.2957, 0.2962, 0.2891, 0.2907, 0.2877, 0.2903, 0.2909, 0.2886, 0.2893, 0.2891, 0.2862, 0.2861, 0.2868, 0.2813, 0.2853, 0.2879, 0.2841, 0.2838, 0.2833, 0.2856, 0.2818, 0.2877, 0.2795, 0.2846, 0.2827, 0.2776, 0.2807]\n"
     ]
    }
   ],
   "source": [
    "print(trainer.testing_accuracy)"
   ]
  },
  {
   "cell_type": "code",
   "execution_count": 14,
   "metadata": {},
   "outputs": [],
   "source": [
    "model_parameters = {\n",
    "    \"image_size\": (32, 32),\n",
    "    \"channels\": [16, 16, 24, 24, 32, 32, 48, 48, 64, 64, 120],\n",
    "    \"num_classes\": 100,\n",
    "    \"expansion\": 1,\n",
    "    \"kernel_size\": 3,\n",
    "    \"patch_size\": (1, 1),\n",
    "    \"dims\": [32, 24, 48],\n",
    "    \"L\": [2, 2, 2],\n",
    "}\n",
    "trainer = Trainer(\n",
    "    MobileViT,\n",
    "    (trainloader, testloader),\n",
    "    batch_size=batch_size,\n",
    "    model_p=model_parameters,\n",
    ")\n",
    "trainer.criterion = torch.nn.CrossEntropyLoss()"
   ]
  },
  {
   "cell_type": "code",
   "execution_count": 15,
   "metadata": {},
   "outputs": [
    {
     "name": "stdout",
     "output_type": "stream",
     "text": [
      "Epoch [2/100], Loss: 3.5020, Training Accuracy: 15.76%, Testing Accuracy: 17.16%, Evaluation Time: 0.72 minutes.\n",
      "Epoch [4/100], Loss: 3.1130, Training Accuracy: 22.47%, Testing Accuracy: 22.91%, Evaluation Time: 1.43 minutes.\n",
      "Epoch [6/100], Loss: 2.8647, Training Accuracy: 27.46%, Testing Accuracy: 26.07%, Evaluation Time: 2.13 minutes.\n",
      "Epoch [8/100], Loss: 2.6810, Training Accuracy: 31.19%, Testing Accuracy: 27.79%, Evaluation Time: 2.85 minutes.\n",
      "Epoch [10/100], Loss: 2.5338, Training Accuracy: 34.20%, Testing Accuracy: 29.38%, Evaluation Time: 3.57 minutes.\n",
      "Epoch [12/100], Loss: 2.4061, Training Accuracy: 36.96%, Testing Accuracy: 30.28%, Evaluation Time: 4.31 minutes.\n",
      "Epoch [14/100], Loss: 2.2852, Training Accuracy: 39.31%, Testing Accuracy: 29.73%, Evaluation Time: 4.98 minutes.\n",
      "Epoch [16/100], Loss: 2.1782, Training Accuracy: 41.68%, Testing Accuracy: 30.08%, Evaluation Time: 5.69 minutes.\n",
      "Epoch [18/100], Loss: 2.0739, Training Accuracy: 44.02%, Testing Accuracy: 29.66%, Evaluation Time: 6.36 minutes.\n",
      "Epoch [20/100], Loss: 1.9890, Training Accuracy: 45.59%, Testing Accuracy: 29.83%, Evaluation Time: 7.01 minutes.\n",
      "Epoch [22/100], Loss: 1.9013, Training Accuracy: 47.47%, Testing Accuracy: 29.98%, Evaluation Time: 7.64 minutes.\n",
      "Epoch [24/100], Loss: 1.8163, Training Accuracy: 49.85%, Testing Accuracy: 30.00%, Evaluation Time: 8.25 minutes.\n",
      "Epoch [26/100], Loss: 1.7480, Training Accuracy: 51.11%, Testing Accuracy: 29.10%, Evaluation Time: 8.99 minutes.\n",
      "Epoch [28/100], Loss: 1.6742, Training Accuracy: 52.81%, Testing Accuracy: 29.14%, Evaluation Time: 9.59 minutes.\n",
      "Epoch [30/100], Loss: 1.6204, Training Accuracy: 54.09%, Testing Accuracy: 29.07%, Evaluation Time: 10.16 minutes.\n",
      "Epoch [32/100], Loss: 1.5635, Training Accuracy: 55.36%, Testing Accuracy: 29.38%, Evaluation Time: 10.86 minutes.\n",
      "Epoch [34/100], Loss: 1.5077, Training Accuracy: 56.73%, Testing Accuracy: 29.19%, Evaluation Time: 11.51 minutes.\n",
      "Epoch [36/100], Loss: 1.4605, Training Accuracy: 57.91%, Testing Accuracy: 28.32%, Evaluation Time: 12.24 minutes.\n",
      "Epoch [38/100], Loss: 1.4149, Training Accuracy: 58.79%, Testing Accuracy: 28.80%, Evaluation Time: 12.96 minutes.\n",
      "Epoch [40/100], Loss: 1.3678, Training Accuracy: 60.03%, Testing Accuracy: 28.43%, Evaluation Time: 13.69 minutes.\n",
      "Epoch [42/100], Loss: 1.3309, Training Accuracy: 60.72%, Testing Accuracy: 27.95%, Evaluation Time: 14.44 minutes.\n",
      "Epoch [44/100], Loss: 1.2969, Training Accuracy: 61.64%, Testing Accuracy: 28.38%, Evaluation Time: 15.18 minutes.\n",
      "Epoch [46/100], Loss: 1.2711, Training Accuracy: 62.53%, Testing Accuracy: 28.53%, Evaluation Time: 16.74 minutes.\n",
      "Epoch [48/100], Loss: 1.2205, Training Accuracy: 63.59%, Testing Accuracy: 28.49%, Evaluation Time: 17.47 minutes.\n",
      "Epoch [50/100], Loss: 1.2075, Training Accuracy: 63.99%, Testing Accuracy: 28.04%, Evaluation Time: 21.47 minutes.\n",
      "Epoch [52/100], Loss: 1.1579, Training Accuracy: 65.36%, Testing Accuracy: 28.26%, Evaluation Time: 22.14 minutes.\n",
      "Epoch [54/100], Loss: 1.1395, Training Accuracy: 65.81%, Testing Accuracy: 27.80%, Evaluation Time: 22.77 minutes.\n",
      "Epoch [56/100], Loss: 1.1163, Training Accuracy: 66.27%, Testing Accuracy: 27.79%, Evaluation Time: 23.50 minutes.\n",
      "Epoch [58/100], Loss: 1.0913, Training Accuracy: 66.94%, Testing Accuracy: 27.72%, Evaluation Time: 24.16 minutes.\n",
      "Epoch [60/100], Loss: 1.0681, Training Accuracy: 67.19%, Testing Accuracy: 27.94%, Evaluation Time: 24.84 minutes.\n",
      "Epoch [62/100], Loss: 1.0485, Training Accuracy: 68.04%, Testing Accuracy: 27.48%, Evaluation Time: 25.57 minutes.\n",
      "Epoch [64/100], Loss: 1.0233, Training Accuracy: 68.65%, Testing Accuracy: 27.61%, Evaluation Time: 26.22 minutes.\n",
      "Epoch [66/100], Loss: 1.0081, Training Accuracy: 69.05%, Testing Accuracy: 27.33%, Evaluation Time: 26.91 minutes.\n",
      "Epoch [68/100], Loss: 0.9868, Training Accuracy: 69.73%, Testing Accuracy: 27.71%, Evaluation Time: 27.60 minutes.\n",
      "Epoch [70/100], Loss: 0.9639, Training Accuracy: 70.51%, Testing Accuracy: 27.31%, Evaluation Time: 28.32 minutes.\n",
      "Epoch [72/100], Loss: 0.9517, Training Accuracy: 70.82%, Testing Accuracy: 27.53%, Evaluation Time: 29.05 minutes.\n",
      "Epoch [74/100], Loss: 0.9231, Training Accuracy: 71.47%, Testing Accuracy: 27.30%, Evaluation Time: 29.77 minutes.\n",
      "Epoch [76/100], Loss: 0.8945, Training Accuracy: 72.08%, Testing Accuracy: 27.00%, Evaluation Time: 30.50 minutes.\n",
      "Epoch [78/100], Loss: 0.9024, Training Accuracy: 71.80%, Testing Accuracy: 26.83%, Evaluation Time: 31.24 minutes.\n",
      "Epoch [80/100], Loss: 0.8857, Training Accuracy: 72.43%, Testing Accuracy: 27.30%, Evaluation Time: 31.85 minutes.\n",
      "Epoch [82/100], Loss: 0.8633, Training Accuracy: 73.05%, Testing Accuracy: 27.23%, Evaluation Time: 32.39 minutes.\n",
      "Epoch [84/100], Loss: 0.8578, Training Accuracy: 72.86%, Testing Accuracy: 27.19%, Evaluation Time: 33.10 minutes.\n",
      "Epoch [86/100], Loss: 0.8440, Training Accuracy: 73.56%, Testing Accuracy: 26.66%, Evaluation Time: 33.80 minutes.\n",
      "Epoch [88/100], Loss: 0.8312, Training Accuracy: 73.83%, Testing Accuracy: 26.52%, Evaluation Time: 34.39 minutes.\n",
      "Epoch [90/100], Loss: 0.8123, Training Accuracy: 74.30%, Testing Accuracy: 26.78%, Evaluation Time: 35.10 minutes.\n",
      "Epoch [92/100], Loss: 0.8026, Training Accuracy: 74.65%, Testing Accuracy: 26.48%, Evaluation Time: 35.82 minutes.\n",
      "Epoch [94/100], Loss: 0.7956, Training Accuracy: 74.79%, Testing Accuracy: 27.07%, Evaluation Time: 36.39 minutes.\n",
      "Epoch [96/100], Loss: 0.7778, Training Accuracy: 75.27%, Testing Accuracy: 26.65%, Evaluation Time: 37.09 minutes.\n",
      "Epoch [98/100], Loss: 0.7675, Training Accuracy: 75.50%, Testing Accuracy: 26.63%, Evaluation Time: 37.81 minutes.\n",
      "Epoch [100/100], Loss: 0.7596, Training Accuracy: 75.94%, Testing Accuracy: 26.96%, Evaluation Time: 38.53 minutes.\n"
     ]
    },
    {
     "data": {
      "text/plain": [
       "(0.759552387008667, 0.75938, 0.2696)"
      ]
     },
     "execution_count": 15,
     "metadata": {},
     "output_type": "execute_result"
    }
   ],
   "source": [
    "trainer.run(num_epochs=100, evaluation_interval=2)"
   ]
  },
  {
   "cell_type": "code",
   "execution_count": 16,
   "metadata": {},
   "outputs": [
    {
     "name": "stdout",
     "output_type": "stream",
     "text": [
      "[3.5019773052215575, 3.112964429626465, 2.8647163890075684, 2.6809866846466064, 2.533847974395752, 2.406066922302246, 2.285186695098877, 2.178184178237915, 2.0738695896911623, 1.9890137867736817, 1.9013250217437745, 1.8163013061523436, 1.7480451232147216, 1.6742177661514281, 1.6204056224822998, 1.5634689639282227, 1.5077236435699464, 1.4604781145858765, 1.4149060399627686, 1.3677701216888427, 1.330889414138794, 1.296892375717163, 1.2710545194625855, 1.220464069404602, 1.2074856115722656, 1.1579467527008056, 1.139471434249878, 1.1162972702026368, 1.0912715544128417, 1.0680726892852783, 1.0485138195419312, 1.0233423895263671, 1.008140103225708, 0.9868209643936158, 0.9639097208404541, 0.9516988939094544, 0.923060912399292, 0.8944980877685547, 0.9023601582717895, 0.8857070627593994, 0.8633193336486816, 0.8578295569038391, 0.8440482933044433, 0.8311860527420044, 0.8122866067123413, 0.802581768951416, 0.795576923828125, 0.7777548802947998, 0.767508692741394, 0.759552387008667]\n"
     ]
    }
   ],
   "source": [
    "print(trainer.training_loss)"
   ]
  },
  {
   "cell_type": "code",
   "execution_count": 17,
   "metadata": {},
   "outputs": [
    {
     "name": "stdout",
     "output_type": "stream",
     "text": [
      "[0.15764, 0.22468, 0.2746, 0.31188, 0.342, 0.3696, 0.3931, 0.41678, 0.44016, 0.4559, 0.47474, 0.4985, 0.51114, 0.5281, 0.54088, 0.55358, 0.56734, 0.57912, 0.58788, 0.6003, 0.60716, 0.61638, 0.62526, 0.63592, 0.6399, 0.6536, 0.65812, 0.6627, 0.6694, 0.67186, 0.68044, 0.68648, 0.69048, 0.69732, 0.70514, 0.70818, 0.71468, 0.72078, 0.718, 0.7243, 0.73054, 0.72856, 0.73556, 0.73832, 0.74296, 0.74654, 0.7479, 0.7527, 0.75502, 0.75938]\n"
     ]
    }
   ],
   "source": [
    "print(trainer.training_accuracy)"
   ]
  },
  {
   "cell_type": "code",
   "execution_count": 18,
   "metadata": {},
   "outputs": [
    {
     "name": "stdout",
     "output_type": "stream",
     "text": [
      "[0.1716, 0.2291, 0.2607, 0.2779, 0.2938, 0.3028, 0.2973, 0.3008, 0.2966, 0.2983, 0.2998, 0.3, 0.291, 0.2914, 0.2907, 0.2938, 0.2919, 0.2832, 0.288, 0.2843, 0.2795, 0.2838, 0.2853, 0.2849, 0.2804, 0.2826, 0.278, 0.2779, 0.2772, 0.2794, 0.2748, 0.2761, 0.2733, 0.2771, 0.2731, 0.2753, 0.273, 0.27, 0.2683, 0.273, 0.2723, 0.2719, 0.2666, 0.2652, 0.2678, 0.2648, 0.2707, 0.2665, 0.2663, 0.2696]\n"
     ]
    }
   ],
   "source": [
    "print(trainer.testing_accuracy)"
   ]
  },
  {
   "cell_type": "code",
   "execution_count": 19,
   "metadata": {},
   "outputs": [],
   "source": [
    "model_parameters = {\n",
    "    \"image_size\": (32, 32),\n",
    "    \"channels\": [16, 16, 24, 24, 32, 32, 48, 48, 64, 64, 120],\n",
    "    \"num_classes\": 100,\n",
    "    \"expansion\": 1,\n",
    "    \"kernel_size\": 3,\n",
    "    \"patch_size\": (1, 1),\n",
    "    \"dims\": [32, 24, 48],\n",
    "    \"L\": [4, 4, 4],\n",
    "}\n",
    "trainer = Trainer(\n",
    "    MobileViT,\n",
    "    (trainloader, testloader),\n",
    "    batch_size=batch_size,\n",
    "    model_p=model_parameters,\n",
    ")\n",
    "trainer.criterion = torch.nn.CrossEntropyLoss()"
   ]
  },
  {
   "cell_type": "code",
   "execution_count": 20,
   "metadata": {},
   "outputs": [
    {
     "name": "stdout",
     "output_type": "stream",
     "text": [
      "Epoch [2/100], Loss: 3.4980, Training Accuracy: 15.80%, Testing Accuracy: 17.56%, Evaluation Time: 0.80 minutes.\n",
      "Epoch [4/100], Loss: 3.0538, Training Accuracy: 23.70%, Testing Accuracy: 23.54%, Evaluation Time: 1.66 minutes.\n",
      "Epoch [6/100], Loss: 2.7852, Training Accuracy: 28.94%, Testing Accuracy: 27.54%, Evaluation Time: 2.51 minutes.\n",
      "Epoch [8/100], Loss: 2.5893, Training Accuracy: 32.94%, Testing Accuracy: 29.32%, Evaluation Time: 3.35 minutes.\n",
      "Epoch [10/100], Loss: 2.4292, Training Accuracy: 36.22%, Testing Accuracy: 30.95%, Evaluation Time: 4.24 minutes.\n",
      "Epoch [12/100], Loss: 2.2913, Training Accuracy: 39.27%, Testing Accuracy: 31.89%, Evaluation Time: 5.12 minutes.\n",
      "Epoch [14/100], Loss: 2.1738, Training Accuracy: 41.48%, Testing Accuracy: 32.26%, Evaluation Time: 6.01 minutes.\n",
      "Epoch [16/100], Loss: 2.0643, Training Accuracy: 44.16%, Testing Accuracy: 32.05%, Evaluation Time: 6.88 minutes.\n",
      "Epoch [18/100], Loss: 1.9647, Training Accuracy: 46.17%, Testing Accuracy: 31.80%, Evaluation Time: 7.77 minutes.\n",
      "Epoch [20/100], Loss: 1.8704, Training Accuracy: 48.37%, Testing Accuracy: 32.41%, Evaluation Time: 8.64 minutes.\n",
      "Epoch [22/100], Loss: 1.7893, Training Accuracy: 50.33%, Testing Accuracy: 32.07%, Evaluation Time: 9.51 minutes.\n",
      "Epoch [24/100], Loss: 1.7071, Training Accuracy: 51.90%, Testing Accuracy: 32.38%, Evaluation Time: 10.36 minutes.\n",
      "Epoch [26/100], Loss: 1.6265, Training Accuracy: 53.89%, Testing Accuracy: 31.53%, Evaluation Time: 11.25 minutes.\n",
      "Epoch [28/100], Loss: 1.5585, Training Accuracy: 55.23%, Testing Accuracy: 31.58%, Evaluation Time: 12.13 minutes.\n",
      "Epoch [30/100], Loss: 1.5047, Training Accuracy: 56.64%, Testing Accuracy: 31.51%, Evaluation Time: 12.93 minutes.\n",
      "Epoch [32/100], Loss: 1.4344, Training Accuracy: 58.32%, Testing Accuracy: 31.59%, Evaluation Time: 13.82 minutes.\n",
      "Epoch [34/100], Loss: 1.3786, Training Accuracy: 59.74%, Testing Accuracy: 30.63%, Evaluation Time: 14.70 minutes.\n",
      "Epoch [36/100], Loss: 1.3344, Training Accuracy: 60.78%, Testing Accuracy: 30.94%, Evaluation Time: 15.59 minutes.\n",
      "Epoch [38/100], Loss: 1.2879, Training Accuracy: 62.06%, Testing Accuracy: 31.38%, Evaluation Time: 16.63 minutes.\n",
      "Epoch [40/100], Loss: 1.2358, Training Accuracy: 63.29%, Testing Accuracy: 29.96%, Evaluation Time: 17.51 minutes.\n",
      "Epoch [42/100], Loss: 1.2063, Training Accuracy: 63.92%, Testing Accuracy: 30.18%, Evaluation Time: 18.38 minutes.\n",
      "Epoch [44/100], Loss: 1.1653, Training Accuracy: 64.67%, Testing Accuracy: 30.40%, Evaluation Time: 19.18 minutes.\n",
      "Epoch [46/100], Loss: 1.1295, Training Accuracy: 65.91%, Testing Accuracy: 29.90%, Evaluation Time: 20.06 minutes.\n",
      "Epoch [48/100], Loss: 1.1010, Training Accuracy: 66.75%, Testing Accuracy: 30.41%, Evaluation Time: 20.95 minutes.\n",
      "Epoch [50/100], Loss: 1.0685, Training Accuracy: 67.41%, Testing Accuracy: 30.07%, Evaluation Time: 21.84 minutes.\n",
      "Epoch [52/100], Loss: 1.0310, Training Accuracy: 68.41%, Testing Accuracy: 29.76%, Evaluation Time: 22.70 minutes.\n",
      "Epoch [54/100], Loss: 1.0070, Training Accuracy: 69.13%, Testing Accuracy: 29.65%, Evaluation Time: 23.60 minutes.\n",
      "Epoch [56/100], Loss: 0.9800, Training Accuracy: 69.76%, Testing Accuracy: 29.94%, Evaluation Time: 24.49 minutes.\n",
      "Epoch [58/100], Loss: 0.9549, Training Accuracy: 70.41%, Testing Accuracy: 29.53%, Evaluation Time: 25.30 minutes.\n",
      "Epoch [60/100], Loss: 0.9342, Training Accuracy: 71.19%, Testing Accuracy: 29.68%, Evaluation Time: 26.17 minutes.\n",
      "Epoch [62/100], Loss: 0.9117, Training Accuracy: 71.70%, Testing Accuracy: 29.80%, Evaluation Time: 27.05 minutes.\n",
      "Epoch [64/100], Loss: 0.8947, Training Accuracy: 71.95%, Testing Accuracy: 30.05%, Evaluation Time: 27.89 minutes.\n",
      "Epoch [66/100], Loss: 0.8654, Training Accuracy: 73.03%, Testing Accuracy: 29.81%, Evaluation Time: 28.79 minutes.\n",
      "Epoch [68/100], Loss: 0.8594, Training Accuracy: 73.06%, Testing Accuracy: 29.10%, Evaluation Time: 29.67 minutes.\n",
      "Epoch [70/100], Loss: 0.8432, Training Accuracy: 73.56%, Testing Accuracy: 28.88%, Evaluation Time: 30.48 minutes.\n",
      "Epoch [72/100], Loss: 0.8119, Training Accuracy: 74.40%, Testing Accuracy: 29.36%, Evaluation Time: 31.39 minutes.\n",
      "Epoch [74/100], Loss: 0.8069, Training Accuracy: 74.35%, Testing Accuracy: 29.75%, Evaluation Time: 32.27 minutes.\n",
      "Epoch [76/100], Loss: 0.7655, Training Accuracy: 75.75%, Testing Accuracy: 29.14%, Evaluation Time: 33.12 minutes.\n",
      "Epoch [78/100], Loss: 0.7721, Training Accuracy: 75.50%, Testing Accuracy: 29.31%, Evaluation Time: 34.01 minutes.\n",
      "Epoch [80/100], Loss: 0.7503, Training Accuracy: 76.11%, Testing Accuracy: 29.71%, Evaluation Time: 34.86 minutes.\n",
      "Epoch [82/100], Loss: 0.7448, Training Accuracy: 76.36%, Testing Accuracy: 29.25%, Evaluation Time: 35.71 minutes.\n",
      "Epoch [84/100], Loss: 0.7198, Training Accuracy: 77.04%, Testing Accuracy: 28.95%, Evaluation Time: 36.60 minutes.\n",
      "Epoch [86/100], Loss: 0.7181, Training Accuracy: 76.84%, Testing Accuracy: 28.78%, Evaluation Time: 37.44 minutes.\n",
      "Epoch [88/100], Loss: 0.7004, Training Accuracy: 77.47%, Testing Accuracy: 28.91%, Evaluation Time: 38.34 minutes.\n",
      "Epoch [90/100], Loss: 0.6836, Training Accuracy: 77.98%, Testing Accuracy: 29.17%, Evaluation Time: 39.15 minutes.\n",
      "Epoch [92/100], Loss: 0.6750, Training Accuracy: 78.23%, Testing Accuracy: 29.10%, Evaluation Time: 40.07 minutes.\n",
      "Epoch [94/100], Loss: 0.6565, Training Accuracy: 78.76%, Testing Accuracy: 29.14%, Evaluation Time: 40.86 minutes.\n",
      "Epoch [96/100], Loss: 0.6554, Training Accuracy: 78.80%, Testing Accuracy: 29.22%, Evaluation Time: 41.73 minutes.\n",
      "Epoch [98/100], Loss: 0.6362, Training Accuracy: 79.44%, Testing Accuracy: 29.12%, Evaluation Time: 42.53 minutes.\n",
      "Epoch [100/100], Loss: 0.6276, Training Accuracy: 79.89%, Testing Accuracy: 28.45%, Evaluation Time: 43.37 minutes.\n"
     ]
    },
    {
     "data": {
      "text/plain": [
       "(0.6275953834533692, 0.79894, 0.2845)"
      ]
     },
     "execution_count": 20,
     "metadata": {},
     "output_type": "execute_result"
    }
   ],
   "source": [
    "trainer.run(num_epochs=100, evaluation_interval=2)"
   ]
  },
  {
   "cell_type": "code",
   "execution_count": 21,
   "metadata": {},
   "outputs": [
    {
     "name": "stdout",
     "output_type": "stream",
     "text": [
      "[3.498019497756958, 3.053838366317749, 2.7852453778076174, 2.5893282846832277, 2.4292258155822752, 2.291288208999634, 2.173798714141846, 2.0643426042175292, 1.9647015114974975, 1.8704074145507812, 1.7893232022094727, 1.7071468453979493, 1.6265235426330567, 1.5585353890991211, 1.5046790916442871, 1.434417871170044, 1.3785944361114502, 1.334373962135315, 1.2878578089141846, 1.2358365825653077, 1.2063059981536866, 1.1652730263519286, 1.1294804917144776, 1.1009719203948976, 1.0684932780456542, 1.0310154333496093, 1.0070339758682252, 0.9800344459533692, 0.9548569440460205, 0.9342078260040283, 0.9117165096282959, 0.8946539026260376, 0.8653790902709961, 0.8594102194213867, 0.8431697776412964, 0.8119283975982666, 0.806916156539917, 0.7654993887519836, 0.7721072764968872, 0.7502924367141723, 0.7448341409683228, 0.7197928599166871, 0.7181240640258789, 0.7003736082458496, 0.6836212170791626, 0.6749839722061157, 0.6564743186378479, 0.655369147567749, 0.6362202446365356, 0.6275953834533692]\n"
     ]
    }
   ],
   "source": [
    "print(trainer.training_loss)"
   ]
  },
  {
   "cell_type": "code",
   "execution_count": 22,
   "metadata": {},
   "outputs": [
    {
     "name": "stdout",
     "output_type": "stream",
     "text": [
      "[0.15796, 0.23696, 0.28936, 0.3294, 0.3622, 0.39272, 0.41484, 0.44164, 0.46166, 0.48372, 0.50334, 0.519, 0.53886, 0.55232, 0.56638, 0.58316, 0.59738, 0.60784, 0.62062, 0.63294, 0.63916, 0.64674, 0.65914, 0.66748, 0.67412, 0.68414, 0.69128, 0.69764, 0.70414, 0.7119, 0.71702, 0.71952, 0.73034, 0.7306, 0.73556, 0.744, 0.7435, 0.75748, 0.755, 0.76114, 0.76364, 0.77036, 0.76838, 0.77474, 0.77984, 0.78226, 0.7876, 0.78796, 0.79444, 0.79894]\n"
     ]
    }
   ],
   "source": [
    "print(trainer.training_accuracy)"
   ]
  },
  {
   "cell_type": "code",
   "execution_count": 23,
   "metadata": {},
   "outputs": [
    {
     "name": "stdout",
     "output_type": "stream",
     "text": [
      "[0.1756, 0.2354, 0.2754, 0.2932, 0.3095, 0.3189, 0.3226, 0.3205, 0.318, 0.3241, 0.3207, 0.3238, 0.3153, 0.3158, 0.3151, 0.3159, 0.3063, 0.3094, 0.3138, 0.2996, 0.3018, 0.304, 0.299, 0.3041, 0.3007, 0.2976, 0.2965, 0.2994, 0.2953, 0.2968, 0.298, 0.3005, 0.2981, 0.291, 0.2888, 0.2936, 0.2975, 0.2914, 0.2931, 0.2971, 0.2925, 0.2895, 0.2878, 0.2891, 0.2917, 0.291, 0.2914, 0.2922, 0.2912, 0.2845]\n"
     ]
    }
   ],
   "source": [
    "print(trainer.testing_accuracy)"
   ]
  },
  {
   "cell_type": "code",
   "execution_count": 24,
   "metadata": {},
   "outputs": [],
   "source": [
    "model_parameters = {\n",
    "    \"image_size\": (32, 32),\n",
    "    \"channels\": [16, 16, 24, 24, 32, 32, 48, 48, 64, 64, 120],\n",
    "    \"num_classes\": 100,\n",
    "    \"expansion\": 1,\n",
    "    \"kernel_size\": 3,\n",
    "    \"patch_size\": (1, 1),\n",
    "    \"dims\": [32, 24, 48],\n",
    "    \"L\": [8, 8, 8],\n",
    "}\n",
    "trainer = Trainer(\n",
    "    MobileViT,\n",
    "    (trainloader, testloader),\n",
    "    batch_size=batch_size,\n",
    "    model_p=model_parameters,\n",
    ")\n",
    "trainer.criterion = torch.nn.CrossEntropyLoss()"
   ]
  },
  {
   "cell_type": "code",
   "execution_count": 25,
   "metadata": {},
   "outputs": [
    {
     "name": "stdout",
     "output_type": "stream",
     "text": [
      "Epoch [2/100], Loss: 3.5189, Training Accuracy: 15.24%, Testing Accuracy: 17.75%, Evaluation Time: 1.20 minutes.\n",
      "Epoch [4/100], Loss: 3.0765, Training Accuracy: 23.41%, Testing Accuracy: 23.50%, Evaluation Time: 2.40 minutes.\n",
      "Epoch [6/100], Loss: 2.8200, Training Accuracy: 28.39%, Testing Accuracy: 27.12%, Evaluation Time: 3.60 minutes.\n",
      "Epoch [8/100], Loss: 2.6386, Training Accuracy: 31.99%, Testing Accuracy: 28.65%, Evaluation Time: 4.81 minutes.\n",
      "Epoch [10/100], Loss: 2.4856, Training Accuracy: 35.55%, Testing Accuracy: 30.07%, Evaluation Time: 5.96 minutes.\n",
      "Epoch [12/100], Loss: 2.3539, Training Accuracy: 37.93%, Testing Accuracy: 30.85%, Evaluation Time: 7.16 minutes.\n",
      "Epoch [14/100], Loss: 2.2317, Training Accuracy: 40.77%, Testing Accuracy: 30.94%, Evaluation Time: 8.35 minutes.\n",
      "Epoch [16/100], Loss: 2.1701, Training Accuracy: 41.92%, Testing Accuracy: 31.23%, Evaluation Time: 9.56 minutes.\n",
      "Epoch [18/100], Loss: 2.0301, Training Accuracy: 45.01%, Testing Accuracy: 31.32%, Evaluation Time: 11.10 minutes.\n",
      "Epoch [20/100], Loss: 2.2223, Training Accuracy: 40.86%, Testing Accuracy: 31.72%, Evaluation Time: 12.75 minutes.\n",
      "Epoch [22/100], Loss: 1.9373, Training Accuracy: 46.95%, Testing Accuracy: 31.97%, Evaluation Time: 13.95 minutes.\n",
      "Epoch [24/100], Loss: 1.8554, Training Accuracy: 48.57%, Testing Accuracy: 30.92%, Evaluation Time: 15.16 minutes.\n",
      "Epoch [26/100], Loss: 1.8345, Training Accuracy: 49.45%, Testing Accuracy: 30.27%, Evaluation Time: 16.41 minutes.\n",
      "Epoch [28/100], Loss: 1.7075, Training Accuracy: 52.15%, Testing Accuracy: 30.87%, Evaluation Time: 17.60 minutes.\n",
      "Epoch [30/100], Loss: 1.8862, Training Accuracy: 47.64%, Testing Accuracy: 32.04%, Evaluation Time: 18.81 minutes.\n",
      "Epoch [32/100], Loss: 1.6306, Training Accuracy: 53.99%, Testing Accuracy: 31.04%, Evaluation Time: 20.03 minutes.\n",
      "Epoch [34/100], Loss: 1.6417, Training Accuracy: 53.68%, Testing Accuracy: 30.77%, Evaluation Time: 21.23 minutes.\n",
      "Epoch [36/100], Loss: 1.5213, Training Accuracy: 56.58%, Testing Accuracy: 30.41%, Evaluation Time: 25.24 minutes.\n",
      "Epoch [38/100], Loss: 1.4626, Training Accuracy: 57.94%, Testing Accuracy: 30.15%, Evaluation Time: 26.42 minutes.\n",
      "Epoch [40/100], Loss: 1.4181, Training Accuracy: 58.78%, Testing Accuracy: 30.41%, Evaluation Time: 31.22 minutes.\n",
      "Epoch [42/100], Loss: 1.3771, Training Accuracy: 59.55%, Testing Accuracy: 30.00%, Evaluation Time: 32.42 minutes.\n",
      "Epoch [44/100], Loss: 1.3306, Training Accuracy: 61.06%, Testing Accuracy: 29.53%, Evaluation Time: 33.60 minutes.\n",
      "Epoch [46/100], Loss: 1.2894, Training Accuracy: 61.80%, Testing Accuracy: 29.94%, Evaluation Time: 34.78 minutes.\n",
      "Epoch [48/100], Loss: 1.2504, Training Accuracy: 62.75%, Testing Accuracy: 30.02%, Evaluation Time: 35.97 minutes.\n",
      "Epoch [50/100], Loss: 1.2042, Training Accuracy: 63.91%, Testing Accuracy: 29.63%, Evaluation Time: 37.16 minutes.\n",
      "Epoch [52/100], Loss: 1.1720, Training Accuracy: 64.81%, Testing Accuracy: 28.93%, Evaluation Time: 38.35 minutes.\n",
      "Epoch [54/100], Loss: 1.1392, Training Accuracy: 65.79%, Testing Accuracy: 29.35%, Evaluation Time: 39.44 minutes.\n",
      "Epoch [56/100], Loss: 1.1119, Training Accuracy: 66.26%, Testing Accuracy: 29.04%, Evaluation Time: 40.61 minutes.\n",
      "Epoch [58/100], Loss: 1.0835, Training Accuracy: 67.13%, Testing Accuracy: 28.98%, Evaluation Time: 41.80 minutes.\n",
      "Epoch [60/100], Loss: 1.0484, Training Accuracy: 68.32%, Testing Accuracy: 29.09%, Evaluation Time: 42.99 minutes.\n",
      "Epoch [62/100], Loss: 1.0300, Training Accuracy: 68.40%, Testing Accuracy: 28.86%, Evaluation Time: 44.19 minutes.\n",
      "Epoch [64/100], Loss: 1.0021, Training Accuracy: 69.12%, Testing Accuracy: 28.58%, Evaluation Time: 45.28 minutes.\n",
      "Epoch [66/100], Loss: 0.9811, Training Accuracy: 69.82%, Testing Accuracy: 28.12%, Evaluation Time: 46.44 minutes.\n",
      "Epoch [68/100], Loss: 0.9491, Training Accuracy: 70.48%, Testing Accuracy: 29.19%, Evaluation Time: 47.63 minutes.\n",
      "Epoch [70/100], Loss: 0.9288, Training Accuracy: 71.31%, Testing Accuracy: 28.59%, Evaluation Time: 48.84 minutes.\n",
      "Epoch [72/100], Loss: 0.8999, Training Accuracy: 72.03%, Testing Accuracy: 28.84%, Evaluation Time: 50.04 minutes.\n",
      "Epoch [74/100], Loss: 0.8858, Training Accuracy: 72.44%, Testing Accuracy: 28.26%, Evaluation Time: 51.25 minutes.\n",
      "Epoch [76/100], Loss: 0.8652, Training Accuracy: 72.89%, Testing Accuracy: 29.05%, Evaluation Time: 52.44 minutes.\n",
      "Epoch [78/100], Loss: 0.8496, Training Accuracy: 73.31%, Testing Accuracy: 28.26%, Evaluation Time: 53.66 minutes.\n",
      "Epoch [80/100], Loss: 0.8431, Training Accuracy: 73.45%, Testing Accuracy: 28.82%, Evaluation Time: 54.86 minutes.\n",
      "Epoch [82/100], Loss: 0.8272, Training Accuracy: 73.91%, Testing Accuracy: 28.19%, Evaluation Time: 56.08 minutes.\n",
      "Epoch [84/100], Loss: 0.8038, Training Accuracy: 74.79%, Testing Accuracy: 28.31%, Evaluation Time: 57.28 minutes.\n",
      "Epoch [86/100], Loss: 0.7843, Training Accuracy: 75.14%, Testing Accuracy: 27.60%, Evaluation Time: 58.47 minutes.\n",
      "Epoch [88/100], Loss: 0.7825, Training Accuracy: 75.17%, Testing Accuracy: 28.13%, Evaluation Time: 59.67 minutes.\n",
      "Epoch [90/100], Loss: 0.7702, Training Accuracy: 75.64%, Testing Accuracy: 27.91%, Evaluation Time: 60.88 minutes.\n",
      "Epoch [92/100], Loss: 0.7511, Training Accuracy: 76.26%, Testing Accuracy: 27.76%, Evaluation Time: 62.10 minutes.\n",
      "Epoch [94/100], Loss: 0.7378, Training Accuracy: 76.47%, Testing Accuracy: 28.11%, Evaluation Time: 63.30 minutes.\n",
      "Epoch [96/100], Loss: 0.7341, Training Accuracy: 76.77%, Testing Accuracy: 27.63%, Evaluation Time: 64.51 minutes.\n",
      "Epoch [98/100], Loss: 0.7029, Training Accuracy: 77.42%, Testing Accuracy: 28.06%, Evaluation Time: 65.70 minutes.\n",
      "Epoch [100/100], Loss: 0.7066, Training Accuracy: 77.32%, Testing Accuracy: 27.90%, Evaluation Time: 66.90 minutes.\n"
     ]
    },
    {
     "data": {
      "text/plain": [
       "(0.7066279584884644, 0.77316, 0.279)"
      ]
     },
     "execution_count": 25,
     "metadata": {},
     "output_type": "execute_result"
    }
   ],
   "source": [
    "trainer.run(num_epochs=100, evaluation_interval=2)"
   ]
  },
  {
   "cell_type": "code",
   "execution_count": 26,
   "metadata": {},
   "outputs": [
    {
     "name": "stdout",
     "output_type": "stream",
     "text": [
      "[3.5189087438201905, 3.0765277197265624, 2.8199838037872316, 2.6385502876281737, 2.4856247121429442, 2.3538819685363768, 2.231706185913086, 2.1701318574523927, 2.0300799699401857, 2.222310570602417, 1.937295121421814, 1.8554146585083007, 1.8345052201080323, 1.7074525574493409, 1.8861735277557372, 1.630649907913208, 1.6417450317382813, 1.5212689181900025, 1.4626089193344116, 1.418108147239685, 1.3771157383728028, 1.3306201517105103, 1.2893729516220094, 1.2504144491958618, 1.204182473716736, 1.1720201665878296, 1.1392383397674561, 1.1118742541122437, 1.083509314804077, 1.0484346870040893, 1.0300460334014891, 1.002085657119751, 0.981136181716919, 0.9491105242538452, 0.9287825901412964, 0.8999442685127258, 0.8857969707489014, 0.8652159909248353, 0.8496055549812317, 0.8431287126922608, 0.827241945514679, 0.8037792356109619, 0.7843091330337525, 0.7825213677597046, 0.7702117560958862, 0.7511059488868713, 0.7378345978164673, 0.7341190433502197, 0.7029225368499756, 0.7066279584884644]\n"
     ]
    }
   ],
   "source": [
    "print(trainer.training_loss)"
   ]
  },
  {
   "cell_type": "code",
   "execution_count": 27,
   "metadata": {},
   "outputs": [
    {
     "name": "stdout",
     "output_type": "stream",
     "text": [
      "[0.1524, 0.23406, 0.28392, 0.31994, 0.35546, 0.37934, 0.40768, 0.41924, 0.45014, 0.40856, 0.46946, 0.48574, 0.4945, 0.5215, 0.47644, 0.53992, 0.53678, 0.5658, 0.5794, 0.58782, 0.59546, 0.61064, 0.61796, 0.62752, 0.63912, 0.64808, 0.65794, 0.66262, 0.6713, 0.6832, 0.68404, 0.69122, 0.69824, 0.70484, 0.71306, 0.72032, 0.7244, 0.72886, 0.7331, 0.73446, 0.73912, 0.74792, 0.75138, 0.7517, 0.75636, 0.76262, 0.7647, 0.76768, 0.77416, 0.77316]\n"
     ]
    }
   ],
   "source": [
    "print(trainer.training_accuracy)"
   ]
  },
  {
   "cell_type": "code",
   "execution_count": 28,
   "metadata": {},
   "outputs": [
    {
     "name": "stdout",
     "output_type": "stream",
     "text": [
      "[0.1775, 0.235, 0.2712, 0.2865, 0.3007, 0.3085, 0.3094, 0.3123, 0.3132, 0.3172, 0.3197, 0.3092, 0.3027, 0.3087, 0.3204, 0.3104, 0.3077, 0.3041, 0.3015, 0.3041, 0.3, 0.2953, 0.2994, 0.3002, 0.2963, 0.2893, 0.2935, 0.2904, 0.2898, 0.2909, 0.2886, 0.2858, 0.2812, 0.2919, 0.2859, 0.2884, 0.2826, 0.2905, 0.2826, 0.2882, 0.2819, 0.2831, 0.276, 0.2813, 0.2791, 0.2776, 0.2811, 0.2763, 0.2806, 0.279]\n"
     ]
    }
   ],
   "source": [
    "print(trainer.testing_accuracy)"
   ]
  },
  {
   "cell_type": "code",
   "execution_count": 29,
   "metadata": {},
   "outputs": [],
   "source": [
    "model_parameters = {\n",
    "    \"image_size\": (32, 32),\n",
    "    \"channels\": [16, 16, 24, 24, 32, 32, 48, 48, 64, 64, 120],\n",
    "    \"num_classes\": 100,\n",
    "    \"expansion\": 1,\n",
    "    \"kernel_size\": 3,\n",
    "    \"patch_size\": (1, 1),\n",
    "    \"dims\": [32, 24, 48],\n",
    "    \"L\": [16, 16, 16],\n",
    "}\n",
    "trainer = Trainer(\n",
    "    MobileViT,\n",
    "    (trainloader, testloader),\n",
    "    batch_size=batch_size,\n",
    "    model_p=model_parameters,\n",
    ")\n",
    "trainer.criterion = torch.nn.CrossEntropyLoss()"
   ]
  },
  {
   "cell_type": "code",
   "execution_count": 30,
   "metadata": {},
   "outputs": [
    {
     "name": "stdout",
     "output_type": "stream",
     "text": [
      "Epoch [2/100], Loss: 3.4776, Training Accuracy: 16.18%, Testing Accuracy: 18.10%, Evaluation Time: 1.71 minutes.\n",
      "Epoch [4/100], Loss: 3.0612, Training Accuracy: 23.72%, Testing Accuracy: 24.13%, Evaluation Time: 3.43 minutes.\n",
      "Epoch [6/100], Loss: 2.8144, Training Accuracy: 28.40%, Testing Accuracy: 28.14%, Evaluation Time: 5.12 minutes.\n",
      "Epoch [8/100], Loss: 2.7079, Training Accuracy: 30.38%, Testing Accuracy: 29.48%, Evaluation Time: 6.83 minutes.\n",
      "Epoch [10/100], Loss: 2.4772, Training Accuracy: 34.89%, Testing Accuracy: 31.47%, Evaluation Time: 8.55 minutes.\n",
      "Epoch [12/100], Loss: 2.3460, Training Accuracy: 37.78%, Testing Accuracy: 32.77%, Evaluation Time: 10.27 minutes.\n",
      "Epoch [14/100], Loss: 2.2650, Training Accuracy: 39.66%, Testing Accuracy: 33.39%, Evaluation Time: 11.99 minutes.\n",
      "Epoch [16/100], Loss: 2.1500, Training Accuracy: 42.25%, Testing Accuracy: 33.42%, Evaluation Time: 13.65 minutes.\n",
      "Epoch [18/100], Loss: 2.0968, Training Accuracy: 43.35%, Testing Accuracy: 34.40%, Evaluation Time: 15.33 minutes.\n",
      "Epoch [20/100], Loss: 1.9906, Training Accuracy: 45.63%, Testing Accuracy: 33.99%, Evaluation Time: 19.19 minutes.\n",
      "Epoch [22/100], Loss: 2.0520, Training Accuracy: 45.28%, Testing Accuracy: 6.55%, Evaluation Time: 20.85 minutes.\n",
      "Epoch [24/100], Loss: 3.3594, Training Accuracy: 18.92%, Testing Accuracy: 19.57%, Evaluation Time: 26.51 minutes.\n",
      "Epoch [26/100], Loss: 3.1046, Training Accuracy: 23.21%, Testing Accuracy: 22.28%, Evaluation Time: 28.09 minutes.\n",
      "Epoch [28/100], Loss: 2.9044, Training Accuracy: 26.98%, Testing Accuracy: 24.47%, Evaluation Time: 29.70 minutes.\n",
      "Epoch [30/100], Loss: 2.7365, Training Accuracy: 30.22%, Testing Accuracy: 26.90%, Evaluation Time: 31.28 minutes.\n",
      "Epoch [32/100], Loss: 2.5876, Training Accuracy: 33.02%, Testing Accuracy: 28.90%, Evaluation Time: 32.86 minutes.\n",
      "Epoch [34/100], Loss: 2.4431, Training Accuracy: 35.99%, Testing Accuracy: 31.34%, Evaluation Time: 34.41 minutes.\n",
      "Epoch [36/100], Loss: 2.3100, Training Accuracy: 38.62%, Testing Accuracy: 33.13%, Evaluation Time: 35.96 minutes.\n",
      "Epoch [38/100], Loss: 2.1787, Training Accuracy: 41.40%, Testing Accuracy: 34.60%, Evaluation Time: 37.53 minutes.\n",
      "Epoch [40/100], Loss: 2.0845, Training Accuracy: 43.55%, Testing Accuracy: 34.82%, Evaluation Time: 39.08 minutes.\n",
      "Epoch [42/100], Loss: 1.9974, Training Accuracy: 45.77%, Testing Accuracy: 35.36%, Evaluation Time: 40.65 minutes.\n",
      "Epoch [44/100], Loss: 1.9124, Training Accuracy: 47.39%, Testing Accuracy: 35.63%, Evaluation Time: 42.31 minutes.\n",
      "Epoch [46/100], Loss: 1.8496, Training Accuracy: 48.72%, Testing Accuracy: 36.05%, Evaluation Time: 45.22 minutes.\n",
      "Epoch [48/100], Loss: 1.7684, Training Accuracy: 50.59%, Testing Accuracy: 35.59%, Evaluation Time: 46.81 minutes.\n",
      "Epoch [50/100], Loss: 1.6981, Training Accuracy: 52.09%, Testing Accuracy: 35.26%, Evaluation Time: 48.37 minutes.\n",
      "Epoch [52/100], Loss: 1.6368, Training Accuracy: 53.59%, Testing Accuracy: 34.90%, Evaluation Time: 49.92 minutes.\n",
      "Epoch [54/100], Loss: 1.5757, Training Accuracy: 55.05%, Testing Accuracy: 34.85%, Evaluation Time: 51.52 minutes.\n",
      "Epoch [56/100], Loss: 1.5281, Training Accuracy: 56.01%, Testing Accuracy: 34.74%, Evaluation Time: 53.10 minutes.\n",
      "Epoch [58/100], Loss: 1.4727, Training Accuracy: 57.68%, Testing Accuracy: 34.75%, Evaluation Time: 54.66 minutes.\n",
      "Epoch [60/100], Loss: 1.4057, Training Accuracy: 59.17%, Testing Accuracy: 34.59%, Evaluation Time: 56.24 minutes.\n",
      "Epoch [62/100], Loss: 1.3397, Training Accuracy: 60.87%, Testing Accuracy: 33.78%, Evaluation Time: 57.79 minutes.\n",
      "Epoch [64/100], Loss: 1.3697, Training Accuracy: 59.97%, Testing Accuracy: 34.04%, Evaluation Time: 59.37 minutes.\n",
      "Epoch [66/100], Loss: 1.2388, Training Accuracy: 63.38%, Testing Accuracy: 33.80%, Evaluation Time: 60.94 minutes.\n",
      "Epoch [68/100], Loss: 1.1999, Training Accuracy: 64.28%, Testing Accuracy: 33.18%, Evaluation Time: 62.50 minutes.\n",
      "Epoch [70/100], Loss: 1.1581, Training Accuracy: 65.18%, Testing Accuracy: 33.60%, Evaluation Time: 64.32 minutes.\n",
      "Epoch [72/100], Loss: 1.1184, Training Accuracy: 66.19%, Testing Accuracy: 33.22%, Evaluation Time: 65.97 minutes.\n",
      "Epoch [74/100], Loss: 1.0744, Training Accuracy: 67.47%, Testing Accuracy: 32.82%, Evaluation Time: 67.76 minutes.\n",
      "Epoch [76/100], Loss: 1.0438, Training Accuracy: 68.00%, Testing Accuracy: 32.46%, Evaluation Time: 69.47 minutes.\n",
      "Epoch [78/100], Loss: 1.0075, Training Accuracy: 69.24%, Testing Accuracy: 32.03%, Evaluation Time: 71.06 minutes.\n",
      "Epoch [80/100], Loss: 0.9722, Training Accuracy: 69.99%, Testing Accuracy: 32.63%, Evaluation Time: 72.59 minutes.\n",
      "Epoch [82/100], Loss: 0.9442, Training Accuracy: 70.73%, Testing Accuracy: 32.39%, Evaluation Time: 74.16 minutes.\n",
      "Epoch [84/100], Loss: 0.9246, Training Accuracy: 71.34%, Testing Accuracy: 31.99%, Evaluation Time: 75.75 minutes.\n",
      "Epoch [86/100], Loss: 0.8927, Training Accuracy: 72.26%, Testing Accuracy: 32.10%, Evaluation Time: 77.34 minutes.\n",
      "Epoch [88/100], Loss: 0.8634, Training Accuracy: 73.00%, Testing Accuracy: 31.82%, Evaluation Time: 78.93 minutes.\n",
      "Epoch [90/100], Loss: 0.8468, Training Accuracy: 73.38%, Testing Accuracy: 31.90%, Evaluation Time: 80.50 minutes.\n",
      "Epoch [92/100], Loss: 0.8234, Training Accuracy: 73.94%, Testing Accuracy: 31.61%, Evaluation Time: 82.20 minutes.\n",
      "Epoch [94/100], Loss: 0.7995, Training Accuracy: 74.99%, Testing Accuracy: 31.90%, Evaluation Time: 83.77 minutes.\n",
      "Epoch [96/100], Loss: 0.7838, Training Accuracy: 75.14%, Testing Accuracy: 31.38%, Evaluation Time: 85.36 minutes.\n",
      "Epoch [98/100], Loss: 0.7618, Training Accuracy: 75.52%, Testing Accuracy: 31.54%, Evaluation Time: 86.98 minutes.\n",
      "Epoch [100/100], Loss: 0.7401, Training Accuracy: 76.51%, Testing Accuracy: 31.10%, Evaluation Time: 88.52 minutes.\n"
     ]
    },
    {
     "data": {
      "text/plain": [
       "(0.7400591758346557, 0.76514, 0.311)"
      ]
     },
     "execution_count": 30,
     "metadata": {},
     "output_type": "execute_result"
    }
   ],
   "source": [
    "trainer.run(num_epochs=100, evaluation_interval=2)"
   ]
  },
  {
   "cell_type": "code",
   "execution_count": 31,
   "metadata": {},
   "outputs": [
    {
     "name": "stdout",
     "output_type": "stream",
     "text": [
      "[3.4776204496765137, 3.0612045433044432, 2.814395493927002, 2.707860160598755, 2.4772093730163576, 2.3460170156097413, 2.2649988972473145, 2.1500276454162597, 2.096807829284668, 1.990573674545288, 2.0520474060058596, 3.359367085647583, 3.104628169708252, 2.9044155696105958, 2.736483857116699, 2.587608488845825, 2.4431184298706055, 2.309992595214844, 2.1786930686950683, 2.0845184058380126, 1.997387322654724, 1.9123919423675537, 1.8496346821594238, 1.7683898754119873, 1.698121753578186, 1.6367667486190796, 1.575678774986267, 1.5280578650665284, 1.4726791675567628, 1.4056809411621094, 1.339744970550537, 1.3697046784210205, 1.2388226274871825, 1.1999156786727905, 1.1581243187713623, 1.1184458277130127, 1.074403747215271, 1.0437910697174073, 1.00752534614563, 0.9722411350250244, 0.9441750710296631, 0.9246075370025635, 0.8927001003837586, 0.8633565647125244, 0.8467709476280212, 0.8234347775650025, 0.7995040675735474, 0.7837534268569947, 0.7618088320350647, 0.7400591758346557]\n"
     ]
    }
   ],
   "source": [
    "print(trainer.training_loss)"
   ]
  },
  {
   "cell_type": "code",
   "execution_count": 32,
   "metadata": {},
   "outputs": [
    {
     "name": "stdout",
     "output_type": "stream",
     "text": [
      "[0.16176, 0.23716, 0.28404, 0.3038, 0.3489, 0.3778, 0.39658, 0.42254, 0.4335, 0.45626, 0.45278, 0.18924, 0.23208, 0.2698, 0.30216, 0.3302, 0.3599, 0.3862, 0.41402, 0.4355, 0.45766, 0.47392, 0.48718, 0.50594, 0.52094, 0.5359, 0.55048, 0.56008, 0.57676, 0.5917, 0.60868, 0.59974, 0.63376, 0.64284, 0.65178, 0.66186, 0.67474, 0.68002, 0.6924, 0.69988, 0.70728, 0.71338, 0.7226, 0.73004, 0.73384, 0.7394, 0.74994, 0.7514, 0.7552, 0.76514]\n"
     ]
    }
   ],
   "source": [
    "print(trainer.training_accuracy)"
   ]
  },
  {
   "cell_type": "code",
   "execution_count": 33,
   "metadata": {},
   "outputs": [
    {
     "name": "stdout",
     "output_type": "stream",
     "text": [
      "[0.181, 0.2413, 0.2814, 0.2948, 0.3147, 0.3277, 0.3339, 0.3342, 0.344, 0.3399, 0.0655, 0.1957, 0.2228, 0.2447, 0.269, 0.289, 0.3134, 0.3313, 0.346, 0.3482, 0.3536, 0.3563, 0.3605, 0.3559, 0.3526, 0.349, 0.3485, 0.3474, 0.3475, 0.3459, 0.3378, 0.3404, 0.338, 0.3318, 0.336, 0.3322, 0.3282, 0.3246, 0.3203, 0.3263, 0.3239, 0.3199, 0.321, 0.3182, 0.319, 0.3161, 0.319, 0.3138, 0.3154, 0.311]\n"
     ]
    }
   ],
   "source": [
    "print(trainer.testing_accuracy)"
   ]
  }
 ],
 "metadata": {
  "kernelspec": {
   "display_name": "pytorch_gpu",
   "language": "python",
   "name": "python3"
  },
  "language_info": {
   "codemirror_mode": {
    "name": "ipython",
    "version": 3
   },
   "file_extension": ".py",
   "mimetype": "text/x-python",
   "name": "python",
   "nbconvert_exporter": "python",
   "pygments_lexer": "ipython3",
   "version": "3.11.5"
  }
 },
 "nbformat": 4,
 "nbformat_minor": 2
}
